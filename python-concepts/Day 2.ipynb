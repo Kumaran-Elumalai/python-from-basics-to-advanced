{
 "cells": [
  {
   "cell_type": "markdown",
   "id": "c4d497c6-f48c-4012-abfc-9081869b5bec",
   "metadata": {},
   "source": [
    "# Welcome to Day 2 of Python Learning!\n",
    "\n",
    "Congratulations on making it through Day 1 you’ve learned about `keywords`, `variables`, and `object references`.\n",
    "\n",
    "Today, we’re moving forward to **Data Types in Python** — the different kinds of values you can use in your Python programs.  \n",
    "Think of them as categories that define what type of data is being stored, such as integers, floating-point numbers, strings, and more.\n",
    "\n",
    "### Data Types in Python\n",
    "\n",
    "In Python, data types define the kind of value we are working with and determine what operations can be performed on it.  \n",
    "They act like *labels on boxes*, letting Python know what’s inside the box and how it should be handled.\n"
   ]
  },
  {
   "cell_type": "markdown",
   "id": "271788f2-c5a4-458b-a1a6-a365c88e0324",
   "metadata": {},
   "source": [
    "### Built-in Data Types in Python\n",
    "\n",
    "#### Numeric Types\n",
    "- **int** → Whole numbers (e.g., `5`, `-42`)  \n",
    "- **float** → Decimal numbers (e.g., `3.14`, `-0.001`)  \n",
    "- **complex** → Numbers with a real and imaginary part (e.g., `2 + 3j`)  \n",
    "\n",
    "#### Sequence Types\n",
    "- **str** → Strings, i.e., text (e.g., `\"Hello\"`)  \n",
    "- **list** → Ordered, changeable collection (e.g., `[1, 2, 3]`)  \n",
    "- **tuple** → Ordered, unchangeable collection (e.g., `(1, 2, 3)`)  \n",
    "\n",
    "#### Mapping Type\n",
    "- **dict** → Key-value pairs (e.g., `{\"name\": \"Alice\", \"age\": 25}`)  \n",
    "\n",
    "#### Boolean Type\n",
    "- **bool** → `True` or `False`  \n",
    "\n",
    "#### Set Types\n",
    "- **set** → Unordered collection of unique items (e.g., `{1, 2, 3}`)  \n",
    "- **frozenset** → Like set, but immutable (cannot be changed once created)  \n",
    "\n",
    "#### Binary Types\n",
    "- **bytes** → Immutable sequence of bytes  \n",
    "- **bytearray** → Mutable sequence of bytes  \n",
    "- **memoryview** → A way to access the memory of binary objects  \n",
    "\n",
    "\n",
    "Imagine data types as different kinds of “boxes”  you wouldn’t store milk in a toolbox, right?  \n",
    "Similarly, Python chooses the right “box” (data type) to keep things organized.\n"
   ]
  },
  {
   "cell_type": "markdown",
   "id": "00fb37fe-af7b-4632-b335-a798b285df4b",
   "metadata": {},
   "source": [
    "### Numeric Data Types\n",
    "\n",
    "Python uses numeric data types to store numbers. These include integers, floating-point numbers, and complex numbers. Each type is actually a class, and variables are instances of these classes.\n",
    "\n",
    "#### 1. Integers (`int`)\n",
    "- Whole numbers, positive or negative  \n",
    "- No fractions or decimals  \n",
    "- Python can handle very large integers"
   ]
  },
  {
   "cell_type": "code",
   "execution_count": 16,
   "id": "43901d5b-0819-424c-9389-970002452eae",
   "metadata": {},
   "outputs": [
    {
     "name": "stdout",
     "output_type": "stream",
     "text": [
      "42 <class 'int'>\n",
      "-100 <class 'int'>\n"
     ]
    }
   ],
   "source": [
    "x = 42\n",
    "y = -100\n",
    "print(x,type(x))\n",
    "print(y,type(y))"
   ]
  },
  {
   "cell_type": "markdown",
   "id": "95980d76-79fd-4f64-83fb-5113a75e3999",
   "metadata": {},
   "source": [
    "#### 2. Floating-Point Numbers (`float`)\n",
    "- Numbers with a decimal point  \n",
    "- Can also be written in scientific notation using `e` or `E`"
   ]
  },
  {
   "cell_type": "code",
   "execution_count": 17,
   "id": "85e16a1f-845a-40e6-aa96-5c4e013d7b92",
   "metadata": {},
   "outputs": [],
   "source": [
    "y = -0.001\n",
    "z = 2e3  # 2 × 10³ = 2000.0"
   ]
  },
  {
   "cell_type": "code",
   "execution_count": 18,
   "id": "64056fa3-7d3c-4b4c-949e-ee24318ce47e",
   "metadata": {},
   "outputs": [
    {
     "name": "stdout",
     "output_type": "stream",
     "text": [
      "-0.001 <class 'float'>\n",
      "2000.0 <class 'float'>\n"
     ]
    }
   ],
   "source": [
    "print(y,type(y))\n",
    "print(z,type(z))"
   ]
  },
  {
   "cell_type": "markdown",
   "id": "01010988-af78-4447-b757-7a79b05c8758",
   "metadata": {},
   "source": [
    "#### 3. Complex Numbers (`complex`)\n",
    "- Numbers with a real part and an imaginary part  \n",
    "- Imaginary part is written with `j`"
   ]
  },
  {
   "cell_type": "code",
   "execution_count": 19,
   "id": "442f5e0e-336a-42a1-bd69-5e6bf9fc4b99",
   "metadata": {},
   "outputs": [],
   "source": [
    "x = 2 + 3j\n",
    "y = -1 + 5j"
   ]
  },
  {
   "cell_type": "code",
   "execution_count": 20,
   "id": "2730b2c1-7b01-428f-9bee-63c7880ae13a",
   "metadata": {},
   "outputs": [
    {
     "name": "stdout",
     "output_type": "stream",
     "text": [
      "(2+3j) <class 'complex'>\n",
      "(-1+5j) <class 'complex'>\n"
     ]
    }
   ],
   "source": [
    "print(x,type(x))\n",
    "print(y,type(y))"
   ]
  },
  {
   "cell_type": "markdown",
   "id": "34350484-4fc8-4c1e-8ef1-f30fa8e2f09d",
   "metadata": {},
   "source": [
    "### Sequence Data Types\n",
    "\n",
    "A `sequence` is a line of items arranged in order.  \n",
    "Each item has a position, called an **index**.  \n",
    "\n",
    "Sequences allow you to store, access, and work with multiple values easily.  \n",
    "\n",
    "**Examples of sequence types in Python:** `str`, `list`, `tuple`\n",
    "\n",
    "\n",
    "Think of a sequence as a row of lockers — each locker has a number (index), and you can put anything inside or take it out!\n"
   ]
  },
  {
   "cell_type": "markdown",
   "id": "df8eb58c-6a6a-434f-812a-d978404d8856",
   "metadata": {},
   "source": [
    "### String Data Type (`str`)\n",
    "\n",
    "- A string is a **sequence of characters**.  \n",
    "- Python does not have a separate character type a single character is just a string of length 1.  \n",
    "- Strings are represented by the `str` class.  \n",
    "\n",
    "#### Creating Strings\n",
    "Strings can be created using:  \n",
    "- Single quotes: `'Hello'`  \n",
    "- Double quotes: `\"World\"`  \n",
    "- Triple quotes: `'''Python is fun!'''` or `\"\"\"Multiline string\"\"\"`  \n",
    "\n",
    "#### Accessing Characters\n",
    "You can access individual characters using **indexing** (starting from 0):\n"
   ]
  },
  {
   "cell_type": "code",
   "execution_count": 22,
   "id": "0caceebc-b3be-4b05-9348-5da0ec7c2973",
   "metadata": {},
   "outputs": [
    {
     "name": "stdout",
     "output_type": "stream",
     "text": [
      "P\n",
      "h\n"
     ]
    }
   ],
   "source": [
    "text = \"Python\"\n",
    "print(text[0])\n",
    "print(text[3])  "
   ]
  },
  {
   "cell_type": "markdown",
   "id": "2239535b-5211-439d-8bab-d9d99da4ff8a",
   "metadata": {},
   "source": [
    "##### Think of a string as a train where each character is a compartment.  \n",
    "- You can look inside any compartment using its **index number**.  \n",
    "- No matter how long your train is, Python keeps track of each compartment!\n"
   ]
  },
  {
   "cell_type": "markdown",
   "id": "594d60b1-66d9-4fc0-9b1b-37fb2f656e98",
   "metadata": {},
   "source": [
    "### List Data Type (`list`)\n",
    "\n",
    "- A list is an **ordered collection of items**.  \n",
    "- Items can be of any type: numbers, strings, or even other lists.  \n",
    "- Lists are **mutable**, which means you can change, add, or remove items after creating the list.  \n",
    "- Lists are represented by **square brackets** `[ ]`.\n"
   ]
  },
  {
   "cell_type": "code",
   "execution_count": 25,
   "id": "54291848-a73c-49e4-9652-34159897d164",
   "metadata": {},
   "outputs": [
    {
     "name": "stdout",
     "output_type": "stream",
     "text": [
      "['apple', 'banana', 'cherry']\n"
     ]
    }
   ],
   "source": [
    "fruits = [\"apple\", \"banana\", \"cherry\"]\n",
    "print(fruits)         "
   ]
  },
  {
   "cell_type": "code",
   "execution_count": 27,
   "id": "e14f506a-82cd-4017-ad70-721e659e2318",
   "metadata": {},
   "outputs": [
    {
     "name": "stdout",
     "output_type": "stream",
     "text": [
      "apple\n",
      "mango\n",
      "cherry\n"
     ]
    }
   ],
   "source": [
    "# Accessing items\n",
    "print(fruits[0])   \n",
    "print(fruits[1])   \n",
    "print(fruits[-1])  "
   ]
  },
  {
   "cell_type": "markdown",
   "id": "73afca33-5f53-447c-aabc-47217a8c64e0",
   "metadata": {},
   "source": [
    "### Tuples in Python (`tuple`)\n",
    "\n",
    "- A tuple is an **ordered collection of items**, similar to a list.  \n",
    "- Tuples are **immutable**, which means you cannot change items, but you can access them.  \n",
    "- Tuples are written using **parentheses** `( )`.\n"
   ]
  },
  {
   "cell_type": "code",
   "execution_count": 29,
   "id": "ed4e2083-f120-4a85-94f9-265274ffe685",
   "metadata": {},
   "outputs": [
    {
     "name": "stdout",
     "output_type": "stream",
     "text": [
      "red\n",
      "blue\n",
      "blue\n"
     ]
    }
   ],
   "source": [
    "colors = (\"red\", \"green\", \"blue\")\n",
    "\n",
    "# Accessing items\n",
    "print(colors[0])   \n",
    "print(colors[2])   \n",
    "print(colors[-1]) \n"
   ]
  },
  {
   "cell_type": "markdown",
   "id": "98dc26b9-8a29-4c67-bf6b-289451b90d44",
   "metadata": {},
   "source": [
    "### Boolean Data Type (`bool`)\n",
    "\n",
    "- Boolean is a special data type that can only have two values: `True` or `False`.  \n",
    "- Booleans are used to represent **truth values** in Python.  \n",
    "- The Boolean type is represented by the `bool` class.\n"
   ]
  },
  {
   "cell_type": "code",
   "execution_count": 30,
   "id": "c70ca1f7-0a43-4d6c-9016-e00f6b9546b5",
   "metadata": {},
   "outputs": [],
   "source": [
    "is_python_fun = True\n",
    "is_sky_green = False"
   ]
  },
  {
   "cell_type": "code",
   "execution_count": 33,
   "id": "7d93528e-14e0-49b5-a3c9-97e8775454f5",
   "metadata": {},
   "outputs": [
    {
     "name": "stdout",
     "output_type": "stream",
     "text": [
      "True\n",
      "False\n"
     ]
    }
   ],
   "source": [
    "print(is_python_fun)  \n",
    "print(is_sky_green)  "
   ]
  },
  {
   "cell_type": "code",
   "execution_count": 34,
   "id": "5ecbad1a-e323-442d-89b7-e3deb7d6b75c",
   "metadata": {},
   "outputs": [
    {
     "name": "stdout",
     "output_type": "stream",
     "text": [
      "<class 'bool'>\n"
     ]
    }
   ],
   "source": [
    "# Checking the type\n",
    "print(type(is_python_fun)) "
   ]
  },
  {
   "cell_type": "markdown",
   "id": "e505fc9e-bcf8-49f4-92ee-d4c65d4c3f5e",
   "metadata": {},
   "source": [
    "### Truthy and Falsy\n",
    "\n",
    "- **Truthy:** Any value that evaluates to `True` in a Boolean context (e.g., `1`, `\"Hello\"`, `[1, 2]`).  \n",
    "- **Falsy:** Any value that evaluates to `False` (e.g., `0`, `\"\"`, `[]`, `None`).\n"
   ]
  },
  {
   "cell_type": "code",
   "execution_count": 36,
   "id": "02f401ef-f1ad-4bc4-a794-7805cd53da30",
   "metadata": {},
   "outputs": [
    {
     "name": "stdout",
     "output_type": "stream",
     "text": [
      "True\n",
      "False\n",
      "True\n",
      "False\n"
     ]
    }
   ],
   "source": [
    "print(bool(1))       \n",
    "print(bool(0))       \n",
    "print(bool(\"Hello\")) \n",
    "print(bool(\"\")) "
   ]
  },
  {
   "cell_type": "markdown",
   "id": "741e3e6c-3233-4783-9adb-cc0724dafae4",
   "metadata": {},
   "source": [
    "#### Think of Boolean like a light switch 💡  it’s either on (True) or off (False)."
   ]
  },
  {
   "cell_type": "markdown",
   "id": "4aec541f-8511-4a8e-a18b-d14965073ba8",
   "metadata": {},
   "source": [
    "### Set Data Type (`set`)\n",
    "\n",
    "- A set is an **unordered collection of unique items**.  \n",
    "- Sets are written using **curly braces** `{ }` (like dictionaries but without key-value pairs).  \n",
    "- Sets **don’t allow duplicates** and **don’t maintain order**.\n"
   ]
  },
  {
   "cell_type": "code",
   "execution_count": 37,
   "id": "426a8617-ce90-4274-af71-37ad912d135d",
   "metadata": {},
   "outputs": [
    {
     "name": "stdout",
     "output_type": "stream",
     "text": [
      "{'banana', 'apple', 'cherry'}\n"
     ]
    }
   ],
   "source": [
    "fruits = {\"apple\", \"banana\", \"cherry\", \"apple\"}\n",
    "\n",
    "print(fruits)   # (duplicates removed)\n"
   ]
  },
  {
   "cell_type": "markdown",
   "id": "79e1b437-c6d4-4670-aef7-810126db0642",
   "metadata": {},
   "source": [
    "##### Think of a set like a basket of unique fruits, even if you try to add the same fruit again, it won’t duplicate."
   ]
  },
  {
   "cell_type": "markdown",
   "id": "03a15cc5-2d1c-4c57-abb4-1ee79dafeec5",
   "metadata": {},
   "source": [
    "### Dictionary Data Type (`dict`)\n",
    "\n",
    "- A dictionary is an **unordered collection of items**.  \n",
    "- Each item has a **key** and a **value** (like a label and its content).  \n",
    "- Dictionaries are written using **curly braces** `{ }`.  \n"
   ]
  },
  {
   "cell_type": "code",
   "execution_count": 40,
   "id": "ee6289c9-7457-4a4e-8442-df6a14625302",
   "metadata": {},
   "outputs": [],
   "source": [
    "person = {\n",
    "    \"name\": \"John\",\n",
    "    \"age\": 25,\n",
    "    \"city\": \"New York\"\n",
    "}"
   ]
  },
  {
   "cell_type": "code",
   "execution_count": 41,
   "id": "2149bf7a-354d-4b28-8d61-ce8b465fe6cb",
   "metadata": {},
   "outputs": [
    {
     "name": "stdout",
     "output_type": "stream",
     "text": [
      "John\n",
      "25\n"
     ]
    }
   ],
   "source": [
    "# Accessing values by key\n",
    "print(person[\"name\"])  \n",
    "print(person[\"age\"])  \n"
   ]
  },
  {
   "cell_type": "markdown",
   "id": "39e0801d-1c3e-4f4c-814e-68c25dce4b46",
   "metadata": {},
   "source": [
    "##### Think of a dictionary like a real-life dictionary: the word is the key, and the definition is the value."
   ]
  },
  {
   "cell_type": "markdown",
   "id": "3ca3ff15-8ab6-4923-a17b-f7917fa35db2",
   "metadata": {},
   "source": [
    "### Disclaimer\n",
    "\n",
    "We’ve only scratched the surface of **strings, lists, tuples, sets, and dictionaries**.  \n",
    "\n",
    "There’s a lot more to learn, and in the next notebook, we’ll go much deeper, exploring all the useful operations, tricks, and ways to use them in real programs.  \n",
    "\n",
    "So don’t worry, we’ll cover it all **step by step**!\n"
   ]
  },
  {
   "cell_type": "markdown",
   "id": "506050f1-b1f7-4b8f-9ca7-69153ab0491b",
   "metadata": {},
   "source": [
    "---"
   ]
  },
  {
   "cell_type": "markdown",
   "id": "998c0f1d-014e-48c7-8b43-7deb5dcbde81",
   "metadata": {},
   "source": [
    "### Operators in Python\n",
    "\n",
    "In Python, **operators** are special symbols that perform operations on values or variables.\n",
    "\n",
    "- **Operator:** A symbol that tells Python what to do.  \n",
    "  **Examples:** `+`, `*`, `/`  \n",
    "\n",
    "- **Operand:** The value that the operator works on.  \n",
    "  **Example:** In `5 + 3`, `5` and `3` are operands, and `+` is the operator.\n"
   ]
  },
  {
   "cell_type": "markdown",
   "id": "4ca129cf-f704-475f-9c1c-0b594b35935c",
   "metadata": {},
   "source": [
    "### Python Operators at a Glance\n",
    "\n",
    "| Operator Type    | Examples                                      |\n",
    "|-----------------|-----------------------------------------------|\n",
    "| Arithmetic       | `+`, `-`, `*`, `/`, `%`, `**`, `//`         |\n",
    "| Comparison       | `==`, `!=`, `>`, `<`, `>=`, `<=`             |\n",
    "| Logical          | `and`, `or`, `not`                            |\n",
    "| Assignment       | `=`, `+=`, `-=`, `*=`, `/=`, `%=`, `**=`, `//=` |\n",
    "| Bitwise          | `&`, `|`, `^`, `~`, `<<`, `>>`               |\n",
    "| Membership       | `in`, `not in`                                |\n",
    "| Identity         | `is`, `is not`                                |\n"
   ]
  },
  {
   "cell_type": "markdown",
   "id": "4a7e73e5-dca3-4693-a0c6-b260d1559cf9",
   "metadata": {},
   "source": [
    "### Arithmetic Operators\n",
    "\n",
    "Arithmetic operators are used to perform basic math operations such as **addition, subtraction, multiplication, and division**.\n"
   ]
  },
  {
   "cell_type": "code",
   "execution_count": 42,
   "id": "ae6c38c1-7008-4d0c-9b30-a99bcb0ae525",
   "metadata": {},
   "outputs": [],
   "source": [
    "# Variables\n",
    "a = 15\n",
    "b = 4"
   ]
  },
  {
   "cell_type": "code",
   "execution_count": 44,
   "id": "764887d3-fda4-4fb0-b656-3f1561c137e1",
   "metadata": {},
   "outputs": [
    {
     "name": "stdout",
     "output_type": "stream",
     "text": [
      "Addition: 19\n"
     ]
    }
   ],
   "source": [
    "# Addition\n",
    "print(\"Addition:\", a + b)  "
   ]
  },
  {
   "cell_type": "code",
   "execution_count": 45,
   "id": "7562df62-8d60-469d-af15-efc1a7844f74",
   "metadata": {},
   "outputs": [
    {
     "name": "stdout",
     "output_type": "stream",
     "text": [
      "Subtraction: 11\n"
     ]
    }
   ],
   "source": [
    "# Subtraction\n",
    "print(\"Subtraction:\", a - b)"
   ]
  },
  {
   "cell_type": "code",
   "execution_count": 46,
   "id": "7910934e-8718-43bb-9feb-795886d9b901",
   "metadata": {},
   "outputs": [
    {
     "name": "stdout",
     "output_type": "stream",
     "text": [
      "Multiplication: 60\n"
     ]
    }
   ],
   "source": [
    "# Multiplication\n",
    "print(\"Multiplication:\", a * b)"
   ]
  },
  {
   "cell_type": "code",
   "execution_count": 47,
   "id": "b15bf726-8d22-4093-8a2c-847c11208aad",
   "metadata": {},
   "outputs": [
    {
     "name": "stdout",
     "output_type": "stream",
     "text": [
      "Division: 3.75\n"
     ]
    }
   ],
   "source": [
    "# Division\n",
    "print(\"Division:\", a / b)"
   ]
  },
  {
   "cell_type": "code",
   "execution_count": 48,
   "id": "fcf7d159-f0ac-47e2-973f-d20b85dc3d5f",
   "metadata": {},
   "outputs": [
    {
     "name": "stdout",
     "output_type": "stream",
     "text": [
      "Floor Division: 3\n"
     ]
    }
   ],
   "source": [
    "# Floor Division\n",
    "print(\"Floor Division:\", a // b)"
   ]
  },
  {
   "cell_type": "code",
   "execution_count": 49,
   "id": "1836dce9-e9ef-416c-a9c4-182c4c985878",
   "metadata": {},
   "outputs": [
    {
     "name": "stdout",
     "output_type": "stream",
     "text": [
      "Modulus: 3\n"
     ]
    }
   ],
   "source": [
    "# Modulus\n",
    "print(\"Modulus:\", a % b)"
   ]
  },
  {
   "cell_type": "code",
   "execution_count": 50,
   "id": "0509621f-ff32-4188-8a5f-cf8bc4081952",
   "metadata": {},
   "outputs": [
    {
     "name": "stdout",
     "output_type": "stream",
     "text": [
      "Exponentiation: 50625\n"
     ]
    }
   ],
   "source": [
    "# Exponentiation\n",
    "print(\"Exponentiation:\", a ** b)"
   ]
  },
  {
   "cell_type": "markdown",
   "id": "5fd96793-94e7-425f-a9b3-c9767aa23cfb",
   "metadata": {},
   "source": [
    "#### Note\n",
    "Difference between `/` and `//`:\n",
    "\n",
    "`/` division operator always returns a floating-point number."
   ]
  },
  {
   "cell_type": "code",
   "execution_count": 51,
   "id": "b074cba0-dad8-41ae-9c95-563b5e9f8287",
   "metadata": {},
   "outputs": [
    {
     "name": "stdout",
     "output_type": "stream",
     "text": [
      "2.5\n"
     ]
    }
   ],
   "source": [
    "print(5 / 2)  "
   ]
  },
  {
   "cell_type": "markdown",
   "id": "63e78cf4-95db-4174-a750-6e0be90b3092",
   "metadata": {},
   "source": [
    "`//` floor division operator returns the integer part of the division (rounds down)."
   ]
  },
  {
   "cell_type": "code",
   "execution_count": 52,
   "id": "2708f68f-2aa7-4fea-9802-5265e6b04202",
   "metadata": {},
   "outputs": [
    {
     "name": "stdout",
     "output_type": "stream",
     "text": [
      "2\n"
     ]
    }
   ],
   "source": [
    "print(5 // 2)  "
   ]
  },
  {
   "cell_type": "markdown",
   "id": "305ab2ac-bc93-4396-a02d-83632e335529",
   "metadata": {},
   "source": [
    "**Use `//` when you just need the `whole number result`, and `/` when you want the `exact result with decimals`.**"
   ]
  },
  {
   "cell_type": "markdown",
   "id": "e9fae824-be93-489c-b5c0-9ce9198e1fc0",
   "metadata": {},
   "source": [
    "### Comparison Operators\n",
    "\n",
    "Comparison operators are used to **compare values**.  \n",
    "The result of a comparison is always a **Boolean** (`True` or `False`).\n"
   ]
  },
  {
   "cell_type": "code",
   "execution_count": 53,
   "id": "68e15c0e-e4d0-41fe-8a58-65f8bf4eedc0",
   "metadata": {},
   "outputs": [
    {
     "name": "stdout",
     "output_type": "stream",
     "text": [
      "False\n",
      "True\n",
      "False\n",
      "True\n",
      "False\n",
      "True\n"
     ]
    }
   ],
   "source": [
    "b = 33\n",
    "\n",
    "print(a > b)\n",
    "print(a < b)\n",
    "print(a == b)\n",
    "print(a != b)\n",
    "print(a >= b)\n",
    "print(a <= b)"
   ]
  },
  {
   "cell_type": "markdown",
   "id": "d9109628-a0c9-4acb-9921-9de8b0603830",
   "metadata": {},
   "source": [
    "### Logical Operators\n",
    "\n",
    "Logical operators are used to **combine or modify Boolean conditions**. They return `True` or `False`.\n",
    "\n",
    "| Operator | Meaning      | Example        | Result  |\n",
    "|----------|-------------|----------------|---------|\n",
    "| `and`    | Logical AND  | `True and False` | `False` |\n",
    "| `or`     | Logical OR   | `True or False`  | `True`  |\n",
    "| `not`    | Logical NOT  | `not True`      | `False` |\n",
    "\n",
    "#### Operator Precedence\n",
    "1. `not` (highest priority)  \n",
    "2. `and`  \n",
    "3. `or` (lowest priority)\n"
   ]
  },
  {
   "cell_type": "code",
   "execution_count": 54,
   "id": "0ee06d10-7afe-44a7-9a18-ace602def7ab",
   "metadata": {},
   "outputs": [],
   "source": [
    "a = True\n",
    "b = False"
   ]
  },
  {
   "cell_type": "code",
   "execution_count": 55,
   "id": "6c539c32-30fa-48ef-8311-0000ffd2ec71",
   "metadata": {},
   "outputs": [
    {
     "name": "stdout",
     "output_type": "stream",
     "text": [
      "False\n"
     ]
    }
   ],
   "source": [
    "print(a and b)"
   ]
  },
  {
   "cell_type": "code",
   "execution_count": 56,
   "id": "280a1bc7-c1d7-41e5-8a1b-d1334a4429d2",
   "metadata": {},
   "outputs": [
    {
     "name": "stdout",
     "output_type": "stream",
     "text": [
      "True\n"
     ]
    }
   ],
   "source": [
    "print(a or b)"
   ]
  },
  {
   "cell_type": "code",
   "execution_count": 57,
   "id": "59a09c21-6152-47b4-8124-7a694e264329",
   "metadata": {},
   "outputs": [
    {
     "name": "stdout",
     "output_type": "stream",
     "text": [
      "False\n"
     ]
    }
   ],
   "source": [
    "print(not a)"
   ]
  },
  {
   "cell_type": "markdown",
   "id": "c232acc1-8be7-40e9-bd7b-40c0e64b5a80",
   "metadata": {},
   "source": [
    "### Bitwise Operators\n",
    "\n",
    "Bitwise operators work on the **binary representation of numbers** and perform operations on each individual bit.\n"
   ]
  },
  {
   "cell_type": "code",
   "execution_count": 58,
   "id": "51dbe56a-626c-4513-9727-6712eb263f3e",
   "metadata": {},
   "outputs": [],
   "source": [
    "a = 10\n",
    "b = 4"
   ]
  },
  {
   "cell_type": "code",
   "execution_count": 59,
   "id": "e0358f6e-dce1-45cc-bece-924b236e5473",
   "metadata": {},
   "outputs": [
    {
     "name": "stdout",
     "output_type": "stream",
     "text": [
      "0\n",
      "14\n",
      "-11\n",
      "14\n",
      "2\n",
      "40\n"
     ]
    }
   ],
   "source": [
    "print(a & b)\n",
    "print(a | b)\n",
    "print(~a)\n",
    "print(a ^ b)\n",
    "print(a >> 2)\n",
    "print(a << 2)"
   ]
  },
  {
   "cell_type": "markdown",
   "id": "0a63eb22-32e4-4afa-893f-703223e632e9",
   "metadata": {},
   "source": [
    "### Assignment Operators\n",
    "\n",
    "Assignment operators are used to **store values in variables**. They can also update the value of a variable in a shorthand way.\n",
    "\n",
    "| Operator | Meaning               | Example     | Result        |\n",
    "|----------|---------------------|------------|---------------|\n",
    "| `=`      | Assign               | `x = 5`    | `5`           |\n",
    "| `+=`     | Add and assign       | `x += 3`   | `x = x + 3`   |\n",
    "| `-=`     | Subtract and assign  | `x -= 2`   | `x = x - 2`   |\n",
    "| `*=`     | Multiply and assign  | `x *= 4`   | `x = x * 4`   |\n",
    "| `/=`     | Divide and assign    | `x /= 2`   | `x = x / 2`   |\n",
    "| `%=`     | Modulus and assign   | `x %= 3`   | `x = x % 3`   |\n",
    "| `**=`    | Exponent and assign  | `x **= 2`  | `x = x ** 2`  |\n",
    "| `//=`    | Floor divide and assign | `x //= 2` | `x = x // 2` |\n",
    "\n",
    "These are like shortcuts to **update a variable** without rewriting the whole expression.\n"
   ]
  },
  {
   "cell_type": "code",
   "execution_count": 61,
   "id": "18c1168c-9775-4346-a4ab-a844b861dad7",
   "metadata": {},
   "outputs": [],
   "source": [
    "a = 10\n",
    "b = a"
   ]
  },
  {
   "cell_type": "code",
   "execution_count": 62,
   "id": "04f0c325-38be-4cfa-8acc-0dd7f7545d79",
   "metadata": {},
   "outputs": [
    {
     "name": "stdout",
     "output_type": "stream",
     "text": [
      "10\n"
     ]
    }
   ],
   "source": [
    "print(b)"
   ]
  },
  {
   "cell_type": "code",
   "execution_count": 63,
   "id": "b27406da-7867-4c39-9844-47b7b3e8b91c",
   "metadata": {},
   "outputs": [
    {
     "name": "stdout",
     "output_type": "stream",
     "text": [
      "20\n"
     ]
    }
   ],
   "source": [
    "b += a\n",
    "print(b)"
   ]
  },
  {
   "cell_type": "code",
   "execution_count": 64,
   "id": "8eeac8a7-b047-48e8-99c3-4459453edf10",
   "metadata": {},
   "outputs": [
    {
     "name": "stdout",
     "output_type": "stream",
     "text": [
      "10\n"
     ]
    }
   ],
   "source": [
    "b -= a\n",
    "print(b)"
   ]
  },
  {
   "cell_type": "code",
   "execution_count": 65,
   "id": "38be576d-a968-409c-95e4-1e921742cc72",
   "metadata": {},
   "outputs": [
    {
     "name": "stdout",
     "output_type": "stream",
     "text": [
      "100\n"
     ]
    }
   ],
   "source": [
    "b *= a\n",
    "print(b)"
   ]
  },
  {
   "cell_type": "code",
   "execution_count": 66,
   "id": "3bc31c20-8fe1-49c9-accb-b8ce56ce2e42",
   "metadata": {},
   "outputs": [
    {
     "name": "stdout",
     "output_type": "stream",
     "text": [
      "102400\n"
     ]
    }
   ],
   "source": [
    "b <<= a\n",
    "print(b)"
   ]
  },
  {
   "cell_type": "markdown",
   "id": "a01f9b8c-730d-46c5-a250-76f4a0f8faf3",
   "metadata": {},
   "source": [
    "### Identity Operators\n",
    "\n",
    "Identity operators check whether two variables **refer to the same object in memory**.\n",
    "\n",
    "| Operator  | Meaning                             | Example    | Result       |\n",
    "|-----------|------------------------------------|-----------|-------------|\n",
    "| `is`      | True if both variables point to the same object | `a is b`  | `True/False` |\n",
    "| `is not`  | True if variables point to different objects   | `a is not b` | `True/False` |\n",
    "\n",
    "\n",
    "Two things can look equal (`==`) but not be the same object (`is`).  \n",
    "Think of it like **two identical twins** — they look the same but are different people.\n"
   ]
  },
  {
   "cell_type": "code",
   "execution_count": 67,
   "id": "3cc4de61-a490-4571-a699-919141ea0322",
   "metadata": {},
   "outputs": [],
   "source": [
    "a = 10\n",
    "b = 20\n",
    "c = a"
   ]
  },
  {
   "cell_type": "code",
   "execution_count": 68,
   "id": "3c6f4696-bbc8-460a-bdcd-e2dc32c5ea79",
   "metadata": {},
   "outputs": [
    {
     "name": "stdout",
     "output_type": "stream",
     "text": [
      "True\n"
     ]
    }
   ],
   "source": [
    "print(a is not b)"
   ]
  },
  {
   "cell_type": "code",
   "execution_count": 69,
   "id": "16a49c19-15a3-40eb-9365-1aaa356fdb25",
   "metadata": {},
   "outputs": [
    {
     "name": "stdout",
     "output_type": "stream",
     "text": [
      "True\n"
     ]
    }
   ],
   "source": [
    "print(a is c)"
   ]
  },
  {
   "cell_type": "code",
   "execution_count": 70,
   "id": "3a175084-12a3-4140-9dcc-e523be741cca",
   "metadata": {},
   "outputs": [],
   "source": [
    "# Two separate lists with the same content\n",
    "list1 = [1, 2, 3]\n",
    "list2 = [1, 2, 3]"
   ]
  },
  {
   "cell_type": "code",
   "execution_count": 71,
   "id": "17edc6b9-9166-4dd7-afe8-cd1c42c07950",
   "metadata": {},
   "outputs": [
    {
     "name": "stdout",
     "output_type": "stream",
     "text": [
      "True\n"
     ]
    }
   ],
   "source": [
    "# == checks if the values are equal\n",
    "print(list1 == list2)   # True, because values are the same"
   ]
  },
  {
   "cell_type": "code",
   "execution_count": 72,
   "id": "a6a1aff1-39d5-4964-9a42-76193d48505a",
   "metadata": {},
   "outputs": [
    {
     "name": "stdout",
     "output_type": "stream",
     "text": [
      "False\n"
     ]
    }
   ],
   "source": [
    "# is checks if both variables refer to the same object in memory\n",
    "print(list1 is list2)   # False, because they are different objects"
   ]
  },
  {
   "cell_type": "markdown",
   "id": "dc6aa41a-98d0-4d9c-a561-604f1bb137d9",
   "metadata": {},
   "source": [
    "**Note:** `==` is about value equality, `is` is about object identity."
   ]
  },
  {
   "cell_type": "markdown",
   "id": "6d0aab5e-0f53-4966-a296-0dec10204db7",
   "metadata": {},
   "source": [
    "### Membership Operators\n",
    "\n",
    "Membership operators are used to **check if a value exists in a sequence** (like a list, tuple, or string).\n",
    "\n",
    "| Operator  | Meaning                                     | Example           | Result  |\n",
    "|-----------|--------------------------------------------|-----------------|---------|\n",
    "| `in`      | True if the value is found in the sequence | `'a' in 'apple'` | `True`  |\n",
    "| `not in`  | True if the value is not found in the sequence | `'b' not in 'apple'` | `True`  |\n"
   ]
  },
  {
   "cell_type": "code",
   "execution_count": 73,
   "id": "29000ee2-cf27-45d7-a9ec-3af7f5f7fd5d",
   "metadata": {},
   "outputs": [],
   "source": [
    "fruits = ['apple', 'banana', 'cherry']"
   ]
  },
  {
   "cell_type": "code",
   "execution_count": 74,
   "id": "4086fce2-0e9f-4407-9512-94140f1fcfb1",
   "metadata": {},
   "outputs": [
    {
     "name": "stdout",
     "output_type": "stream",
     "text": [
      "True\n"
     ]
    }
   ],
   "source": [
    "print('apple' in fruits)  "
   ]
  },
  {
   "cell_type": "code",
   "execution_count": 75,
   "id": "5ca89860-4966-44db-aea6-e6039719b442",
   "metadata": {},
   "outputs": [
    {
     "name": "stdout",
     "output_type": "stream",
     "text": [
      "True\n"
     ]
    }
   ],
   "source": [
    "print('orange' not in fruits)"
   ]
  },
  {
   "cell_type": "markdown",
   "id": "a48fb90a-707c-4922-b7bd-02b9c2655d19",
   "metadata": {},
   "source": [
    "### Ternary Operator (Conditional Expression)\n",
    "\n",
    "The **ternary operator** allows you to write a short `if-else` statement in a single line.  \n",
    "It checks a condition and returns one value if `True`, and another if `False`.\n"
   ]
  },
  {
   "cell_type": "markdown",
   "id": "0966e084-60e1-40f0-b0b6-b53bfc5eb65c",
   "metadata": {},
   "source": [
    "##### Syntax\n",
    "```python\n",
    "[on_true] if [condition] else [on_false]\n"
   ]
  },
  {
   "cell_type": "code",
   "execution_count": 76,
   "id": "4392a896-00b2-47d1-bf01-aa1c32d8de9c",
   "metadata": {},
   "outputs": [],
   "source": [
    "a, b = 10, 20\n",
    "min = a if a < b else b"
   ]
  },
  {
   "cell_type": "code",
   "execution_count": 77,
   "id": "68bea218-8777-480f-8940-ab367538c5ee",
   "metadata": {},
   "outputs": [
    {
     "name": "stdout",
     "output_type": "stream",
     "text": [
      "10\n"
     ]
    }
   ],
   "source": [
    "print(min)"
   ]
  },
  {
   "cell_type": "markdown",
   "id": "906c3a15-79ad-4ccf-9881-bbf2377d902d",
   "metadata": {},
   "source": [
    "### Precedence and Associativity of Operators\n",
    "\n",
    "When an expression has more than one operator, Python follows rules to decide **which operation happens first**.\n",
    "\n",
    "#### 1. Operator Precedence\n",
    "Precedence is the **priority of operators**.  \n",
    "If operators have different precedence, the one with **higher precedence** is evaluated first.\n"
   ]
  },
  {
   "cell_type": "code",
   "execution_count": 78,
   "id": "77566b89-48f2-4bd1-aa4f-b459cefb80c2",
   "metadata": {},
   "outputs": [
    {
     "name": "stdout",
     "output_type": "stream",
     "text": [
      "14\n"
     ]
    }
   ],
   "source": [
    "result = 2 + 3 * 4\n",
    "print(result)"
   ]
  },
  {
   "cell_type": "markdown",
   "id": "b32dc4f5-f185-40ee-8b5d-109c5a0018d9",
   "metadata": {},
   "source": [
    "- 14, because `*` has higher precedence than `+`"
   ]
  },
  {
   "cell_type": "markdown",
   "id": "52f22a69-f092-4fba-afd6-0eab4261e6f3",
   "metadata": {},
   "source": [
    "#### 2. Operator Associativity\n",
    "\n",
    "Associativity is used when **two or more operators have the same precedence**.  \n",
    "It decides the **order in which operators of the same precedence are evaluated**.  \n",
    "\n",
    "- Associativity can be **Left to Right** or **Right to Left** depending on the operator.\n"
   ]
  },
  {
   "cell_type": "code",
   "execution_count": 82,
   "id": "1bdd7e89-387f-4b8b-87bb-e24f617bec2d",
   "metadata": {},
   "outputs": [
    {
     "name": "stdout",
     "output_type": "stream",
     "text": [
      "7\n"
     ]
    }
   ],
   "source": [
    "# Example (Left to Right)\n",
    "result = 10 - 5 + 2\n",
    "print(result)  "
   ]
  },
  {
   "cell_type": "markdown",
   "id": "f14b0dad-e7e2-4989-8d87-8900e1b5ec21",
   "metadata": {},
   "source": [
    " **7**, evaluated as `(10 - 5) + 2`"
   ]
  },
  {
   "cell_type": "code",
   "execution_count": 83,
   "id": "34786b94-1c36-49c3-a03f-505133b9e880",
   "metadata": {},
   "outputs": [
    {
     "name": "stdout",
     "output_type": "stream",
     "text": [
      "512\n"
     ]
    }
   ],
   "source": [
    "# Example (Right to Left)\n",
    "result = 2 ** 3 ** 2\n",
    "print(result)  "
   ]
  },
  {
   "cell_type": "markdown",
   "id": "7f005beb-9e89-4bcf-a6d4-bf691dbee6fc",
   "metadata": {},
   "source": [
    "**512**, evaluated as `2 ** (3 ** 2)`"
   ]
  },
  {
   "cell_type": "markdown",
   "id": "66ef126b-5869-426b-965f-ced481913c6a",
   "metadata": {},
   "source": [
    "# Introduction to Conditional Statements in Python\n",
    "\n",
    "Imagine you’re at a traffic light.\n",
    "\n",
    "If the light is green → you go.  \n",
    "If it’s red → you stop.  \n",
    "If it’s yellow → you slow down.\n",
    "\n",
    "This is exactly what conditional statements do in Python: they let your program make decisions based on conditions.\n",
    "\n",
    "Without conditions, a program would just run top-to-bottom with no flexibility. With conditions, your program becomes smart enough to act differently in different situations.\n"
   ]
  },
  {
   "cell_type": "markdown",
   "id": "f97c01f1-606c-4f8d-9413-17ac9094f78f",
   "metadata": {},
   "source": [
    "### 1. if Statement  \n",
    "\n",
    "The **if statement** checks a condition, and if it’s **true**, the block of code inside runs.  \n",
    "If the condition is **false**, nothing happens.\n"
   ]
  },
  {
   "cell_type": "code",
   "execution_count": 2,
   "id": "2fae58ae-5fb4-4deb-b11b-6df46f83f52e",
   "metadata": {},
   "outputs": [
    {
     "name": "stdout",
     "output_type": "stream",
     "text": [
      "You are eligible to vote.\n"
     ]
    }
   ],
   "source": [
    "age = 20\n",
    "\n",
    "if age >= 18:\n",
    "    print(\"You are eligible to vote.\")"
   ]
  },
  {
   "cell_type": "markdown",
   "id": "cf3f2eab-f169-4d27-a9e6-d4cecfe84bb2",
   "metadata": {},
   "source": [
    "### 2. Shorthand if  \n",
    "\n",
    "If you have just a **single line of code** to execute, you can write it in a **shorthand form**.  \n",
    "Use shorthand only for very short conditions; it keeps code clean.\n"
   ]
  },
  {
   "cell_type": "code",
   "execution_count": 3,
   "id": "7fe994ab-8a43-4833-875f-7525492c8a96",
   "metadata": {},
   "outputs": [
    {
     "name": "stdout",
     "output_type": "stream",
     "text": [
      "Great job!\n"
     ]
    }
   ],
   "source": [
    "marks = 90\n",
    "\n",
    "if marks > 80: print(\"Great job!\")\n"
   ]
  },
  {
   "cell_type": "markdown",
   "id": "0ddb61ef-548d-4676-afa1-4913c5df9298",
   "metadata": {},
   "source": [
    "### 3. if-else Statement\n",
    "\n",
    "If you want the program to do one thing if the condition is **true**, and something else if it is **false**, that’s where the **if-else statement** comes in.\n"
   ]
  },
  {
   "cell_type": "code",
   "execution_count": 5,
   "id": "f1d6dfaa-73f3-4223-a096-4a05da13c979",
   "metadata": {},
   "outputs": [
    {
     "name": "stdout",
     "output_type": "stream",
     "text": [
      "You cannot drive yet.\n"
     ]
    }
   ],
   "source": [
    "age = 16\n",
    "\n",
    "if age >= 18:\n",
    "    print(\"You can drive.\")\n",
    "else:\n",
    "    print(\"You cannot drive yet.\")\n"
   ]
  },
  {
   "cell_type": "markdown",
   "id": "b6b5c4a7-99b2-465b-9607-93d9348b3099",
   "metadata": {},
   "source": [
    "### 4. Shorthand if-else (Ternary Operator)\n",
    "\n",
    "Python allows writing **if-else** in **one line**, which is also called a **ternary operator**.\n"
   ]
  },
  {
   "cell_type": "code",
   "execution_count": 6,
   "id": "e65a8617-5267-4efe-a471-3c7819ef1586",
   "metadata": {},
   "outputs": [
    {
     "name": "stdout",
     "output_type": "stream",
     "text": [
      "Adult\n"
     ]
    }
   ],
   "source": [
    "age = 20\n",
    "\n",
    "status = \"Adult\" if age >= 18 else \"Minor\"\n",
    "print(status)\n"
   ]
  },
  {
   "cell_type": "markdown",
   "id": "9ca07bb8-4370-461b-8138-ea366052cbef",
   "metadata": {},
   "source": [
    "- `\"Adult\"` will be chosen if the condition is **true**.  \n",
    "- Otherwise, `\"Minor\"` will be chosen.  \n",
    "\n",
    "It’s **neat and compact** when you need a quick decision.\n"
   ]
  },
  {
   "cell_type": "markdown",
   "id": "1c5e3c33-b277-4705-b10f-9c4cbd8133b0",
   "metadata": {},
   "source": [
    "### 5. elif Statement\n",
    "\n",
    "Sometimes you have **multiple conditions** to check.  \n",
    "Instead of writing multiple `if` statements, you can use **elif** (short for *else if*).\n"
   ]
  },
  {
   "cell_type": "code",
   "execution_count": 7,
   "id": "abf01aba-43ed-405e-b2a0-250e3dde62ce",
   "metadata": {},
   "outputs": [
    {
     "name": "stdout",
     "output_type": "stream",
     "text": [
      "Grade: B\n"
     ]
    }
   ],
   "source": [
    "marks = 75\n",
    "\n",
    "if marks >= 90:\n",
    "    print(\"Grade: A\")\n",
    "elif marks >= 75:\n",
    "    print(\"Grade: B\")\n",
    "elif marks >= 50:\n",
    "    print(\"Grade: C\")\n",
    "else:\n",
    "    print(\"Grade: F\")\n"
   ]
  },
  {
   "cell_type": "markdown",
   "id": "db38afa8-53d2-4c7d-b25d-e2bef02946cd",
   "metadata": {},
   "source": [
    "#### Remember:\n",
    "- Python checks conditions `top to bottom`.\n",
    "- Once a condition is `True`, the rest are ignored."
   ]
  },
  {
   "cell_type": "markdown",
   "id": "6778c6bc-cfb5-4b66-ab2a-50d999eed9de",
   "metadata": {},
   "source": [
    "### 6. Nested if-else\n",
    "\n",
    "You can put an **if-else** statement inside another **if-else** for more **complex decision-making**.\n"
   ]
  },
  {
   "cell_type": "code",
   "execution_count": 8,
   "id": "c0dc674f-085d-47e4-bce3-d3e491237618",
   "metadata": {},
   "outputs": [
    {
     "name": "stdout",
     "output_type": "stream",
     "text": [
      "Eligible to vote in USA\n"
     ]
    }
   ],
   "source": [
    "age = 20\n",
    "citizenship = \"USA\"\n",
    "\n",
    "if age >= 18:\n",
    "    if citizenship == \"USA\":\n",
    "        print(\"Eligible to vote in USA\")\n",
    "    else:\n",
    "        print(\"Not eligible to vote in USA\")\n",
    "else:\n",
    "    print(\"Too young to vote\")\n"
   ]
  },
  {
   "cell_type": "markdown",
   "id": "2cf88686-c600-44d2-8887-82237f039913",
   "metadata": {},
   "source": [
    "**Nested conditions are useful when decisions depend on multiple factors.**"
   ]
  },
  {
   "cell_type": "markdown",
   "id": "e411364e-4d26-43c1-8bbf-0441c2b62ecf",
   "metadata": {},
   "source": [
    "### 7. Ternary Conditional Statement (Expanded)\n",
    "\n",
    "We saw the **one-line if-else** earlier. Here’s a slightly more fun example:"
   ]
  },
  {
   "cell_type": "code",
   "execution_count": 10,
   "id": "8ee3bec8-9aef-4571-a9fe-614298fccbb7",
   "metadata": {},
   "outputs": [
    {
     "name": "stdout",
     "output_type": "stream",
     "text": [
      "Result: Pass\n"
     ]
    }
   ],
   "source": [
    "score = 85\n",
    "result = \"Pass\" if score >= 50 else \"Fail\"\n",
    "print(f\"Result: {result}\")\n"
   ]
  },
  {
   "cell_type": "markdown",
   "id": "59a6592c-af13-4c6c-b10e-c9ab5665a3f0",
   "metadata": {},
   "source": [
    "**Remember:** This is also called a **conditional expression**, and it’s perfect for **quick decisions in one line**."
   ]
  },
  {
   "cell_type": "code",
   "execution_count": null,
   "id": "72080047-2f73-4aec-a56c-abf264eaae15",
   "metadata": {},
   "outputs": [],
   "source": []
  }
 ],
 "metadata": {
  "kernelspec": {
   "display_name": "Python 3 (ipykernel)",
   "language": "python",
   "name": "python3"
  },
  "language_info": {
   "codemirror_mode": {
    "name": "ipython",
    "version": 3
   },
   "file_extension": ".py",
   "mimetype": "text/x-python",
   "name": "python",
   "nbconvert_exporter": "python",
   "pygments_lexer": "ipython3",
   "version": "3.13.5"
  }
 },
 "nbformat": 4,
 "nbformat_minor": 5
}

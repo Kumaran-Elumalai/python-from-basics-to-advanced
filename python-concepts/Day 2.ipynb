{
 "cells": [
  {
   "cell_type": "markdown",
   "id": "c4d497c6-f48c-4012-abfc-9081869b5bec",
   "metadata": {},
   "source": [
    "# Welcome to Day 2 of Python Learning!\n",
    "\n",
    "Congratulations on making it through Day 1 you’ve learned about `keywords`, `variables`, and `object references`.\n",
    "\n",
    "Today, we’re moving forward to **Data Types in Python** — the different kinds of values you can use in your Python programs.  \n",
    "Think of them as categories that define what type of data is being stored, such as integers, floating-point numbers, strings, and more.\n",
    "\n",
    "### Data Types in Python\n",
    "\n",
    "In Python, data types define the kind of value we are working with and determine what operations can be performed on it.  \n",
    "They act like *labels on boxes*, letting Python know what’s inside the box and how it should be handled.\n"
   ]
  },
  {
   "cell_type": "markdown",
   "id": "271788f2-c5a4-458b-a1a6-a365c88e0324",
   "metadata": {},
   "source": [
    "### Built-in Data Types in Python\n",
    "\n",
    "#### Numeric Types\n",
    "- **int** → Whole numbers (e.g., `5`, `-42`)  \n",
    "- **float** → Decimal numbers (e.g., `3.14`, `-0.001`)  \n",
    "- **complex** → Numbers with a real and imaginary part (e.g., `2 + 3j`)  \n",
    "\n",
    "#### Sequence Types\n",
    "- **str** → Strings, i.e., text (e.g., `\"Hello\"`)  \n",
    "- **list** → Ordered, changeable collection (e.g., `[1, 2, 3]`)  \n",
    "- **tuple** → Ordered, unchangeable collection (e.g., `(1, 2, 3)`)  \n",
    "\n",
    "#### Mapping Type\n",
    "- **dict** → Key-value pairs (e.g., `{\"name\": \"Alice\", \"age\": 25}`)  \n",
    "\n",
    "#### Boolean Type\n",
    "- **bool** → `True` or `False`  \n",
    "\n",
    "#### Set Types\n",
    "- **set** → Unordered collection of unique items (e.g., `{1, 2, 3}`)  \n",
    "- **frozenset** → Like set, but immutable (cannot be changed once created)  \n",
    "\n",
    "#### Binary Types\n",
    "- **bytes** → Immutable sequence of bytes  \n",
    "- **bytearray** → Mutable sequence of bytes  \n",
    "- **memoryview** → A way to access the memory of binary objects  \n",
    "\n",
    "\n",
    "Imagine data types as different kinds of “boxes”  you wouldn’t store milk in a toolbox, right?  \n",
    "Similarly, Python chooses the right “box” (data type) to keep things organized.\n"
   ]
  },
  {
   "cell_type": "code",
   "execution_count": null,
   "id": "2aaa19de-506f-4865-b91b-9030e1341eb5",
   "metadata": {},
   "outputs": [],
   "source": []
  }
 ],
 "metadata": {
  "kernelspec": {
   "display_name": "Python 3 (ipykernel)",
   "language": "python",
   "name": "python3"
  },
  "language_info": {
   "codemirror_mode": {
    "name": "ipython",
    "version": 3
   },
   "file_extension": ".py",
   "mimetype": "text/x-python",
   "name": "python",
   "nbconvert_exporter": "python",
   "pygments_lexer": "ipython3",
   "version": "3.13.5"
  }
 },
 "nbformat": 4,
 "nbformat_minor": 5
}

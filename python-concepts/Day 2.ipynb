{
 "cells": [
  {
   "cell_type": "markdown",
   "id": "c4d497c6-f48c-4012-abfc-9081869b5bec",
   "metadata": {},
   "source": [
    "# Welcome to Day 2 of Python Learning!\n",
    "\n",
    "Congratulations on making it through Day 1 you’ve learned about `keywords`, `variables`, and `object references`.\n",
    "\n",
    "Today, we’re moving forward to **Data Types in Python** — the different kinds of values you can use in your Python programs.  \n",
    "Think of them as categories that define what type of data is being stored, such as integers, floating-point numbers, strings, and more.\n",
    "\n",
    "### Data Types in Python\n",
    "\n",
    "In Python, data types define the kind of value we are working with and determine what operations can be performed on it.  \n",
    "They act like *labels on boxes*, letting Python know what’s inside the box and how it should be handled.\n"
   ]
  },
  {
   "cell_type": "markdown",
   "id": "271788f2-c5a4-458b-a1a6-a365c88e0324",
   "metadata": {},
   "source": [
    "### Built-in Data Types in Python\n",
    "\n",
    "#### Numeric Types\n",
    "- **int** → Whole numbers (e.g., `5`, `-42`)  \n",
    "- **float** → Decimal numbers (e.g., `3.14`, `-0.001`)  \n",
    "- **complex** → Numbers with a real and imaginary part (e.g., `2 + 3j`)  \n",
    "\n",
    "#### Sequence Types\n",
    "- **str** → Strings, i.e., text (e.g., `\"Hello\"`)  \n",
    "- **list** → Ordered, changeable collection (e.g., `[1, 2, 3]`)  \n",
    "- **tuple** → Ordered, unchangeable collection (e.g., `(1, 2, 3)`)  \n",
    "\n",
    "#### Mapping Type\n",
    "- **dict** → Key-value pairs (e.g., `{\"name\": \"Alice\", \"age\": 25}`)  \n",
    "\n",
    "#### Boolean Type\n",
    "- **bool** → `True` or `False`  \n",
    "\n",
    "#### Set Types\n",
    "- **set** → Unordered collection of unique items (e.g., `{1, 2, 3}`)  \n",
    "- **frozenset** → Like set, but immutable (cannot be changed once created)  \n",
    "\n",
    "#### Binary Types\n",
    "- **bytes** → Immutable sequence of bytes  \n",
    "- **bytearray** → Mutable sequence of bytes  \n",
    "- **memoryview** → A way to access the memory of binary objects  \n",
    "\n",
    "\n",
    "Imagine data types as different kinds of “boxes”  you wouldn’t store milk in a toolbox, right?  \n",
    "Similarly, Python chooses the right “box” (data type) to keep things organized.\n"
   ]
  },
  {
   "cell_type": "markdown",
   "id": "00fb37fe-af7b-4632-b335-a798b285df4b",
   "metadata": {},
   "source": [
    "### Numeric Data Types\n",
    "\n",
    "Python uses numeric data types to store numbers. These include integers, floating-point numbers, and complex numbers. Each type is actually a class, and variables are instances of these classes.\n",
    "\n",
    "#### 1. Integers (`int`)\n",
    "- Whole numbers, positive or negative  \n",
    "- No fractions or decimals  \n",
    "- Python can handle very large integers"
   ]
  },
  {
   "cell_type": "code",
   "execution_count": 16,
   "id": "43901d5b-0819-424c-9389-970002452eae",
   "metadata": {},
   "outputs": [
    {
     "name": "stdout",
     "output_type": "stream",
     "text": [
      "42 <class 'int'>\n",
      "-100 <class 'int'>\n"
     ]
    }
   ],
   "source": [
    "x = 42\n",
    "y = -100\n",
    "print(x,type(x))\n",
    "print(y,type(y))"
   ]
  },
  {
   "cell_type": "markdown",
   "id": "95980d76-79fd-4f64-83fb-5113a75e3999",
   "metadata": {},
   "source": [
    "#### 2. Floating-Point Numbers (`float`)\n",
    "- Numbers with a decimal point  \n",
    "- Can also be written in scientific notation using `e` or `E`"
   ]
  },
  {
   "cell_type": "code",
   "execution_count": 17,
   "id": "85e16a1f-845a-40e6-aa96-5c4e013d7b92",
   "metadata": {},
   "outputs": [],
   "source": [
    "y = -0.001\n",
    "z = 2e3  # 2 × 10³ = 2000.0"
   ]
  },
  {
   "cell_type": "code",
   "execution_count": 18,
   "id": "64056fa3-7d3c-4b4c-949e-ee24318ce47e",
   "metadata": {},
   "outputs": [
    {
     "name": "stdout",
     "output_type": "stream",
     "text": [
      "-0.001 <class 'float'>\n",
      "2000.0 <class 'float'>\n"
     ]
    }
   ],
   "source": [
    "print(y,type(y))\n",
    "print(z,type(z))"
   ]
  },
  {
   "cell_type": "markdown",
   "id": "01010988-af78-4447-b757-7a79b05c8758",
   "metadata": {},
   "source": [
    "#### 3. Complex Numbers (`complex`)\n",
    "- Numbers with a real part and an imaginary part  \n",
    "- Imaginary part is written with `j`"
   ]
  },
  {
   "cell_type": "code",
   "execution_count": 19,
   "id": "442f5e0e-336a-42a1-bd69-5e6bf9fc4b99",
   "metadata": {},
   "outputs": [],
   "source": [
    "x = 2 + 3j\n",
    "y = -1 + 5j"
   ]
  },
  {
   "cell_type": "code",
   "execution_count": 20,
   "id": "2730b2c1-7b01-428f-9bee-63c7880ae13a",
   "metadata": {},
   "outputs": [
    {
     "name": "stdout",
     "output_type": "stream",
     "text": [
      "(2+3j) <class 'complex'>\n",
      "(-1+5j) <class 'complex'>\n"
     ]
    }
   ],
   "source": [
    "print(x,type(x))\n",
    "print(y,type(y))"
   ]
  },
  {
   "cell_type": "markdown",
   "id": "34350484-4fc8-4c1e-8ef1-f30fa8e2f09d",
   "metadata": {},
   "source": [
    "### Sequence Data Types\n",
    "\n",
    "A `sequence` is a line of items arranged in order.  \n",
    "Each item has a position, called an **index**.  \n",
    "\n",
    "Sequences allow you to store, access, and work with multiple values easily.  \n",
    "\n",
    "**Examples of sequence types in Python:** `str`, `list`, `tuple`\n",
    "\n",
    "\n",
    "Think of a sequence as a row of lockers — each locker has a number (index), and you can put anything inside or take it out!\n"
   ]
  },
  {
   "cell_type": "markdown",
   "id": "df8eb58c-6a6a-434f-812a-d978404d8856",
   "metadata": {},
   "source": [
    "### String Data Type (`str`)\n",
    "\n",
    "- A string is a **sequence of characters**.  \n",
    "- Python does not have a separate character type a single character is just a string of length 1.  \n",
    "- Strings are represented by the `str` class.  \n",
    "\n",
    "#### Creating Strings\n",
    "Strings can be created using:  \n",
    "- Single quotes: `'Hello'`  \n",
    "- Double quotes: `\"World\"`  \n",
    "- Triple quotes: `'''Python is fun!'''` or `\"\"\"Multiline string\"\"\"`  \n",
    "\n",
    "#### Accessing Characters\n",
    "You can access individual characters using **indexing** (starting from 0):\n"
   ]
  },
  {
   "cell_type": "code",
   "execution_count": 22,
   "id": "0caceebc-b3be-4b05-9348-5da0ec7c2973",
   "metadata": {},
   "outputs": [
    {
     "name": "stdout",
     "output_type": "stream",
     "text": [
      "P\n",
      "h\n"
     ]
    }
   ],
   "source": [
    "text = \"Python\"\n",
    "print(text[0])\n",
    "print(text[3])  "
   ]
  },
  {
   "cell_type": "markdown",
   "id": "2239535b-5211-439d-8bab-d9d99da4ff8a",
   "metadata": {},
   "source": [
    "##### Think of a string as a train where each character is a compartment.  \n",
    "- You can look inside any compartment using its **index number**.  \n",
    "- No matter how long your train is, Python keeps track of each compartment!\n"
   ]
  },
  {
   "cell_type": "markdown",
   "id": "594d60b1-66d9-4fc0-9b1b-37fb2f656e98",
   "metadata": {},
   "source": [
    "### List Data Type (`list`)\n",
    "\n",
    "- A list is an **ordered collection of items**.  \n",
    "- Items can be of any type: numbers, strings, or even other lists.  \n",
    "- Lists are **mutable**, which means you can change, add, or remove items after creating the list.  \n",
    "- Lists are represented by **square brackets** `[ ]`.\n"
   ]
  },
  {
   "cell_type": "code",
   "execution_count": 25,
   "id": "54291848-a73c-49e4-9652-34159897d164",
   "metadata": {},
   "outputs": [
    {
     "name": "stdout",
     "output_type": "stream",
     "text": [
      "['apple', 'banana', 'cherry']\n"
     ]
    }
   ],
   "source": [
    "fruits = [\"apple\", \"banana\", \"cherry\"]\n",
    "print(fruits)         "
   ]
  },
  {
   "cell_type": "code",
   "execution_count": 27,
   "id": "e14f506a-82cd-4017-ad70-721e659e2318",
   "metadata": {},
   "outputs": [
    {
     "name": "stdout",
     "output_type": "stream",
     "text": [
      "apple\n",
      "mango\n",
      "cherry\n"
     ]
    }
   ],
   "source": [
    "# Accessing items\n",
    "print(fruits[0])   \n",
    "print(fruits[1])   \n",
    "print(fruits[-1])  "
   ]
  },
  {
   "cell_type": "markdown",
   "id": "73afca33-5f53-447c-aabc-47217a8c64e0",
   "metadata": {},
   "source": [
    "### Tuples in Python (`tuple`)\n",
    "\n",
    "- A tuple is an **ordered collection of items**, similar to a list.  \n",
    "- Tuples are **immutable**, which means you cannot change items, but you can access them.  \n",
    "- Tuples are written using **parentheses** `( )`.\n"
   ]
  },
  {
   "cell_type": "code",
   "execution_count": 29,
   "id": "ed4e2083-f120-4a85-94f9-265274ffe685",
   "metadata": {},
   "outputs": [
    {
     "name": "stdout",
     "output_type": "stream",
     "text": [
      "red\n",
      "blue\n",
      "blue\n"
     ]
    }
   ],
   "source": [
    "colors = (\"red\", \"green\", \"blue\")\n",
    "\n",
    "# Accessing items\n",
    "print(colors[0])   \n",
    "print(colors[2])   \n",
    "print(colors[-1]) \n"
   ]
  },
  {
   "cell_type": "markdown",
   "id": "98dc26b9-8a29-4c67-bf6b-289451b90d44",
   "metadata": {},
   "source": [
    "### Boolean Data Type (`bool`)\n",
    "\n",
    "- Boolean is a special data type that can only have two values: `True` or `False`.  \n",
    "- Booleans are used to represent **truth values** in Python.  \n",
    "- The Boolean type is represented by the `bool` class.\n"
   ]
  },
  {
   "cell_type": "code",
   "execution_count": 30,
   "id": "c70ca1f7-0a43-4d6c-9016-e00f6b9546b5",
   "metadata": {},
   "outputs": [],
   "source": [
    "is_python_fun = True\n",
    "is_sky_green = False"
   ]
  },
  {
   "cell_type": "code",
   "execution_count": 33,
   "id": "7d93528e-14e0-49b5-a3c9-97e8775454f5",
   "metadata": {},
   "outputs": [
    {
     "name": "stdout",
     "output_type": "stream",
     "text": [
      "True\n",
      "False\n"
     ]
    }
   ],
   "source": [
    "print(is_python_fun)  \n",
    "print(is_sky_green)  "
   ]
  },
  {
   "cell_type": "code",
   "execution_count": 34,
   "id": "5ecbad1a-e323-442d-89b7-e3deb7d6b75c",
   "metadata": {},
   "outputs": [
    {
     "name": "stdout",
     "output_type": "stream",
     "text": [
      "<class 'bool'>\n"
     ]
    }
   ],
   "source": [
    "# Checking the type\n",
    "print(type(is_python_fun)) "
   ]
  },
  {
   "cell_type": "markdown",
   "id": "e505fc9e-bcf8-49f4-92ee-d4c65d4c3f5e",
   "metadata": {},
   "source": [
    "### Truthy and Falsy\n",
    "\n",
    "- **Truthy:** Any value that evaluates to `True` in a Boolean context (e.g., `1`, `\"Hello\"`, `[1, 2]`).  \n",
    "- **Falsy:** Any value that evaluates to `False` (e.g., `0`, `\"\"`, `[]`, `None`).\n"
   ]
  },
  {
   "cell_type": "code",
   "execution_count": 36,
   "id": "02f401ef-f1ad-4bc4-a794-7805cd53da30",
   "metadata": {},
   "outputs": [
    {
     "name": "stdout",
     "output_type": "stream",
     "text": [
      "True\n",
      "False\n",
      "True\n",
      "False\n"
     ]
    }
   ],
   "source": [
    "print(bool(1))       \n",
    "print(bool(0))       \n",
    "print(bool(\"Hello\")) \n",
    "print(bool(\"\")) "
   ]
  },
  {
   "cell_type": "markdown",
   "id": "741e3e6c-3233-4783-9adb-cc0724dafae4",
   "metadata": {},
   "source": [
    "#### Think of Boolean like a light switch 💡  it’s either on (True) or off (False)."
   ]
  },
  {
   "cell_type": "markdown",
   "id": "4aec541f-8511-4a8e-a18b-d14965073ba8",
   "metadata": {},
   "source": [
    "### Set Data Type (`set`)\n",
    "\n",
    "- A set is an **unordered collection of unique items**.  \n",
    "- Sets are written using **curly braces** `{ }` (like dictionaries but without key-value pairs).  \n",
    "- Sets **don’t allow duplicates** and **don’t maintain order**.\n"
   ]
  },
  {
   "cell_type": "code",
   "execution_count": 37,
   "id": "426a8617-ce90-4274-af71-37ad912d135d",
   "metadata": {},
   "outputs": [
    {
     "name": "stdout",
     "output_type": "stream",
     "text": [
      "{'banana', 'apple', 'cherry'}\n"
     ]
    }
   ],
   "source": [
    "fruits = {\"apple\", \"banana\", \"cherry\", \"apple\"}\n",
    "\n",
    "print(fruits)   # (duplicates removed)\n"
   ]
  },
  {
   "cell_type": "markdown",
   "id": "79e1b437-c6d4-4670-aef7-810126db0642",
   "metadata": {},
   "source": [
    "##### Think of a set like a basket of unique fruits, even if you try to add the same fruit again, it won’t duplicate."
   ]
  },
  {
   "cell_type": "markdown",
   "id": "03a15cc5-2d1c-4c57-abb4-1ee79dafeec5",
   "metadata": {},
   "source": [
    "### Dictionary Data Type (`dict`)\n",
    "\n",
    "- A dictionary is an **unordered collection of items**.  \n",
    "- Each item has a **key** and a **value** (like a label and its content).  \n",
    "- Dictionaries are written using **curly braces** `{ }`.  \n"
   ]
  },
  {
   "cell_type": "code",
   "execution_count": 40,
   "id": "ee6289c9-7457-4a4e-8442-df6a14625302",
   "metadata": {},
   "outputs": [],
   "source": [
    "person = {\n",
    "    \"name\": \"John\",\n",
    "    \"age\": 25,\n",
    "    \"city\": \"New York\"\n",
    "}"
   ]
  },
  {
   "cell_type": "code",
   "execution_count": 41,
   "id": "2149bf7a-354d-4b28-8d61-ce8b465fe6cb",
   "metadata": {},
   "outputs": [
    {
     "name": "stdout",
     "output_type": "stream",
     "text": [
      "John\n",
      "25\n"
     ]
    }
   ],
   "source": [
    "# Accessing values by key\n",
    "print(person[\"name\"])  \n",
    "print(person[\"age\"])  \n"
   ]
  },
  {
   "cell_type": "markdown",
   "id": "39e0801d-1c3e-4f4c-814e-68c25dce4b46",
   "metadata": {},
   "source": [
    "##### Think of a dictionary like a real-life dictionary: the word is the key, and the definition is the value."
   ]
  },
  {
   "cell_type": "markdown",
   "id": "3ca3ff15-8ab6-4923-a17b-f7917fa35db2",
   "metadata": {},
   "source": [
    "### Disclaimer\n",
    "\n",
    "We’ve only scratched the surface of **strings, lists, tuples, sets, and dictionaries**.  \n",
    "\n",
    "There’s a lot more to learn, and in the next notebook, we’ll go much deeper, exploring all the useful operations, tricks, and ways to use them in real programs.  \n",
    "\n",
    "So don’t worry, we’ll cover it all **step by step**!\n"
   ]
  },
  {
   "cell_type": "code",
   "execution_count": null,
   "id": "22889df6-afd1-4e26-a3e3-763c45e45e41",
   "metadata": {},
   "outputs": [],
   "source": []
  }
 ],
 "metadata": {
  "kernelspec": {
   "display_name": "Python 3 (ipykernel)",
   "language": "python",
   "name": "python3"
  },
  "language_info": {
   "codemirror_mode": {
    "name": "ipython",
    "version": 3
   },
   "file_extension": ".py",
   "mimetype": "text/x-python",
   "name": "python",
   "nbconvert_exporter": "python",
   "pygments_lexer": "ipython3",
   "version": "3.13.5"
  }
 },
 "nbformat": 4,
 "nbformat_minor": 5
}

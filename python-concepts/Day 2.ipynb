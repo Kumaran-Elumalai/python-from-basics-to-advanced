{
 "cells": [
  {
   "cell_type": "markdown",
   "id": "c4d497c6-f48c-4012-abfc-9081869b5bec",
   "metadata": {},
   "source": [
    "# Welcome to Day 2 of Python Learning!\n",
    "\n",
    "Congratulations on making it through Day 1 you’ve learned about `keywords`, `variables`, and `object references`.\n",
    "\n",
    "Today, we’re moving forward to **Data Types in Python** — the different kinds of values you can use in your Python programs.  \n",
    "Think of them as categories that define what type of data is being stored, such as integers, floating-point numbers, strings, and more.\n",
    "\n",
    "### Data Types in Python\n",
    "\n",
    "In Python, data types define the kind of value we are working with and determine what operations can be performed on it.  \n",
    "They act like *labels on boxes*, letting Python know what’s inside the box and how it should be handled.\n"
   ]
  },
  {
   "cell_type": "markdown",
   "id": "271788f2-c5a4-458b-a1a6-a365c88e0324",
   "metadata": {},
   "source": [
    "### Built-in Data Types in Python\n",
    "\n",
    "#### Numeric Types\n",
    "- **int** → Whole numbers (e.g., `5`, `-42`)  \n",
    "- **float** → Decimal numbers (e.g., `3.14`, `-0.001`)  \n",
    "- **complex** → Numbers with a real and imaginary part (e.g., `2 + 3j`)  \n",
    "\n",
    "#### Sequence Types\n",
    "- **str** → Strings, i.e., text (e.g., `\"Hello\"`)  \n",
    "- **list** → Ordered, changeable collection (e.g., `[1, 2, 3]`)  \n",
    "- **tuple** → Ordered, unchangeable collection (e.g., `(1, 2, 3)`)  \n",
    "\n",
    "#### Mapping Type\n",
    "- **dict** → Key-value pairs (e.g., `{\"name\": \"Alice\", \"age\": 25}`)  \n",
    "\n",
    "#### Boolean Type\n",
    "- **bool** → `True` or `False`  \n",
    "\n",
    "#### Set Types\n",
    "- **set** → Unordered collection of unique items (e.g., `{1, 2, 3}`)  \n",
    "- **frozenset** → Like set, but immutable (cannot be changed once created)  \n",
    "\n",
    "#### Binary Types\n",
    "- **bytes** → Immutable sequence of bytes  \n",
    "- **bytearray** → Mutable sequence of bytes  \n",
    "- **memoryview** → A way to access the memory of binary objects  \n",
    "\n",
    "\n",
    "Imagine data types as different kinds of “boxes”  you wouldn’t store milk in a toolbox, right?  \n",
    "Similarly, Python chooses the right “box” (data type) to keep things organized.\n"
   ]
  },
  {
   "cell_type": "markdown",
   "id": "00fb37fe-af7b-4632-b335-a798b285df4b",
   "metadata": {},
   "source": [
    "### Numeric Data Types\n",
    "\n",
    "Python uses numeric data types to store numbers. These include integers, floating-point numbers, and complex numbers. Each type is actually a class, and variables are instances of these classes.\n",
    "\n",
    "#### 1. Integers (`int`)\n",
    "- Whole numbers, positive or negative  \n",
    "- No fractions or decimals  \n",
    "- Python can handle very large integers"
   ]
  },
  {
   "cell_type": "code",
   "execution_count": 16,
   "id": "43901d5b-0819-424c-9389-970002452eae",
   "metadata": {},
   "outputs": [
    {
     "name": "stdout",
     "output_type": "stream",
     "text": [
      "42 <class 'int'>\n",
      "-100 <class 'int'>\n"
     ]
    }
   ],
   "source": [
    "x = 42\n",
    "y = -100\n",
    "print(x,type(x))\n",
    "print(y,type(y))"
   ]
  },
  {
   "cell_type": "markdown",
   "id": "95980d76-79fd-4f64-83fb-5113a75e3999",
   "metadata": {},
   "source": [
    "#### 2. Floating-Point Numbers (`float`)\n",
    "- Numbers with a decimal point  \n",
    "- Can also be written in scientific notation using `e` or `E`"
   ]
  },
  {
   "cell_type": "code",
   "execution_count": 17,
   "id": "85e16a1f-845a-40e6-aa96-5c4e013d7b92",
   "metadata": {},
   "outputs": [],
   "source": [
    "y = -0.001\n",
    "z = 2e3  # 2 × 10³ = 2000.0"
   ]
  },
  {
   "cell_type": "code",
   "execution_count": 18,
   "id": "64056fa3-7d3c-4b4c-949e-ee24318ce47e",
   "metadata": {},
   "outputs": [
    {
     "name": "stdout",
     "output_type": "stream",
     "text": [
      "-0.001 <class 'float'>\n",
      "2000.0 <class 'float'>\n"
     ]
    }
   ],
   "source": [
    "print(y,type(y))\n",
    "print(z,type(z))"
   ]
  },
  {
   "cell_type": "markdown",
   "id": "01010988-af78-4447-b757-7a79b05c8758",
   "metadata": {},
   "source": [
    "#### 3. Complex Numbers (`complex`)\n",
    "- Numbers with a real part and an imaginary part  \n",
    "- Imaginary part is written with `j`"
   ]
  },
  {
   "cell_type": "code",
   "execution_count": 19,
   "id": "442f5e0e-336a-42a1-bd69-5e6bf9fc4b99",
   "metadata": {},
   "outputs": [],
   "source": [
    "x = 2 + 3j\n",
    "y = -1 + 5j"
   ]
  },
  {
   "cell_type": "code",
   "execution_count": 20,
   "id": "2730b2c1-7b01-428f-9bee-63c7880ae13a",
   "metadata": {},
   "outputs": [
    {
     "name": "stdout",
     "output_type": "stream",
     "text": [
      "(2+3j) <class 'complex'>\n",
      "(-1+5j) <class 'complex'>\n"
     ]
    }
   ],
   "source": [
    "print(x,type(x))\n",
    "print(y,type(y))"
   ]
  },
  {
   "cell_type": "code",
   "execution_count": null,
   "id": "baba0de9-6902-4dfd-ae0a-41871982e4e7",
   "metadata": {},
   "outputs": [],
   "source": []
  }
 ],
 "metadata": {
  "kernelspec": {
   "display_name": "Python 3 (ipykernel)",
   "language": "python",
   "name": "python3"
  },
  "language_info": {
   "codemirror_mode": {
    "name": "ipython",
    "version": 3
   },
   "file_extension": ".py",
   "mimetype": "text/x-python",
   "name": "python",
   "nbconvert_exporter": "python",
   "pygments_lexer": "ipython3",
   "version": "3.13.5"
  }
 },
 "nbformat": 4,
 "nbformat_minor": 5
}

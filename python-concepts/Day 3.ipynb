{
 "cells": [
  {
   "cell_type": "markdown",
   "id": "edb31a0f-daa3-4119-8852-758304e6808f",
   "metadata": {},
   "source": [
    "# **Welcome to Day 3!**\n",
    "## **Loops in Python (For, While, and Nested Loops)**\n",
    "\n",
    "Welcome back to the Python series!  \n",
    "If you’ve made it this far, give yourself a little pat on the back — you’ve already tackled the basics, played around with variables, and mastered operators.\n",
    "\n",
    "Now it’s time to level up with something that every programmer both loves and occasionally fears: **Loops**.\n",
    "\n",
    "Get ready to make Python handle all the repetitive work for you while you sit back and watch it loop like a pro.\n"
   ]
  },
  {
   "cell_type": "markdown",
   "id": "bd82e5cd-11fd-440f-9884-548e60cfac56",
   "metadata": {},
   "source": [
    "### **Loops in Python**\n",
    "\n",
    "Loops in Python help you repeat a block of code multiple times without writing it again and again.  \n",
    "They are used to perform tasks efficiently and automatically.\n",
    "\n",
    "There are two main types of loops in Python:\n",
    "\n",
    "- **for loop** → used when you know how many times to repeat.  \n",
    "- **while loop** → used when you want to repeat something until a condition becomes false.\n"
   ]
  },
  {
   "cell_type": "markdown",
   "id": "78042756-65b1-4756-ad5c-e1bbe90e6c67",
   "metadata": {},
   "source": [
    "### **1. For Loop**\n",
    "\n",
    "A **for loop** is used when you want to go through each item in a sequence such as a list, tuple, string, or even a range of numbers.  \n",
    "It helps you repeat a task for every element without doing the hard work yourself.\n",
    "\n",
    "Think of it like telling Python:\n",
    "\n",
    "> “Hey Python, go through everything in this list one by one, and I’ll tell you what to do with each!”\n",
    "\n",
    "**Syntax:**\n",
    "```python\n",
    "for item in sequence:\n",
    "    # perform some action\n"
   ]
  },
  {
   "cell_type": "markdown",
   "id": "bae5910c-c162-43d4-ae87-2c0c108af19b",
   "metadata": {},
   "source": [
    "### Example 1: Loop through a list"
   ]
  },
  {
   "cell_type": "code",
   "execution_count": 1,
   "id": "e47e796e-8079-4e99-8458-6943a89db723",
   "metadata": {},
   "outputs": [
    {
     "name": "stdout",
     "output_type": "stream",
     "text": [
      "Sending invitation to Alex 🎉\n",
      "Sending invitation to Bella 🎉\n",
      "Sending invitation to Chris 🎉\n"
     ]
    }
   ],
   "source": [
    "friends = [\"Alex\", \"Bella\", \"Chris\"]\n",
    "for friend in friends:\n",
    "    print(f\"Sending invitation to {friend} 🎉\")"
   ]
  },
  {
   "cell_type": "markdown",
   "id": "6010260f-1ede-4a31-bf9d-5fdc6fd46bd6",
   "metadata": {},
   "source": [
    "Here, the loop runs three times, once for each friend in the list.\n"
   ]
  },
  {
   "cell_type": "markdown",
   "id": "89eb1383-9d94-4910-b30d-3f25a2990300",
   "metadata": {},
   "source": [
    "### Example 2: Using range()\n",
    "\n",
    "If you want to loop through numbers, `range()` is your best friend.  \n",
    "It generates a sequence of numbers that you can loop through easily.\n"
   ]
  },
  {
   "cell_type": "code",
   "execution_count": 2,
   "id": "30cd5498-04df-4a45-be1b-0057c77f3e6a",
   "metadata": {},
   "outputs": [
    {
     "name": "stdout",
     "output_type": "stream",
     "text": [
      "Day 1: Keep coding 💻\n",
      "Day 2: Keep coding 💻\n",
      "Day 3: Keep coding 💻\n",
      "Day 4: Keep coding 💻\n",
      "Day 5: Keep coding 💻\n"
     ]
    }
   ],
   "source": [
    "for day in range(1, 6):\n",
    "    print(f\"Day {day}: Keep coding 💻\")"
   ]
  },
  {
   "cell_type": "markdown",
   "id": "c82f5537-627a-4fb1-9cd0-475dbc5a9e18",
   "metadata": {},
   "source": [
    "#### Fun Insight  \n",
    "The `range(start, stop)` function begins at the **start** value (inclusive) and stops **just before** the **stop** value (exclusive).  \n",
    "So, `range(1, 6)` gives you numbers **1 to 5**, not 6!  "
   ]
  },
  {
   "cell_type": "markdown",
   "id": "a9ce2f5b-ba73-46e6-8177-bf0d984920f5",
   "metadata": {},
   "source": [
    "### Iterating by Index of Sequences\n",
    "\n",
    "Sometimes, you may want to loop through a sequence using the **index number** of each element, especially when you need **both the position and the value**.\n",
    "\n",
    "To do this, first find the length of the sequence using `len()` and then loop through the **range of that length**.\n",
    "\n",
    "**Syntax:**\n",
    "```python\n",
    "for index in range(len(sequence)):\n",
    "    # access each element using its index\n"
   ]
  },
  {
   "cell_type": "code",
   "execution_count": 3,
   "id": "f9e46d8b-a354-4200-8541-bc817adb007c",
   "metadata": {},
   "outputs": [
    {
     "name": "stdout",
     "output_type": "stream",
     "text": [
      "Color 1: red\n",
      "Color 2: green\n",
      "Color 3: blue\n",
      "Color 4: yellow\n"
     ]
    }
   ],
   "source": [
    "colors = [\"red\", \"green\", \"blue\", \"yellow\"]\n",
    "\n",
    "for i in range(len(colors)):\n",
    "    print(f\"Color {i+1}: {colors[i]}\")"
   ]
  },
  {
   "cell_type": "markdown",
   "id": "fb45764d-1d8e-4089-b046-383ca30fdfd8",
   "metadata": {},
   "source": [
    "Here’s what’s happening step by step:\n",
    "\n",
    "1. `len(colors)` gives the total number of items in the list.  \n",
    "2. `range(len(colors))` generates numbers from 0 to **length - 1** (these are valid indices).  \n",
    "3. Each time through the loop, we use the **index `i`** to access and print the element.  \n",
    "\n",
    "#### Fun Note:  \n",
    "`range(len(list))` gives you **indices**, not the actual elements.  \n",
    "If you want **both index and value together**, you can use the built-in function `enumerate()` (we’ll see that soon).\n"
   ]
  },
  {
   "cell_type": "markdown",
   "id": "88aeecd8-22dd-49ab-b4de-3b557aa8dcaf",
   "metadata": {},
   "source": [
    "### 2. While Loop\n",
    "\n",
    "A **while loop** repeats a block of code as long as a **condition** is true.  \n",
    "Once the condition becomes false, Python moves on to the next line after the loop.\n",
    "\n",
    "Think of it like saying:\n",
    "\n",
    "> \"Keep doing this until I tell you to stop.\"\n",
    "\n",
    "**Syntax:**\n",
    "```python\n",
    "while condition:\n",
    "    # do something\n"
   ]
  },
  {
   "cell_type": "markdown",
   "id": "44264f96-70e2-4c1f-a430-fd1a0b0ca60c",
   "metadata": {},
   "source": [
    "#### Example: Counting down"
   ]
  },
  {
   "cell_type": "code",
   "execution_count": 4,
   "id": "a6f8e5fb-9bdf-40b4-b27d-8a0f2cb3ee6f",
   "metadata": {},
   "outputs": [
    {
     "name": "stdout",
     "output_type": "stream",
     "text": [
      "Countdown: 5 🚀\n",
      "Countdown: 4 🚀\n",
      "Countdown: 3 🚀\n",
      "Countdown: 2 🚀\n",
      "Countdown: 1 🚀\n",
      "Lift off! 🛫\n"
     ]
    }
   ],
   "source": [
    "count = 5\n",
    "\n",
    "while count > 0:\n",
    "    print(f\"Countdown: {count} 🚀\")\n",
    "    count -= 1\n",
    "\n",
    "print(\"Lift off! 🛫\")"
   ]
  },
  {
   "cell_type": "markdown",
   "id": "67c261fa-fde1-4954-8c31-24e9f1c9341b",
   "metadata": {},
   "source": [
    "Here’s what’s happening step by step:\n",
    "\n",
    "1. `count` starts at 5.  \n",
    "2. The condition `count > 0` is checked. Since it is **True**, the loop runs.  \n",
    "3. The countdown message is printed and `count` decreases by 1.  \n",
    "4. Steps 2-3 repeat until `count > 0` becomes **False**.  \n",
    "5. The loop stops and Python prints `\"Lift off!\"`.\n",
    "\n",
    "#### Fun Note:  \n",
    "Make sure your **condition will eventually become false**.  \n",
    "Otherwise, you might create an **infinite loop** that never stops!\n"
   ]
  },
  {
   "cell_type": "markdown",
   "id": "c0c6e960-5ea7-4f03-a0d7-3cbee532891b",
   "metadata": {},
   "source": [
    "### Infinite While Loop\n",
    "\n",
    "Sometimes, you might want a loop to run **forever** until a certain condition is met or until you decide to stop it manually.  \n",
    "In Python, this is called an **infinite loop**.\n",
    "\n",
    "To create one, you can use a **while loop** with the condition `True`.  \n",
    "The loop will keep running unless you use a **break statement** or some other logic to stop it.\n"
   ]
  },
  {
   "cell_type": "code",
   "execution_count": 5,
   "id": "77710a8a-3b09-4f28-9e2a-dbfa668441ac",
   "metadata": {},
   "outputs": [
    {
     "name": "stdin",
     "output_type": "stream",
     "text": [
      "Enter the secret password:  python\n"
     ]
    },
    {
     "name": "stdout",
     "output_type": "stream",
     "text": [
      "Wrong password, try again 🔑\n"
     ]
    },
    {
     "name": "stdin",
     "output_type": "stream",
     "text": [
      "Enter the secret password:  password123\n"
     ]
    },
    {
     "name": "stdout",
     "output_type": "stream",
     "text": [
      "Wrong password, try again 🔑\n"
     ]
    },
    {
     "name": "stdin",
     "output_type": "stream",
     "text": [
      "Enter the secret password:  pythonisawesome\n"
     ]
    },
    {
     "name": "stdout",
     "output_type": "stream",
     "text": [
      "Wrong password, try again 🔑\n"
     ]
    },
    {
     "name": "stdin",
     "output_type": "stream",
     "text": [
      "Enter the secret password:  PythonRocks\n"
     ]
    },
    {
     "name": "stdout",
     "output_type": "stream",
     "text": [
      "Access granted ✅\n"
     ]
    }
   ],
   "source": [
    "while True:\n",
    "    password = input(\"Enter the secret password: \")\n",
    "    \n",
    "    if password == \"PythonRocks\":\n",
    "        print(\"Access granted ✅\")\n",
    "        break\n",
    "    else:\n",
    "        print(\"Wrong password, try again 🔑\")"
   ]
  },
  {
   "cell_type": "markdown",
   "id": "45244805-89b6-4431-947e-b0982dec5a83",
   "metadata": {},
   "source": [
    "### How it works\n",
    "\n",
    "1. The loop starts with `while True`, which is always true.  \n",
    "2. Python asks the user to enter a password.  \n",
    "3. If the correct password is entered, `\"Access granted\"` is printed and the loop stops using **break**.  \n",
    "4. Otherwise, it keeps asking indefinitely.  \n",
    "\n",
    "#### Fun Note:  \n",
    "Infinite loops are useful for programs that should run continuously (like **servers** or **games**), but always make sure you have a way to **exit the loop**. Otherwise, your program will never stop.\n"
   ]
  },
  {
   "cell_type": "markdown",
   "id": "d3892e07-16f1-40f3-8b09-7f0e75058648",
   "metadata": {},
   "source": [
    "### 3. Nested Loops\n",
    "\n",
    "A **nested loop** is a loop **inside another loop**.  \n",
    "The **inner loop** runs completely every time the **outer loop** runs once.\n",
    "\n",
    "Nested loops are useful when you need to handle **grid-like structures**, **patterns**, or **multi-level tasks**.\n"
   ]
  },
  {
   "cell_type": "code",
   "execution_count": 7,
   "id": "1113aecf-f062-4567-b752-5fe773403f73",
   "metadata": {},
   "outputs": [
    {
     "name": "stdout",
     "output_type": "stream",
     "text": [
      "1 \n",
      "2 2 \n",
      "3 3 3 \n",
      "4 4 4 4 \n"
     ]
    }
   ],
   "source": [
    "### Example: Printing a pattern\n",
    "\n",
    "for i in range(1, 5):\n",
    "    for j in range(i):\n",
    "        print(i, end=' ')\n",
    "    print()\n"
   ]
  },
  {
   "cell_type": "code",
   "execution_count": null,
   "id": "5043e88f-42a7-437d-b616-5556f2607d17",
   "metadata": {},
   "outputs": [],
   "source": []
  }
 ],
 "metadata": {
  "kernelspec": {
   "display_name": "Python 3 (ipykernel)",
   "language": "python",
   "name": "python3"
  },
  "language_info": {
   "codemirror_mode": {
    "name": "ipython",
    "version": 3
   },
   "file_extension": ".py",
   "mimetype": "text/x-python",
   "name": "python",
   "nbconvert_exporter": "python",
   "pygments_lexer": "ipython3",
   "version": "3.13.5"
  }
 },
 "nbformat": 4,
 "nbformat_minor": 5
}

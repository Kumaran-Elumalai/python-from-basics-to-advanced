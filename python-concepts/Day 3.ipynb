{
 "cells": [
  {
   "cell_type": "markdown",
   "id": "8700d9ef-6564-4465-8ff4-a2361929576a",
   "metadata": {},
   "source": [
    "### Welcome to Day 3 – Strings in Python!\n",
    "\n",
    "Today, we’re exploring **strings**, the part of Python that lets your programs **store messages**, **handle text**, and interact with users.  \n",
    "\n",
    "Strings are everywhere, from printing `\"Hello, World!\"` to storing **usernames**, **messages**, or entire **paragraphs**.  \n",
    "Knowing how to work with strings makes coding easier and more effective.  \n",
    "\n",
    "By the end of this session, you’ll know how to **create, manipulate, and play with strings like a Python pro.**.\n",
    "\n",
    "Grab a coffee, get comfortable, and let’s start working with **strings**!\n"
   ]
  },
  {
   "cell_type": "markdown",
   "id": "c0299a60-778a-4073-8194-ae36562e2a1d",
   "metadata": {},
   "source": [
    "### What is a String?\n",
    "\n",
    "In Python, a **string** is a **sequence of characters**. Think of it as **text** your program can read, store, and manipulate.  \n",
    "Strings can contain **letters, numbers, symbols, or spaces**.  \n",
    "\n",
    "Python treats strings as an **immutable sequence of characters**, which means once a string is created, you **cannot change its content directly**.  \n",
    "\n",
    "Strings are everywhere, from printing `\"Hello, World!\"` to storing **usernames**, **messages**, or entire **paragraphs**.  \n",
    "Understanding strings well will make your Python coding **smoother and more efficient**.\n"
   ]
  },
  {
   "cell_type": "markdown",
   "id": "26201569-d5bb-482b-9c8c-c749cfa4678a",
   "metadata": {},
   "source": [
    "### Creating Strings\n",
    "\n",
    "You can create **strings** in Python using:\n",
    "\n",
    "- **Single quotes:** `' '`\n"
   ]
  },
  {
   "cell_type": "code",
   "execution_count": 2,
   "id": "1f5f0cd7-9523-41a3-8776-0f1e447781a6",
   "metadata": {},
   "outputs": [
    {
     "name": "stdout",
     "output_type": "stream",
     "text": [
      "Albert\n"
     ]
    }
   ],
   "source": [
    "name = 'Albert'\n",
    "print(name)\n"
   ]
  },
  {
   "cell_type": "markdown",
   "id": "f5bfeecf-1598-4cbc-9c57-d10306864c97",
   "metadata": {},
   "source": [
    "- **Double quotes:** `\" \"`\n"
   ]
  },
  {
   "cell_type": "code",
   "execution_count": 4,
   "id": "f7002d88-ef4b-422f-9a7c-109271d6b3ff",
   "metadata": {},
   "outputs": [
    {
     "name": "stdout",
     "output_type": "stream",
     "text": [
      "Hello, World!\n"
     ]
    }
   ],
   "source": [
    "greeting = \"Hello, World!\"\n",
    "print(greeting)\n"
   ]
  },
  {
   "cell_type": "markdown",
   "id": "dfcde377-58ca-4b85-bb9b-b98faed6b3f8",
   "metadata": {},
   "source": [
    "- **Triple quotes:** `''' '''` or `\"\"\" \"\"\"`  \n",
    "Triple quotes are useful for **multi-line strings** or **docstrings**.\n"
   ]
  },
  {
   "cell_type": "code",
   "execution_count": 5,
   "id": "e1865d20-ac74-4c04-9bdb-3b635d5ece4c",
   "metadata": {},
   "outputs": [
    {
     "name": "stdout",
     "output_type": "stream",
     "text": [
      "This is a\n",
      "multi-line string\n",
      "in Python.\n"
     ]
    }
   ],
   "source": [
    "message = '''This is a\n",
    "multi-line string\n",
    "in Python.'''\n",
    "print(message)\n"
   ]
  },
  {
   "cell_type": "code",
   "execution_count": null,
   "id": "b2acc95e-c62c-47ae-b5e3-2dd9e7aaf497",
   "metadata": {},
   "outputs": [],
   "source": []
  }
 ],
 "metadata": {
  "kernelspec": {
   "display_name": "Python 3 (ipykernel)",
   "language": "python",
   "name": "python3"
  },
  "language_info": {
   "codemirror_mode": {
    "name": "ipython",
    "version": 3
   },
   "file_extension": ".py",
   "mimetype": "text/x-python",
   "name": "python",
   "nbconvert_exporter": "python",
   "pygments_lexer": "ipython3",
   "version": "3.13.5"
  }
 },
 "nbformat": 4,
 "nbformat_minor": 5
}

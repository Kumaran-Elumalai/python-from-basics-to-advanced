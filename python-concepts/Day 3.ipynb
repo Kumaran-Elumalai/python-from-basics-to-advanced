{
 "cells": [
  {
   "cell_type": "markdown",
   "id": "edb31a0f-daa3-4119-8852-758304e6808f",
   "metadata": {},
   "source": [
    "# **Welcome to Day 3!**\n",
    "## **Loops in Python (For, While, and Nested Loops)**\n",
    "\n",
    "Welcome back to the Python series!  \n",
    "If you’ve made it this far, give yourself a little pat on the back — you’ve already tackled the basics, played around with variables, and mastered operators.\n",
    "\n",
    "Now it’s time to level up with something that every programmer both loves and occasionally fears: **Loops**.\n",
    "\n",
    "Get ready to make Python handle all the repetitive work for you while you sit back and watch it loop like a pro.\n"
   ]
  },
  {
   "cell_type": "markdown",
   "id": "bd82e5cd-11fd-440f-9884-548e60cfac56",
   "metadata": {},
   "source": [
    "### **Loops in Python**\n",
    "\n",
    "Loops in Python help you repeat a block of code multiple times without writing it again and again.  \n",
    "They are used to perform tasks efficiently and automatically.\n",
    "\n",
    "There are two main types of loops in Python:\n",
    "\n",
    "- **for loop** → used when you know how many times to repeat.  \n",
    "- **while loop** → used when you want to repeat something until a condition becomes false.\n"
   ]
  },
  {
   "cell_type": "markdown",
   "id": "78042756-65b1-4756-ad5c-e1bbe90e6c67",
   "metadata": {},
   "source": [
    "### **1. For Loop**\n",
    "\n",
    "A **for loop** is used when you want to go through each item in a sequence such as a list, tuple, string, or even a range of numbers.  \n",
    "It helps you repeat a task for every element without doing the hard work yourself.\n",
    "\n",
    "Think of it like telling Python:\n",
    "\n",
    "> “Hey Python, go through everything in this list one by one, and I’ll tell you what to do with each!”\n",
    "\n",
    "**Syntax:**\n",
    "```python\n",
    "for item in sequence:\n",
    "    # perform some action\n"
   ]
  },
  {
   "cell_type": "markdown",
   "id": "bae5910c-c162-43d4-ae87-2c0c108af19b",
   "metadata": {},
   "source": [
    "### Example 1: Loop through a list"
   ]
  },
  {
   "cell_type": "code",
   "execution_count": 1,
   "id": "e47e796e-8079-4e99-8458-6943a89db723",
   "metadata": {},
   "outputs": [
    {
     "name": "stdout",
     "output_type": "stream",
     "text": [
      "Sending invitation to Alex 🎉\n",
      "Sending invitation to Bella 🎉\n",
      "Sending invitation to Chris 🎉\n"
     ]
    }
   ],
   "source": [
    "friends = [\"Alex\", \"Bella\", \"Chris\"]\n",
    "for friend in friends:\n",
    "    print(f\"Sending invitation to {friend} 🎉\")"
   ]
  },
  {
   "cell_type": "markdown",
   "id": "6010260f-1ede-4a31-bf9d-5fdc6fd46bd6",
   "metadata": {},
   "source": [
    "Here, the loop runs three times, once for each friend in the list.\n"
   ]
  },
  {
   "cell_type": "markdown",
   "id": "89eb1383-9d94-4910-b30d-3f25a2990300",
   "metadata": {},
   "source": [
    "### Example 2: Using range()\n",
    "\n",
    "If you want to loop through numbers, `range()` is your best friend.  \n",
    "It generates a sequence of numbers that you can loop through easily.\n"
   ]
  },
  {
   "cell_type": "code",
   "execution_count": 2,
   "id": "30cd5498-04df-4a45-be1b-0057c77f3e6a",
   "metadata": {},
   "outputs": [
    {
     "name": "stdout",
     "output_type": "stream",
     "text": [
      "Day 1: Keep coding 💻\n",
      "Day 2: Keep coding 💻\n",
      "Day 3: Keep coding 💻\n",
      "Day 4: Keep coding 💻\n",
      "Day 5: Keep coding 💻\n"
     ]
    }
   ],
   "source": [
    "for day in range(1, 6):\n",
    "    print(f\"Day {day}: Keep coding 💻\")"
   ]
  },
  {
   "cell_type": "markdown",
   "id": "c82f5537-627a-4fb1-9cd0-475dbc5a9e18",
   "metadata": {},
   "source": [
    "#### Fun Insight  \n",
    "The `range(start, stop)` function begins at the **start** value (inclusive) and stops **just before** the **stop** value (exclusive).  \n",
    "So, `range(1, 6)` gives you numbers **1 to 5**, not 6!  "
   ]
  },
  {
   "cell_type": "markdown",
   "id": "a9ce2f5b-ba73-46e6-8177-bf0d984920f5",
   "metadata": {},
   "source": [
    "### Iterating by Index of Sequences\n",
    "\n",
    "Sometimes, you may want to loop through a sequence using the **index number** of each element, especially when you need **both the position and the value**.\n",
    "\n",
    "To do this, first find the length of the sequence using `len()` and then loop through the **range of that length**.\n",
    "\n",
    "**Syntax:**\n",
    "```python\n",
    "for index in range(len(sequence)):\n",
    "    # access each element using its index\n"
   ]
  },
  {
   "cell_type": "code",
   "execution_count": 3,
   "id": "f9e46d8b-a354-4200-8541-bc817adb007c",
   "metadata": {},
   "outputs": [
    {
     "name": "stdout",
     "output_type": "stream",
     "text": [
      "Color 1: red\n",
      "Color 2: green\n",
      "Color 3: blue\n",
      "Color 4: yellow\n"
     ]
    }
   ],
   "source": [
    "colors = [\"red\", \"green\", \"blue\", \"yellow\"]\n",
    "\n",
    "for i in range(len(colors)):\n",
    "    print(f\"Color {i+1}: {colors[i]}\")"
   ]
  },
  {
   "cell_type": "markdown",
   "id": "fb45764d-1d8e-4089-b046-383ca30fdfd8",
   "metadata": {},
   "source": [
    "Here’s what’s happening step by step:\n",
    "\n",
    "1. `len(colors)` gives the total number of items in the list.  \n",
    "2. `range(len(colors))` generates numbers from 0 to **length - 1** (these are valid indices).  \n",
    "3. Each time through the loop, we use the **index `i`** to access and print the element.  \n",
    "\n",
    "#### Fun Note:  \n",
    "`range(len(list))` gives you **indices**, not the actual elements.  \n",
    "If you want **both index and value together**, you can use the built-in function `enumerate()` (we’ll see that soon).\n"
   ]
  },
  {
   "cell_type": "markdown",
   "id": "88aeecd8-22dd-49ab-b4de-3b557aa8dcaf",
   "metadata": {},
   "source": [
    "### 2. While Loop\n",
    "\n",
    "A **while loop** repeats a block of code as long as a **condition** is true.  \n",
    "Once the condition becomes false, Python moves on to the next line after the loop.\n",
    "\n",
    "Think of it like saying:\n",
    "\n",
    "> \"Keep doing this until I tell you to stop.\"\n",
    "\n",
    "**Syntax:**\n",
    "```python\n",
    "while condition:\n",
    "    # do something\n"
   ]
  },
  {
   "cell_type": "markdown",
   "id": "44264f96-70e2-4c1f-a430-fd1a0b0ca60c",
   "metadata": {},
   "source": [
    "#### Example: Counting down"
   ]
  },
  {
   "cell_type": "code",
   "execution_count": 4,
   "id": "a6f8e5fb-9bdf-40b4-b27d-8a0f2cb3ee6f",
   "metadata": {},
   "outputs": [
    {
     "name": "stdout",
     "output_type": "stream",
     "text": [
      "Countdown: 5 🚀\n",
      "Countdown: 4 🚀\n",
      "Countdown: 3 🚀\n",
      "Countdown: 2 🚀\n",
      "Countdown: 1 🚀\n",
      "Lift off! 🛫\n"
     ]
    }
   ],
   "source": [
    "count = 5\n",
    "\n",
    "while count > 0:\n",
    "    print(f\"Countdown: {count} 🚀\")\n",
    "    count -= 1\n",
    "\n",
    "print(\"Lift off! 🛫\")"
   ]
  },
  {
   "cell_type": "markdown",
   "id": "67c261fa-fde1-4954-8c31-24e9f1c9341b",
   "metadata": {},
   "source": [
    "Here’s what’s happening step by step:\n",
    "\n",
    "1. `count` starts at 5.  \n",
    "2. The condition `count > 0` is checked. Since it is **True**, the loop runs.  \n",
    "3. The countdown message is printed and `count` decreases by 1.  \n",
    "4. Steps 2-3 repeat until `count > 0` becomes **False**.  \n",
    "5. The loop stops and Python prints `\"Lift off!\"`.\n",
    "\n",
    "#### Fun Note:  \n",
    "Make sure your **condition will eventually become false**.  \n",
    "Otherwise, you might create an **infinite loop** that never stops!\n"
   ]
  },
  {
   "cell_type": "markdown",
   "id": "c0c6e960-5ea7-4f03-a0d7-3cbee532891b",
   "metadata": {},
   "source": [
    "### Infinite While Loop\n",
    "\n",
    "Sometimes, you might want a loop to run **forever** until a certain condition is met or until you decide to stop it manually.  \n",
    "In Python, this is called an **infinite loop**.\n",
    "\n",
    "To create one, you can use a **while loop** with the condition `True`.  \n",
    "The loop will keep running unless you use a **break statement** or some other logic to stop it.\n"
   ]
  },
  {
   "cell_type": "code",
   "execution_count": 5,
   "id": "77710a8a-3b09-4f28-9e2a-dbfa668441ac",
   "metadata": {},
   "outputs": [
    {
     "name": "stdin",
     "output_type": "stream",
     "text": [
      "Enter the secret password:  python\n"
     ]
    },
    {
     "name": "stdout",
     "output_type": "stream",
     "text": [
      "Wrong password, try again 🔑\n"
     ]
    },
    {
     "name": "stdin",
     "output_type": "stream",
     "text": [
      "Enter the secret password:  password123\n"
     ]
    },
    {
     "name": "stdout",
     "output_type": "stream",
     "text": [
      "Wrong password, try again 🔑\n"
     ]
    },
    {
     "name": "stdin",
     "output_type": "stream",
     "text": [
      "Enter the secret password:  pythonisawesome\n"
     ]
    },
    {
     "name": "stdout",
     "output_type": "stream",
     "text": [
      "Wrong password, try again 🔑\n"
     ]
    },
    {
     "name": "stdin",
     "output_type": "stream",
     "text": [
      "Enter the secret password:  PythonRocks\n"
     ]
    },
    {
     "name": "stdout",
     "output_type": "stream",
     "text": [
      "Access granted ✅\n"
     ]
    }
   ],
   "source": [
    "while True:\n",
    "    password = input(\"Enter the secret password: \")\n",
    "    \n",
    "    if password == \"PythonRocks\":\n",
    "        print(\"Access granted ✅\")\n",
    "        break\n",
    "    else:\n",
    "        print(\"Wrong password, try again 🔑\")"
   ]
  },
  {
   "cell_type": "markdown",
   "id": "45244805-89b6-4431-947e-b0982dec5a83",
   "metadata": {},
   "source": [
    "### How it works\n",
    "\n",
    "1. The loop starts with `while True`, which is always true.  \n",
    "2. Python asks the user to enter a password.  \n",
    "3. If the correct password is entered, `\"Access granted\"` is printed and the loop stops using **break**.  \n",
    "4. Otherwise, it keeps asking indefinitely.  \n",
    "\n",
    "#### Fun Note:  \n",
    "Infinite loops are useful for programs that should run continuously (like **servers** or **games**), but always make sure you have a way to **exit the loop**. Otherwise, your program will never stop.\n"
   ]
  },
  {
   "cell_type": "markdown",
   "id": "d3892e07-16f1-40f3-8b09-7f0e75058648",
   "metadata": {},
   "source": [
    "### 3. Nested Loops\n",
    "\n",
    "A **nested loop** is a loop **inside another loop**.  \n",
    "The **inner loop** runs completely every time the **outer loop** runs once.\n",
    "\n",
    "Nested loops are useful when you need to handle **grid-like structures**, **patterns**, or **multi-level tasks**.\n"
   ]
  },
  {
   "cell_type": "code",
   "execution_count": 7,
   "id": "1113aecf-f062-4567-b752-5fe773403f73",
   "metadata": {},
   "outputs": [
    {
     "name": "stdout",
     "output_type": "stream",
     "text": [
      "1 \n",
      "2 2 \n",
      "3 3 3 \n",
      "4 4 4 4 \n"
     ]
    }
   ],
   "source": [
    "### Example: Printing a pattern\n",
    "\n",
    "for i in range(1, 5):\n",
    "    for j in range(i):\n",
    "        print(i, end=' ')\n",
    "    print()\n"
   ]
  },
  {
   "cell_type": "markdown",
   "id": "1b914932-f988-40e1-afdc-d24ded2b225a",
   "metadata": {},
   "source": [
    "### How it works\n",
    "\n",
    "1. The **outer loop** (`i`) runs from 1 to 4.  \n",
    "2. The **inner loop** (`j`) runs `i` times for each value of `i`.  \n",
    "3. `print(i, end=' ')` prints the current value of `i` on the same line.  \n",
    "4. The `print()` after the inner loop moves to the next line after each row.  \n",
    "\n",
    "With each iteration of the outer loop, the number of times `i` is printed **increases**.\n",
    "\n",
    "**Key Point:**  \n",
    "You can **mix and match loops** in Python:  \n",
    "- A **for loop** can be inside a **while loop**.  \n",
    "- A **while loop** can be inside a **for loop**.  \n",
    "- You can even **nest multiple levels of loops** if needed.\n",
    "\n",
    "**Fun Fact:**  \n",
    "Nested loops are **powerful** but can get **slow** if you have many levels, especially with large data. Keep an eye on **efficiency**.\n"
   ]
  },
  {
   "cell_type": "markdown",
   "id": "0bf09982-5df0-43d1-9cab-1ae3f084068e",
   "metadata": {},
   "source": [
    "### Loop Control Statements\n",
    "\n",
    "Sometimes you don’t want a loop to run its normal course. Maybe you want to **skip a step**, **stop early**, or **jump to the next iteration**.  \n",
    "Python gives us **loop control statements** to do exactly that.\n",
    "\n",
    "There are three main loop control statements in Python:\n",
    "\n",
    "- **break** → Stops the loop completely and moves to the line after the loop.  \n",
    "- **continue** → Skips the current iteration and moves to the next one.  \n",
    "- **pass** → Does nothing. It’s like a **placeholder** when a loop requires a statement but you don’t want to do anything yet.\n"
   ]
  },
  {
   "cell_type": "markdown",
   "id": "2946c31b-e581-46e9-a223-f72aa5c69fc4",
   "metadata": {},
   "source": [
    "### Continue Statement\n",
    "\n",
    "The **continue** statement in Python skips the rest of the code in the **current iteration** and moves on to the **next iteration** of the loop.\n",
    "\n",
    "Think of it like saying:\n",
    "\n",
    "> \"I’m done with this step, skip it and move on to the next item.\"\n"
   ]
  },
  {
   "cell_type": "markdown",
   "id": "673fd533-1bd0-43fb-bdc2-8fa9e2907fde",
   "metadata": {},
   "source": [
    "#### Example: Skipping odd numbers"
   ]
  },
  {
   "cell_type": "code",
   "execution_count": 8,
   "id": "fb4e4ffb-da20-4456-9762-70de43962a14",
   "metadata": {},
   "outputs": [
    {
     "name": "stdout",
     "output_type": "stream",
     "text": [
      "Even Number: 2\n",
      "Even Number: 4\n",
      "Even Number: 6\n",
      "Even Number: 8\n",
      "Even Number: 10\n"
     ]
    }
   ],
   "source": [
    "for number in range(1, 11):\n",
    "    if number % 2 != 0:  # skip odd numbers\n",
    "        continue\n",
    "    print(\"Even Number:\", number)"
   ]
  },
  {
   "cell_type": "markdown",
   "id": "a6c42f54-93d2-4f54-9fc0-f9f795fbf908",
   "metadata": {},
   "source": [
    "### How it works\n",
    "\n",
    "1. The loop checks numbers from 1 to 10.  \n",
    "2. When a number is **odd**, `continue` skips the `print()` statement.  \n",
    "3. When a number is **even**, it gets printed.  \n",
    "4. The loop does not restart, it just moves to the next number.\n",
    "\n",
    "**Tip:**  \n",
    "`continue` is useful when you want to **ignore certain cases** but continue looping normally.\n"
   ]
  },
  {
   "cell_type": "markdown",
   "id": "cb4df452-2a60-4670-9139-4fdb4a475d60",
   "metadata": {},
   "source": [
    "### Break Statement\n",
    "\n",
    "The **break** statement in Python stops the loop completely and moves control to the line immediately after the loop.\n",
    "\n",
    "Think of it like saying:\n",
    "\n",
    "> \"Stop right here, we are done with this loop.\"\n"
   ]
  },
  {
   "cell_type": "markdown",
   "id": "73fa4608-c6f2-4d86-80a9-4809c980866b",
   "metadata": {},
   "source": [
    "#### Example: Searching for a number"
   ]
  },
  {
   "cell_type": "code",
   "execution_count": 9,
   "id": "d0fcc9b9-3ece-4b80-8b29-134e2b0ba6c0",
   "metadata": {},
   "outputs": [
    {
     "name": "stdout",
     "output_type": "stream",
     "text": [
      "Checking number: 3\n",
      "Checking number: 7\n",
      "Checking number: 9\n",
      "Found 2! Stopping the loop.\n"
     ]
    }
   ],
   "source": [
    "numbers = [3, 7, 9, 2, 5]\n",
    "\n",
    "for num in numbers:\n",
    "    if num == 2:\n",
    "        print(\"Found 2! Stopping the loop.\")\n",
    "        break\n",
    "    print(\"Checking number:\", num)"
   ]
  },
  {
   "cell_type": "markdown",
   "id": "d21f3d09-b53c-4da5-b0f5-568b7d02ab31",
   "metadata": {},
   "source": [
    "### How it works\n",
    "\n",
    "1. The loop goes through each number in the list.  \n",
    "2. When it finds `2`, the **break** statement stops the loop immediately.  \n",
    "3. Python moves to the next line after the loop, ignoring any remaining numbers.\n",
    "\n",
    "**Tip:**  \n",
    "Use **break** when you want to **exit a loop early** once a certain condition is met.\n"
   ]
  },
  {
   "cell_type": "markdown",
   "id": "45b5b4a3-2ed8-4994-930f-db8ac84a33d8",
   "metadata": {},
   "source": [
    "### Pass Statement\n",
    "\n",
    "The **pass** statement in Python is like a **placeholder**. It does nothing but allows your code to run without errors when a statement is required syntactically.\n",
    "\n",
    "Think of it like saying:\n",
    "\n",
    "> \"I’ll fill this part later, but for now, just skip it.\"\n",
    "\n",
    "**Common use cases for `pass`:**\n",
    "\n",
    "- Empty loops  \n",
    "- Empty functions  \n",
    "- Empty classes  \n",
    "- Empty control statements\n"
   ]
  },
  {
   "cell_type": "markdown",
   "id": "56030991-35a6-44c7-afbf-571a5a89f434",
   "metadata": {},
   "source": [
    "#### Example 1: Empty loop"
   ]
  },
  {
   "cell_type": "code",
   "execution_count": 10,
   "id": "8f2f62cf-037e-43a1-a050-abcfcff78d63",
   "metadata": {},
   "outputs": [],
   "source": [
    "for number in range(5):\n",
    "    pass  # We'll handle this later"
   ]
  },
  {
   "cell_type": "markdown",
   "id": "71a82c1b-2f54-416e-916e-c748fe8e842e",
   "metadata": {},
   "source": [
    "The loop runs 5 times but does nothing each time."
   ]
  },
  {
   "cell_type": "markdown",
   "id": "874a83f3-07c7-4564-97d8-afc3ddda69a8",
   "metadata": {},
   "source": [
    "#### Example 2: Empty function"
   ]
  },
  {
   "cell_type": "code",
   "execution_count": 11,
   "id": "1e70d31b-2107-43bf-a49f-bdce02c641b8",
   "metadata": {},
   "outputs": [],
   "source": [
    "def my_function():\n",
    "    pass  # Function will be implemented later"
   ]
  },
  {
   "cell_type": "markdown",
   "id": "9855d7fd-58f2-47d0-918e-f1f6b9a99f59",
   "metadata": {},
   "source": [
    "Python won’t throw an error even though the function is empty."
   ]
  },
  {
   "cell_type": "markdown",
   "id": "5b83cb4b-1382-4482-8125-2cc45a4235c9",
   "metadata": {},
   "source": [
    "#### Example 3: Empty if statement"
   ]
  },
  {
   "cell_type": "code",
   "execution_count": 12,
   "id": "aebb3675-704c-4fad-befa-8476980635f2",
   "metadata": {},
   "outputs": [
    {
     "name": "stdout",
     "output_type": "stream",
     "text": [
      "Access granted ✅\n"
     ]
    }
   ],
   "source": [
    "age = 20\n",
    "\n",
    "if age < 18:\n",
    "    pass  # Nothing to do for underage\n",
    "else:\n",
    "    print(\"Access granted ✅\")"
   ]
  },
  {
   "cell_type": "markdown",
   "id": "2055f0f8-cdcd-464e-8377-e866cb449c0c",
   "metadata": {},
   "source": [
    "#### Note:\n",
    "Use `pass` when you want to write code later or when a statement is required syntactically but you have nothing to do at the moment."
   ]
  },
  {
   "cell_type": "markdown",
   "id": "7c93079d-349c-42bb-8018-ec473f1319e6",
   "metadata": {},
   "source": [
    "## Using Else with Loops in Python\n",
    "\n",
    "In most programming languages like C, C++, or Java, the **else** statement can only be used with **if**.  \n",
    "But Python allows you to use **else** with loops as well.\n",
    "\n",
    "The **else** block after a **for** or **while** loop runs **only when the loop completes normally** —  \n",
    "meaning it does not end because of a **break** statement.\n"
   ]
  },
  {
   "cell_type": "code",
   "execution_count": null,
   "id": "43ead52a-0189-4354-88c6-9028b9e1a65b",
   "metadata": {},
   "outputs": [],
   "source": []
  }
 ],
 "metadata": {
  "kernelspec": {
   "display_name": "Python 3 (ipykernel)",
   "language": "python",
   "name": "python3"
  },
  "language_info": {
   "codemirror_mode": {
    "name": "ipython",
    "version": 3
   },
   "file_extension": ".py",
   "mimetype": "text/x-python",
   "name": "python",
   "nbconvert_exporter": "python",
   "pygments_lexer": "ipython3",
   "version": "3.13.5"
  }
 },
 "nbformat": 4,
 "nbformat_minor": 5
}

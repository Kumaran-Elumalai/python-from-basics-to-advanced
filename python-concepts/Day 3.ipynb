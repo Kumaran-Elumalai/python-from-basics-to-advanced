{
 "cells": [
  {
   "cell_type": "code",
   "execution_count": null,
   "id": "b8d2f670-572c-47a8-bbe2-0b2efebe6059",
   "metadata": {},
   "outputs": [],
   "source": []
  }
 ],
 "metadata": {
  "kernelspec": {
   "display_name": "",
   "name": ""
  },
  "language_info": {
   "name": ""
  }
 },
 "nbformat": 4,
 "nbformat_minor": 5
}

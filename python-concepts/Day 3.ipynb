{
 "cells": [
  {
   "cell_type": "markdown",
   "id": "edb31a0f-daa3-4119-8852-758304e6808f",
   "metadata": {},
   "source": [
    "# **Welcome to Day 3!**\n",
    "## **Loops in Python (For, While, and Nested Loops)**\n",
    "\n",
    "Welcome back to the Python series!  \n",
    "If you’ve made it this far, give yourself a little pat on the back — you’ve already tackled the basics, played around with variables, and mastered operators.\n",
    "\n",
    "Now it’s time to level up with something that every programmer both loves and occasionally fears: **Loops**.\n",
    "\n",
    "Get ready to make Python handle all the repetitive work for you while you sit back and watch it loop like a pro.\n"
   ]
  },
  {
   "cell_type": "markdown",
   "id": "bd82e5cd-11fd-440f-9884-548e60cfac56",
   "metadata": {},
   "source": [
    "### **Loops in Python**\n",
    "\n",
    "Loops in Python help you repeat a block of code multiple times without writing it again and again.  \n",
    "They are used to perform tasks efficiently and automatically.\n",
    "\n",
    "There are two main types of loops in Python:\n",
    "\n",
    "- **for loop** → used when you know how many times to repeat.  \n",
    "- **while loop** → used when you want to repeat something until a condition becomes false.\n"
   ]
  },
  {
   "cell_type": "markdown",
   "id": "78042756-65b1-4756-ad5c-e1bbe90e6c67",
   "metadata": {},
   "source": [
    "### **1. For Loop**\n",
    "\n",
    "A **for loop** is used when you want to go through each item in a sequence such as a list, tuple, string, or even a range of numbers.  \n",
    "It helps you repeat a task for every element without doing the hard work yourself.\n",
    "\n",
    "Think of it like telling Python:\n",
    "\n",
    "> “Hey Python, go through everything in this list one by one, and I’ll tell you what to do with each!”\n",
    "\n",
    "**Syntax:**\n",
    "```python\n",
    "for item in sequence:\n",
    "    # perform some action\n"
   ]
  },
  {
   "cell_type": "markdown",
   "id": "bae5910c-c162-43d4-ae87-2c0c108af19b",
   "metadata": {},
   "source": [
    "### Example 1: Loop through a list"
   ]
  },
  {
   "cell_type": "code",
   "execution_count": 1,
   "id": "e47e796e-8079-4e99-8458-6943a89db723",
   "metadata": {},
   "outputs": [
    {
     "name": "stdout",
     "output_type": "stream",
     "text": [
      "Sending invitation to Alex 🎉\n",
      "Sending invitation to Bella 🎉\n",
      "Sending invitation to Chris 🎉\n"
     ]
    }
   ],
   "source": [
    "friends = [\"Alex\", \"Bella\", \"Chris\"]\n",
    "for friend in friends:\n",
    "    print(f\"Sending invitation to {friend} 🎉\")"
   ]
  },
  {
   "cell_type": "markdown",
   "id": "6010260f-1ede-4a31-bf9d-5fdc6fd46bd6",
   "metadata": {},
   "source": [
    "Here, the loop runs three times, once for each friend in the list.\n"
   ]
  },
  {
   "cell_type": "markdown",
   "id": "89eb1383-9d94-4910-b30d-3f25a2990300",
   "metadata": {},
   "source": [
    "### Example 2: Using range()\n",
    "\n",
    "If you want to loop through numbers, `range()` is your best friend.  \n",
    "It generates a sequence of numbers that you can loop through easily.\n"
   ]
  },
  {
   "cell_type": "code",
   "execution_count": 2,
   "id": "30cd5498-04df-4a45-be1b-0057c77f3e6a",
   "metadata": {},
   "outputs": [
    {
     "name": "stdout",
     "output_type": "stream",
     "text": [
      "Day 1: Keep coding 💻\n",
      "Day 2: Keep coding 💻\n",
      "Day 3: Keep coding 💻\n",
      "Day 4: Keep coding 💻\n",
      "Day 5: Keep coding 💻\n"
     ]
    }
   ],
   "source": [
    "for day in range(1, 6):\n",
    "    print(f\"Day {day}: Keep coding 💻\")"
   ]
  },
  {
   "cell_type": "code",
   "execution_count": null,
   "id": "a485e6d9-7bad-4c0b-a37f-eb09afdc849a",
   "metadata": {},
   "outputs": [],
   "source": []
  }
 ],
 "metadata": {
  "kernelspec": {
   "display_name": "Python 3 (ipykernel)",
   "language": "python",
   "name": "python3"
  },
  "language_info": {
   "codemirror_mode": {
    "name": "ipython",
    "version": 3
   },
   "file_extension": ".py",
   "mimetype": "text/x-python",
   "name": "python",
   "nbconvert_exporter": "python",
   "pygments_lexer": "ipython3",
   "version": "3.13.5"
  }
 },
 "nbformat": 4,
 "nbformat_minor": 5
}

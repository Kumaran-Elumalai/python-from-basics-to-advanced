{
 "cells": [
  {
   "cell_type": "markdown",
   "id": "edb31a0f-daa3-4119-8852-758304e6808f",
   "metadata": {},
   "source": [
    "# **Welcome to Day 3!**\n",
    "## **Loops in Python (For, While, and Nested Loops)**\n",
    "\n",
    "Welcome back to the Python series!  \n",
    "If you’ve made it this far, give yourself a little pat on the back — you’ve already tackled the basics, played around with variables, and mastered operators.\n",
    "\n",
    "Now it’s time to level up with something that every programmer both loves and occasionally fears: **Loops**.\n",
    "\n",
    "Get ready to make Python handle all the repetitive work for you while you sit back and watch it loop like a pro.\n"
   ]
  },
  {
   "cell_type": "code",
   "execution_count": null,
   "id": "30004613-a0a6-4063-8899-e1fc20a52246",
   "metadata": {},
   "outputs": [],
   "source": []
  }
 ],
 "metadata": {
  "kernelspec": {
   "display_name": "Python 3 (ipykernel)",
   "language": "python",
   "name": "python3"
  },
  "language_info": {
   "codemirror_mode": {
    "name": "ipython",
    "version": 3
   },
   "file_extension": ".py",
   "mimetype": "text/x-python",
   "name": "python",
   "nbconvert_exporter": "python",
   "pygments_lexer": "ipython3",
   "version": "3.13.5"
  }
 },
 "nbformat": 4,
 "nbformat_minor": 5
}

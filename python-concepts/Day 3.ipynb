{
 "cells": [
  {
   "cell_type": "markdown",
   "id": "edb31a0f-daa3-4119-8852-758304e6808f",
   "metadata": {},
   "source": [
    "- This will be the Day 3 notebook\n"
   ]
  },
  {
   "cell_type": "code",
   "execution_count": null,
   "id": "30004613-a0a6-4063-8899-e1fc20a52246",
   "metadata": {},
   "outputs": [],
   "source": []
  }
 ],
 "metadata": {
  "kernelspec": {
   "display_name": "Python 3 (ipykernel)",
   "language": "python",
   "name": "python3"
  },
  "language_info": {
   "codemirror_mode": {
    "name": "ipython",
    "version": 3
   },
   "file_extension": ".py",
   "mimetype": "text/x-python",
   "name": "python",
   "nbconvert_exporter": "python",
   "pygments_lexer": "ipython3",
   "version": "3.13.5"
  }
 },
 "nbformat": 4,
 "nbformat_minor": 5
}

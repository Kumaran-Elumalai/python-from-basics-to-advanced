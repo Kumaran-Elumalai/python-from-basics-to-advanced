{
 "cells": [
  {
   "cell_type": "markdown",
   "id": "b1dbdb73-e392-4bac-872e-bf3733355ca0",
   "metadata": {},
   "source": [
    "### Hey coder 👋\n",
    "\n",
    "Welcome back to **Day 5** of our Python journey. You’ve done an **awesome job** making it this far!\n",
    "\n",
    "Yesterday we explored how **functions** work and even met **recursion** along the way.  \n",
    "Today we’re taking things up a notch with some **advanced function concepts** that will make your code more **flexible** and **powerful**.\n",
    "\n",
    "So get comfy, open your editor, and let’s **dive deeper into the magic of Python functions** together. 💻✨\n"
   ]
  },
  {
   "cell_type": "markdown",
   "id": "a2acc131-cd8c-4cb8-a48b-9694b980a1a4",
   "metadata": {},
   "source": [
    "**Alright, let’s understand Lambda Functions in detail and see how these tiny, powerful functions can make our code cleaner and faster.**"
   ]
  },
  {
   "cell_type": "markdown",
   "id": "52e64720-5c20-450b-b1f6-4f54a043eff9",
   "metadata": {},
   "source": [
    "### Lambda Functions\n",
    "\n",
    "A **Lambda Function** is an **anonymous function**, which means it doesn’t have a name.  \n",
    "We normally use the `def` keyword to create regular functions, but for small, one-line functions, Python gives us a quicker way using the `lambda` keyword.\n",
    "\n",
    "Lambda functions are great when you need a **short, throwaway function** that does a simple task.\n",
    "\n",
    "#### Syntax\n",
    "```python\n",
    "lambda arguments: expression\n"
   ]
  },
  {
   "cell_type": "markdown",
   "id": "06287e33-7e8a-4b73-8013-0084f457d993",
   "metadata": {},
   "source": [
    "**The expression is automatically returned, so you don’t need to use a return statement.**"
   ]
  },
  {
   "cell_type": "code",
   "execution_count": 1,
   "id": "601e7ef1-0a4d-4d4f-9fa1-859fc2231c4d",
   "metadata": {},
   "outputs": [
    {
     "name": "stdout",
     "output_type": "stream",
     "text": [
      "PYTHON IS FUN\n"
     ]
    }
   ],
   "source": [
    "upper = lambda text: text.upper()\n",
    "print(upper(\"python is fun\"))"
   ]
  },
  {
   "cell_type": "markdown",
   "id": "2dd2e8b7-da87-45f5-8742-6b7a4668659e",
   "metadata": {},
   "source": [
    "### Use Cases of Lambda Functions\n",
    "\n",
    "Let’s look at some **practical uses** of lambda functions in Python \n",
    "\n",
    "1. **Using with condition checking**  \n",
    "   Apply quick conditions without defining a separate function.\n",
    "\n",
    "2. **Using with list comprehension**  \n",
    "   Combine lambda with list comprehensions for concise transformations.\n",
    "\n",
    "3. **Using for returning multiple results**  \n",
    "   Perform small calculations and return results in a compact way.\n",
    "\n",
    "4. **Using with `filter()`**  \n",
    "   Filter elements from a list based on a condition.\n",
    "\n",
    "5. **Using with `map()`**  \n",
    "   Apply a function to every element in a list.\n",
    "\n",
    "6. **Using with `reduce()`**  \n",
    "   Perform cumulative operations on a list, like summing or multiplying all elements."
   ]
  },
  {
   "cell_type": "markdown",
   "id": "fd943306-17bc-41df-98ef-005d6bd134c9",
   "metadata": {},
   "source": [
    "### 1. Using with Condition Checking\n",
    "\n",
    "A **lambda function** can include conditions using **if statements**.\n",
    "\n",
    "Here, the lambda function uses **nested if-else logic** to classify numbers as **Positive**, **Negative**, or **Zero**.\n"
   ]
  },
  {
   "cell_type": "code",
   "execution_count": 2,
   "id": "355440d0-00fa-496a-9f09-37cbfa677f2d",
   "metadata": {},
   "outputs": [],
   "source": [
    "n = lambda x: \"Positive\" if x > 0 else \"Negative\" if x < 0 else \"Zero\""
   ]
  },
  {
   "cell_type": "code",
   "execution_count": 3,
   "id": "18e541f0-b247-484c-adaf-10974a7cbb59",
   "metadata": {},
   "outputs": [
    {
     "data": {
      "text/plain": [
       "'Positive'"
      ]
     },
     "execution_count": 3,
     "metadata": {},
     "output_type": "execute_result"
    }
   ],
   "source": [
    "n(5)"
   ]
  },
  {
   "cell_type": "code",
   "execution_count": 4,
   "id": "9cc7bd8e-8f8f-46dd-96ce-246286335805",
   "metadata": {},
   "outputs": [
    {
     "data": {
      "text/plain": [
       "'Negative'"
      ]
     },
     "execution_count": 4,
     "metadata": {},
     "output_type": "execute_result"
    }
   ],
   "source": [
    "n(-5)"
   ]
  },
  {
   "cell_type": "code",
   "execution_count": 5,
   "id": "b2abf1b4-6602-4d99-9709-d78422175ba5",
   "metadata": {},
   "outputs": [
    {
     "data": {
      "text/plain": [
       "'Zero'"
      ]
     },
     "execution_count": 5,
     "metadata": {},
     "output_type": "execute_result"
    }
   ],
   "source": [
    "n(0)"
   ]
  },
  {
   "cell_type": "markdown",
   "id": "053fc96e-bdc7-4995-ba8d-3774ab4011f9",
   "metadata": {},
   "source": [
    "This **lambda function** checks **divisibility by 2** and returns **\"Even\"** or **\"Odd\"** accordingly.\n"
   ]
  },
  {
   "cell_type": "code",
   "execution_count": 6,
   "id": "1b441b1a-017c-4a9c-8a0a-d25c99236aa6",
   "metadata": {},
   "outputs": [],
   "source": [
    "check = lambda x: \"Even\" if x % 2 == 0 else \"Odd\""
   ]
  },
  {
   "cell_type": "code",
   "execution_count": 7,
   "id": "e9eede97-e365-4000-b4c5-be565bb065e2",
   "metadata": {},
   "outputs": [
    {
     "data": {
      "text/plain": [
       "'Even'"
      ]
     },
     "execution_count": 7,
     "metadata": {},
     "output_type": "execute_result"
    }
   ],
   "source": [
    "check(10)"
   ]
  },
  {
   "cell_type": "code",
   "execution_count": 8,
   "id": "d93be006-45fa-4a9a-a487-9663af5cad55",
   "metadata": {},
   "outputs": [
    {
     "data": {
      "text/plain": [
       "'Even'"
      ]
     },
     "execution_count": 8,
     "metadata": {},
     "output_type": "execute_result"
    }
   ],
   "source": [
    "check(2)"
   ]
  },
  {
   "cell_type": "code",
   "execution_count": 9,
   "id": "31b47f70-50cc-475c-b56e-bcd17e7787ba",
   "metadata": {},
   "outputs": [
    {
     "data": {
      "text/plain": [
       "'Odd'"
      ]
     },
     "execution_count": 9,
     "metadata": {},
     "output_type": "execute_result"
    }
   ],
   "source": [
    "check(15)"
   ]
  },
  {
   "cell_type": "markdown",
   "id": "adc02d3f-331c-48a5-a01f-c3c87d972cdf",
   "metadata": {},
   "source": [
    "**2. Using with List Comprehension**\n",
    "\n",
    "We can combine **lambda functions** with **list comprehensions** to transform data in a concise and readable way.\n"
   ]
  },
  {
   "cell_type": "markdown",
   "id": "896709dc-40f8-42e0-8448-b6a00811028a",
   "metadata": {},
   "source": [
    "This code creates a list of lambda functions, each multiplying its input by 10 and then executes them one by one."
   ]
  },
  {
   "cell_type": "code",
   "execution_count": 1,
   "id": "102950c9-e28c-4342-8f6e-0a2d43152dd5",
   "metadata": {},
   "outputs": [
    {
     "name": "stdout",
     "output_type": "stream",
     "text": [
      "Function 0 output: 0\n",
      "Function 1 output: 10\n",
      "Function 2 output: 20\n",
      "Function 3 output: 30\n",
      "Function 4 output: 40\n"
     ]
    }
   ],
   "source": [
    "funcs = [lambda x: x * 10 for x in range(5)]\n",
    "\n",
    "for i, f in enumerate(funcs):\n",
    "    print(f\"Function {i} output:\", f(i))"
   ]
  },
  {
   "cell_type": "markdown",
   "id": "1977383d-e715-4db9-96b5-fd3a20e8d70a",
   "metadata": {},
   "source": [
    "**3. Using for Returning Multiple Results**\n",
    "\n",
    "Lambda functions cannot contain multiple statements, but we can still return multiple values by using a **tuple** or by **nesting one lambda inside another**.\n",
    "\n",
    "Here’s an example that calculates both the **sum** and **product** of two numbers and returns them together:\n"
   ]
  },
  {
   "cell_type": "code",
   "execution_count": 2,
   "id": "0be198d3-0966-438f-a257-556e56cf2e80",
   "metadata": {},
   "outputs": [
    {
     "name": "stdout",
     "output_type": "stream",
     "text": [
      "(8, 15)\n"
     ]
    }
   ],
   "source": [
    "sum_prod = lambda a, b: (a + b, a * b)\n",
    "\n",
    "result = sum_prod(5, 3)\n",
    "print(result) "
   ]
  },
  {
   "cell_type": "code",
   "execution_count": 3,
   "id": "ffb6fee5-8dd0-4eaf-8b61-e7ab26bc98ed",
   "metadata": {},
   "outputs": [
    {
     "name": "stdout",
     "output_type": "stream",
     "text": [
      "Sum: 8\n",
      "Product: 15\n"
     ]
    }
   ],
   "source": [
    "# Accessing individual values\n",
    "s, p = result\n",
    "print(\"Sum:\", s)\n",
    "print(\"Product:\", p)"
   ]
  },
  {
   "cell_type": "markdown",
   "id": "1db9f1b8-799d-47bb-bc23-ab539b505aa8",
   "metadata": {},
   "source": [
    "### Nested Lambda Functions\n",
    "\n",
    "You can also use **one lambda inside another** to perform **multiple operations** in a single expression.\n",
    "\n",
    "This approach can make your code **compact** but should be used **carefully** for readability.\n"
   ]
  },
  {
   "cell_type": "code",
   "execution_count": 4,
   "id": "ce7aca47-563d-4136-bb46-21d6d1265c35",
   "metadata": {},
   "outputs": [
    {
     "name": "stdout",
     "output_type": "stream",
     "text": [
      "(6, 8)\n"
     ]
    }
   ],
   "source": [
    "sum_prod = lambda a, b: (lambda x, y: (x + y, x * y))(a, b)\n",
    "\n",
    "result = sum_prod(4, 2)\n",
    "print(result)"
   ]
  },
  {
   "cell_type": "markdown",
   "id": "adf54170-59f0-45e5-9d92-db8b46512fa4",
   "metadata": {},
   "source": [
    "**4. Using with `filter()`**\n",
    "\n",
    "The `filter()` function in Python takes a **function** and an **iterable** (like a list) as inputs.  \n",
    "It filters out elements for which the function returns **True**.\n",
    "\n",
    "Here, we use a **lambda function** as the filtering condition to keep only the **even numbers**.\n"
   ]
  },
  {
   "cell_type": "code",
   "execution_count": 5,
   "id": "2d303480-be9a-4b4b-9415-b0706e18b79c",
   "metadata": {},
   "outputs": [
    {
     "name": "stdout",
     "output_type": "stream",
     "text": [
      "[2, 4, 6, 8, 10]\n"
     ]
    }
   ],
   "source": [
    "numbers = [1, 2, 3, 4, 5, 6, 7, 8, 9, 10]\n",
    "\n",
    "even_numbers = list(filter(lambda x: x % 2 == 0, numbers))\n",
    "print(even_numbers) "
   ]
  },
  {
   "cell_type": "markdown",
   "id": "c880af97-8fa0-424f-bc03-6c187ad296e8",
   "metadata": {},
   "source": [
    "**5. Using with `map()`**\n",
    "\n",
    "The `map()` function in Python takes a **function** and an **iterable** (like a list) as inputs.  \n",
    "It applies the function to **each item** in the iterable and returns a **new list**  \n",
    "(in Python 3, it returns a *map object*, so we convert it using `list()`).\n",
    "\n",
    "Here, we use a **lambda function** to **double each element** in the list.\n"
   ]
  },
  {
   "cell_type": "code",
   "execution_count": 6,
   "id": "9cc18396-ec86-4bc0-a5b2-20176ee32d58",
   "metadata": {},
   "outputs": [
    {
     "name": "stdout",
     "output_type": "stream",
     "text": [
      "[2, 4, 6, 8, 10]\n"
     ]
    }
   ],
   "source": [
    "numbers = [1, 2, 3, 4, 5]\n",
    "\n",
    "doubled = list(map(lambda x: x * 2, numbers))\n",
    "print(doubled)"
   ]
  },
  {
   "cell_type": "markdown",
   "id": "f8cd2fd6-0816-42b9-a8b9-4db4c5997342",
   "metadata": {},
   "source": [
    "**6. Using with `reduce()`**\n",
    "\n",
    "The `reduce()` function in Python applies a **function cumulatively** to all elements in an iterable.  \n",
    "It repeatedly applies the given function to pairs of elements until **only one final value** remains.\n",
    "\n",
    ">  Note: `reduce()` is **not a built-in function** — it comes from the `functools` module, so we must import it first.\n",
    "\n",
    "Here, we use a **lambda function** to **multiply all elements** in a list.\n"
   ]
  },
  {
   "cell_type": "code",
   "execution_count": 7,
   "id": "cce84558-e381-4c06-abdc-d19774f4ede5",
   "metadata": {},
   "outputs": [
    {
     "name": "stdout",
     "output_type": "stream",
     "text": [
      "120\n"
     ]
    }
   ],
   "source": [
    "from functools import reduce\n",
    "\n",
    "numbers = [1, 2, 3, 4, 5]\n",
    "\n",
    "product = reduce(lambda x, y: x * y, numbers)\n",
    "print(product) "
   ]
  },
  {
   "cell_type": "markdown",
   "id": "f42bd931-fe0a-4cc1-a1e3-0c708dafa4a5",
   "metadata": {},
   "source": [
    "### Difference Between `lambda` and `def`\n",
    "\n",
    "Both `lambda` and `def` can define functions in Python, but they serve different purposes:\n",
    "\n",
    "| Feature      | def                              | lambda                              |\n",
    "|-------------|---------------------------------|-------------------------------------|\n",
    "| Name        | Always defines a **named function** | **Anonymous**, usually assigned to a variable |\n",
    "| Length      | Can contain **multiple statements** | Only a **single expression**         |\n",
    "| Use Case    | Standard **reusable functions**    | Short, **temporary functions** for quick tasks |\n",
    "| Return      | Requires **return** keyword       | Automatically **returns the expression** |\n",
    "| Readability | More readable for **complex logic** | Best for **simple operations** or one-liners |\n"
   ]
  },
  {
   "cell_type": "markdown",
   "id": "b4e2fbf6-57a7-45fc-aa8c-2602fbfa297a",
   "metadata": {},
   "source": [
    "**Next, we will dive deeper into map, filter, and reduce to understand how they work in detail and when to use them effectively in Python.**"
   ]
  },
  {
   "cell_type": "markdown",
   "id": "c1fbe4ab-e57e-453b-b81d-b4f2b1bb6ab8",
   "metadata": {},
   "source": [
    "## Python `map()` Function\n",
    "\n",
    "The `map()` function in Python applies a **given function** to each element of an **iterable** (like a list, tuple, or set) and returns a **map object** (an iterator).\n",
    "\n",
    "It is a **higher-order function** that allows you to perform **element-wise transformations** efficiently and concisely.\n"
   ]
  },
  {
   "cell_type": "code",
   "execution_count": 8,
   "id": "a03b33ca-e691-401c-89ed-1686a5d96a11",
   "metadata": {},
   "outputs": [
    {
     "name": "stdout",
     "output_type": "stream",
     "text": [
      "[1, 2, 3, 4, 5]\n"
     ]
    }
   ],
   "source": [
    "str_numbers = [\"1\", \"2\", \"3\", \"4\", \"5\"]\n",
    "\n",
    "int_numbers = list(map(int, str_numbers))\n",
    "print(int_numbers)"
   ]
  },
  {
   "cell_type": "markdown",
   "id": "1879d69d-749c-405d-b208-a132dee8d59e",
   "metadata": {},
   "source": [
    "### Explanation of `map()` Usage\n",
    "\n",
    "- `map(int, str_numbers)` applies the **`int` function** to each element of `str_numbers`.  \n",
    "- `map()` returns an **iterator**, so we use `list()` to convert it into a list.  \n",
    "- The result is a **list of integers** instead of strings.\n"
   ]
  },
  {
   "cell_type": "markdown",
   "id": "8173438c-be76-47c9-9870-bff095370ffd",
   "metadata": {},
   "source": [
    "### `map()` Syntax\n",
    "\n",
    "```python\n",
    "map(function, iterable, ...)\n",
    "```"
   ]
  },
  {
   "cell_type": "markdown",
   "id": "ca44c91a-6527-4fd7-860e-38cbd8bec241",
   "metadata": {},
   "source": [
    "Parameters:\n",
    "- function: The function to apply to each element of the iterable.\n",
    "- iterable: One or more iterable objects (like a list, tuple, etc.) whose elements will be processed.\\\n",
    "**Note: You can pass multiple iterables if the function accepts multiple arguments.**"
   ]
  },
  {
   "cell_type": "markdown",
   "id": "e4940bfd-687d-4544-adba-66850a242281",
   "metadata": {},
   "source": [
    "### Converting `map` Object to a List\n",
    "\n",
    "By default, the `map()` function returns a **map object**, which is an iterator.  \n",
    "To work with the results directly, we often convert it into a **list** using `list()`.\n"
   ]
  },
  {
   "cell_type": "code",
   "execution_count": 9,
   "id": "30b4a607-82b8-48ae-a7cc-16330eb6935d",
   "metadata": {},
   "outputs": [
    {
     "name": "stdout",
     "output_type": "stream",
     "text": [
      "[2, 4, 6, 8]\n"
     ]
    }
   ],
   "source": [
    "# Custom function to be applied\n",
    "# in map\n",
    "def double(val):\n",
    "    return val * 2\n",
    "\n",
    "# Let us apply double on every member\n",
    "a = [1, 2, 3, 4]    \n",
    "res = list(map(double, a))\n",
    "print(res)"
   ]
  },
  {
   "cell_type": "markdown",
   "id": "b83f8721-bc70-47ed-9074-c99ffaab9456",
   "metadata": {},
   "source": [
    "### Converting strings to Uppercase\n",
    "This example shows how we can use `map()` to convert a `list` of strings to uppercase."
   ]
  },
  {
   "cell_type": "code",
   "execution_count": 1,
   "id": "db4b2a64-a2ee-486d-ac6e-b3e13d326964",
   "metadata": {},
   "outputs": [
    {
     "name": "stdout",
     "output_type": "stream",
     "text": [
      "['APPLE', 'BANANA', 'CHERRY']\n"
     ]
    }
   ],
   "source": [
    "fruits = ['apple', 'banana', 'cherry']\n",
    "res = map(str.upper, fruits)\n",
    "print(list(res))"
   ]
  },
  {
   "cell_type": "code",
   "execution_count": null,
   "id": "653eb982-4bd0-40bc-ae9c-d8919270766a",
   "metadata": {},
   "outputs": [],
   "source": [
    "### Extracting first character from strings\n",
    "In this example, we use `map() to extract the first character from each string in a list."
   ]
  }
 ],
 "metadata": {
  "kernelspec": {
   "display_name": "Python 3 (ipykernel)",
   "language": "python",
   "name": "python3"
  },
  "language_info": {
   "codemirror_mode": {
    "name": "ipython",
    "version": 3
   },
   "file_extension": ".py",
   "mimetype": "text/x-python",
   "name": "python",
   "nbconvert_exporter": "python",
   "pygments_lexer": "ipython3",
   "version": "3.13.5"
  }
 },
 "nbformat": 4,
 "nbformat_minor": 5
}

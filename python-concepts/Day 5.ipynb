{
 "cells": [
  {
   "cell_type": "markdown",
   "id": "b1dbdb73-e392-4bac-872e-bf3733355ca0",
   "metadata": {},
   "source": [
    "### Hey coder 👋\n",
    "\n",
    "Welcome back to **Day 5** of our Python journey. You’ve done an **awesome job** making it this far!\n",
    "\n",
    "Yesterday we explored how **functions** work and even met **recursion** along the way.  \n",
    "Today we’re taking things up a notch with some **advanced function concepts** that will make your code more **flexible** and **powerful**.\n",
    "\n",
    "So get comfy, open your editor, and let’s **dive deeper into the magic of Python functions** together. 💻✨\n"
   ]
  },
  {
   "cell_type": "markdown",
   "id": "a2acc131-cd8c-4cb8-a48b-9694b980a1a4",
   "metadata": {},
   "source": [
    "**Alright, let’s understand Lambda Functions in detail and see how these tiny, powerful functions can make our code cleaner and faster.**"
   ]
  },
  {
   "cell_type": "markdown",
   "id": "52e64720-5c20-450b-b1f6-4f54a043eff9",
   "metadata": {},
   "source": [
    "### Lambda Functions\n",
    "\n",
    "A **Lambda Function** is an **anonymous function**, which means it doesn’t have a name.  \n",
    "We normally use the `def` keyword to create regular functions, but for small, one-line functions, Python gives us a quicker way using the `lambda` keyword.\n",
    "\n",
    "Lambda functions are great when you need a **short, throwaway function** that does a simple task.\n",
    "\n",
    "#### Syntax\n",
    "```python\n",
    "lambda arguments: expression\n"
   ]
  },
  {
   "cell_type": "markdown",
   "id": "06287e33-7e8a-4b73-8013-0084f457d993",
   "metadata": {},
   "source": [
    "**The expression is automatically returned, so you don’t need to use a return statement.**"
   ]
  },
  {
   "cell_type": "code",
   "execution_count": 1,
   "id": "601e7ef1-0a4d-4d4f-9fa1-859fc2231c4d",
   "metadata": {},
   "outputs": [
    {
     "name": "stdout",
     "output_type": "stream",
     "text": [
      "PYTHON IS FUN\n"
     ]
    }
   ],
   "source": [
    "upper = lambda text: text.upper()\n",
    "print(upper(\"python is fun\"))"
   ]
  },
  {
   "cell_type": "markdown",
   "id": "2dd2e8b7-da87-45f5-8742-6b7a4668659e",
   "metadata": {},
   "source": [
    "### Use Cases of Lambda Functions\n",
    "\n",
    "Let’s look at some **practical uses** of lambda functions in Python \n",
    "\n",
    "1. **Using with condition checking**  \n",
    "   Apply quick conditions without defining a separate function.\n",
    "\n",
    "2. **Using with list comprehension**  \n",
    "   Combine lambda with list comprehensions for concise transformations.\n",
    "\n",
    "3. **Using for returning multiple results**  \n",
    "   Perform small calculations and return results in a compact way.\n",
    "\n",
    "4. **Using with `filter()`**  \n",
    "   Filter elements from a list based on a condition.\n",
    "\n",
    "5. **Using with `map()`**  \n",
    "   Apply a function to every element in a list.\n",
    "\n",
    "6. **Using with `reduce()`**  \n",
    "   Perform cumulative operations on a list, like summing or multiplying all elements.\n"
   ]
  },
  {
   "cell_type": "code",
   "execution_count": null,
   "id": "c28916ab-9bee-42b5-995f-0f0a3bdaebee",
   "metadata": {},
   "outputs": [],
   "source": []
  }
 ],
 "metadata": {
  "kernelspec": {
   "display_name": "Python 3 (ipykernel)",
   "language": "python",
   "name": "python3"
  },
  "language_info": {
   "codemirror_mode": {
    "name": "ipython",
    "version": 3
   },
   "file_extension": ".py",
   "mimetype": "text/x-python",
   "name": "python",
   "nbconvert_exporter": "python",
   "pygments_lexer": "ipython3",
   "version": "3.13.5"
  }
 },
 "nbformat": 4,
 "nbformat_minor": 5
}

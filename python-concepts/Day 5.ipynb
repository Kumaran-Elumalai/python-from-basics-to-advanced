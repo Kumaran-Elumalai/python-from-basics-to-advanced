{
 "cells": [
  {
   "cell_type": "markdown",
   "id": "b1dbdb73-e392-4bac-872e-bf3733355ca0",
   "metadata": {},
   "source": [
    "### Hey coder 👋\n",
    "\n",
    "Welcome back to **Day 5** of our Python journey. You’ve done an **awesome job** making it this far!\n",
    "\n",
    "Yesterday we explored how **functions** work and even met **recursion** along the way.  \n",
    "Today we’re taking things up a notch with some **advanced function concepts** that will make your code more **flexible** and **powerful**.\n",
    "\n",
    "So get comfy, open your editor, and let’s **dive deeper into the magic of Python functions** together. 💻✨\n"
   ]
  },
  {
   "cell_type": "markdown",
   "id": "a2acc131-cd8c-4cb8-a48b-9694b980a1a4",
   "metadata": {},
   "source": [
    "**Alright, let’s understand Lambda Functions in detail and see how these tiny, powerful functions can make our code cleaner and faster.**"
   ]
  },
  {
   "cell_type": "markdown",
   "id": "52e64720-5c20-450b-b1f6-4f54a043eff9",
   "metadata": {},
   "source": [
    "### Lambda Functions\n",
    "\n",
    "A **Lambda Function** is an **anonymous function**, which means it doesn’t have a name.  \n",
    "We normally use the `def` keyword to create regular functions, but for small, one-line functions, Python gives us a quicker way using the `lambda` keyword.\n",
    "\n",
    "Lambda functions are great when you need a **short, throwaway function** that does a simple task.\n",
    "\n",
    "#### Syntax\n",
    "```python\n",
    "lambda arguments: expression\n"
   ]
  },
  {
   "cell_type": "markdown",
   "id": "06287e33-7e8a-4b73-8013-0084f457d993",
   "metadata": {},
   "source": [
    "**The expression is automatically returned, so you don’t need to use a return statement.**"
   ]
  },
  {
   "cell_type": "code",
   "execution_count": 1,
   "id": "601e7ef1-0a4d-4d4f-9fa1-859fc2231c4d",
   "metadata": {},
   "outputs": [
    {
     "name": "stdout",
     "output_type": "stream",
     "text": [
      "PYTHON IS FUN\n"
     ]
    }
   ],
   "source": [
    "upper = lambda text: text.upper()\n",
    "print(upper(\"python is fun\"))"
   ]
  },
  {
   "cell_type": "markdown",
   "id": "2dd2e8b7-da87-45f5-8742-6b7a4668659e",
   "metadata": {},
   "source": [
    "### Use Cases of Lambda Functions\n",
    "\n",
    "Let’s look at some **practical uses** of lambda functions in Python \n",
    "\n",
    "1. **Using with condition checking**  \n",
    "   Apply quick conditions without defining a separate function.\n",
    "\n",
    "2. **Using with list comprehension**  \n",
    "   Combine lambda with list comprehensions for concise transformations.\n",
    "\n",
    "3. **Using for returning multiple results**  \n",
    "   Perform small calculations and return results in a compact way.\n",
    "\n",
    "4. **Using with `filter()`**  \n",
    "   Filter elements from a list based on a condition.\n",
    "\n",
    "5. **Using with `map()`**  \n",
    "   Apply a function to every element in a list.\n",
    "\n",
    "6. **Using with `reduce()`**  \n",
    "   Perform cumulative operations on a list, like summing or multiplying all elements."
   ]
  },
  {
   "cell_type": "markdown",
   "id": "fd943306-17bc-41df-98ef-005d6bd134c9",
   "metadata": {},
   "source": [
    "### 1. Using with Condition Checking\n",
    "\n",
    "A **lambda function** can include conditions using **if statements**.\n",
    "\n",
    "Here, the lambda function uses **nested if-else logic** to classify numbers as **Positive**, **Negative**, or **Zero**.\n"
   ]
  },
  {
   "cell_type": "code",
   "execution_count": 2,
   "id": "355440d0-00fa-496a-9f09-37cbfa677f2d",
   "metadata": {},
   "outputs": [],
   "source": [
    "n = lambda x: \"Positive\" if x > 0 else \"Negative\" if x < 0 else \"Zero\""
   ]
  },
  {
   "cell_type": "code",
   "execution_count": 3,
   "id": "18e541f0-b247-484c-adaf-10974a7cbb59",
   "metadata": {},
   "outputs": [
    {
     "data": {
      "text/plain": [
       "'Positive'"
      ]
     },
     "execution_count": 3,
     "metadata": {},
     "output_type": "execute_result"
    }
   ],
   "source": [
    "n(5)"
   ]
  },
  {
   "cell_type": "code",
   "execution_count": 4,
   "id": "9cc7bd8e-8f8f-46dd-96ce-246286335805",
   "metadata": {},
   "outputs": [
    {
     "data": {
      "text/plain": [
       "'Negative'"
      ]
     },
     "execution_count": 4,
     "metadata": {},
     "output_type": "execute_result"
    }
   ],
   "source": [
    "n(-5)"
   ]
  },
  {
   "cell_type": "code",
   "execution_count": 5,
   "id": "b2abf1b4-6602-4d99-9709-d78422175ba5",
   "metadata": {},
   "outputs": [
    {
     "data": {
      "text/plain": [
       "'Zero'"
      ]
     },
     "execution_count": 5,
     "metadata": {},
     "output_type": "execute_result"
    }
   ],
   "source": [
    "n(0)"
   ]
  },
  {
   "cell_type": "markdown",
   "id": "053fc96e-bdc7-4995-ba8d-3774ab4011f9",
   "metadata": {},
   "source": [
    "This **lambda function** checks **divisibility by 2** and returns **\"Even\"** or **\"Odd\"** accordingly.\n"
   ]
  },
  {
   "cell_type": "code",
   "execution_count": 6,
   "id": "1b441b1a-017c-4a9c-8a0a-d25c99236aa6",
   "metadata": {},
   "outputs": [],
   "source": [
    "check = lambda x: \"Even\" if x % 2 == 0 else \"Odd\""
   ]
  },
  {
   "cell_type": "code",
   "execution_count": 7,
   "id": "e9eede97-e365-4000-b4c5-be565bb065e2",
   "metadata": {},
   "outputs": [
    {
     "data": {
      "text/plain": [
       "'Even'"
      ]
     },
     "execution_count": 7,
     "metadata": {},
     "output_type": "execute_result"
    }
   ],
   "source": [
    "check(10)"
   ]
  },
  {
   "cell_type": "code",
   "execution_count": 8,
   "id": "d93be006-45fa-4a9a-a487-9663af5cad55",
   "metadata": {},
   "outputs": [
    {
     "data": {
      "text/plain": [
       "'Even'"
      ]
     },
     "execution_count": 8,
     "metadata": {},
     "output_type": "execute_result"
    }
   ],
   "source": [
    "check(2)"
   ]
  },
  {
   "cell_type": "code",
   "execution_count": 9,
   "id": "31b47f70-50cc-475c-b56e-bcd17e7787ba",
   "metadata": {},
   "outputs": [
    {
     "data": {
      "text/plain": [
       "'Odd'"
      ]
     },
     "execution_count": 9,
     "metadata": {},
     "output_type": "execute_result"
    }
   ],
   "source": [
    "check(15)"
   ]
  },
  {
   "cell_type": "markdown",
   "id": "adc02d3f-331c-48a5-a01f-c3c87d972cdf",
   "metadata": {},
   "source": [
    "**2. Using with List Comprehension**\n",
    "\n",
    "We can combine **lambda functions** with **list comprehensions** to transform data in a concise and readable way.\n"
   ]
  },
  {
   "cell_type": "markdown",
   "id": "896709dc-40f8-42e0-8448-b6a00811028a",
   "metadata": {},
   "source": [
    "This code creates a list of lambda functions, each multiplying its input by 10 and then executes them one by one."
   ]
  },
  {
   "cell_type": "code",
   "execution_count": 1,
   "id": "102950c9-e28c-4342-8f6e-0a2d43152dd5",
   "metadata": {},
   "outputs": [
    {
     "name": "stdout",
     "output_type": "stream",
     "text": [
      "Function 0 output: 0\n",
      "Function 1 output: 10\n",
      "Function 2 output: 20\n",
      "Function 3 output: 30\n",
      "Function 4 output: 40\n"
     ]
    }
   ],
   "source": [
    "funcs = [lambda x: x * 10 for x in range(5)]\n",
    "\n",
    "for i, f in enumerate(funcs):\n",
    "    print(f\"Function {i} output:\", f(i))"
   ]
  },
  {
   "cell_type": "markdown",
   "id": "1977383d-e715-4db9-96b5-fd3a20e8d70a",
   "metadata": {},
   "source": [
    "**3. Using for Returning Multiple Results**\n",
    "\n",
    "Lambda functions cannot contain multiple statements, but we can still return multiple values by using a **tuple** or by **nesting one lambda inside another**.\n",
    "\n",
    "Here’s an example that calculates both the **sum** and **product** of two numbers and returns them together:\n"
   ]
  },
  {
   "cell_type": "code",
   "execution_count": 2,
   "id": "0be198d3-0966-438f-a257-556e56cf2e80",
   "metadata": {},
   "outputs": [
    {
     "name": "stdout",
     "output_type": "stream",
     "text": [
      "(8, 15)\n"
     ]
    }
   ],
   "source": [
    "sum_prod = lambda a, b: (a + b, a * b)\n",
    "\n",
    "result = sum_prod(5, 3)\n",
    "print(result) "
   ]
  },
  {
   "cell_type": "code",
   "execution_count": 3,
   "id": "ffb6fee5-8dd0-4eaf-8b61-e7ab26bc98ed",
   "metadata": {},
   "outputs": [
    {
     "name": "stdout",
     "output_type": "stream",
     "text": [
      "Sum: 8\n",
      "Product: 15\n"
     ]
    }
   ],
   "source": [
    "# Accessing individual values\n",
    "s, p = result\n",
    "print(\"Sum:\", s)\n",
    "print(\"Product:\", p)"
   ]
  },
  {
   "cell_type": "markdown",
   "id": "1db9f1b8-799d-47bb-bc23-ab539b505aa8",
   "metadata": {},
   "source": [
    "### Nested Lambda Functions\n",
    "\n",
    "You can also use **one lambda inside another** to perform **multiple operations** in a single expression.\n",
    "\n",
    "This approach can make your code **compact** but should be used **carefully** for readability.\n"
   ]
  },
  {
   "cell_type": "code",
   "execution_count": 4,
   "id": "ce7aca47-563d-4136-bb46-21d6d1265c35",
   "metadata": {},
   "outputs": [
    {
     "name": "stdout",
     "output_type": "stream",
     "text": [
      "(6, 8)\n"
     ]
    }
   ],
   "source": [
    "sum_prod = lambda a, b: (lambda x, y: (x + y, x * y))(a, b)\n",
    "\n",
    "result = sum_prod(4, 2)\n",
    "print(result)"
   ]
  },
  {
   "cell_type": "markdown",
   "id": "adf54170-59f0-45e5-9d92-db8b46512fa4",
   "metadata": {},
   "source": [
    "**4. Using with `filter()`**\n",
    "\n",
    "The `filter()` function in Python takes a **function** and an **iterable** (like a list) as inputs.  \n",
    "It filters out elements for which the function returns **True**.\n",
    "\n",
    "Here, we use a **lambda function** as the filtering condition to keep only the **even numbers**.\n"
   ]
  },
  {
   "cell_type": "code",
   "execution_count": 5,
   "id": "2d303480-be9a-4b4b-9415-b0706e18b79c",
   "metadata": {},
   "outputs": [
    {
     "name": "stdout",
     "output_type": "stream",
     "text": [
      "[2, 4, 6, 8, 10]\n"
     ]
    }
   ],
   "source": [
    "numbers = [1, 2, 3, 4, 5, 6, 7, 8, 9, 10]\n",
    "\n",
    "even_numbers = list(filter(lambda x: x % 2 == 0, numbers))\n",
    "print(even_numbers) "
   ]
  },
  {
   "cell_type": "markdown",
   "id": "c880af97-8fa0-424f-bc03-6c187ad296e8",
   "metadata": {},
   "source": [
    "**5. Using with `map()`**\n",
    "\n",
    "The `map()` function in Python takes a **function** and an **iterable** (like a list) as inputs.  \n",
    "It applies the function to **each item** in the iterable and returns a **new list**  \n",
    "(in Python 3, it returns a *map object*, so we convert it using `list()`).\n",
    "\n",
    "Here, we use a **lambda function** to **double each element** in the list.\n"
   ]
  },
  {
   "cell_type": "code",
   "execution_count": 6,
   "id": "9cc18396-ec86-4bc0-a5b2-20176ee32d58",
   "metadata": {},
   "outputs": [
    {
     "name": "stdout",
     "output_type": "stream",
     "text": [
      "[2, 4, 6, 8, 10]\n"
     ]
    }
   ],
   "source": [
    "numbers = [1, 2, 3, 4, 5]\n",
    "\n",
    "doubled = list(map(lambda x: x * 2, numbers))\n",
    "print(doubled)"
   ]
  },
  {
   "cell_type": "markdown",
   "id": "f8cd2fd6-0816-42b9-a8b9-4db4c5997342",
   "metadata": {},
   "source": [
    "**6. Using with `reduce()`**\n",
    "\n",
    "The `reduce()` function in Python applies a **function cumulatively** to all elements in an iterable.  \n",
    "It repeatedly applies the given function to pairs of elements until **only one final value** remains.\n",
    "\n",
    ">  Note: `reduce()` is **not a built-in function** — it comes from the `functools` module, so we must import it first.\n",
    "\n",
    "Here, we use a **lambda function** to **multiply all elements** in a list.\n"
   ]
  },
  {
   "cell_type": "code",
   "execution_count": 7,
   "id": "cce84558-e381-4c06-abdc-d19774f4ede5",
   "metadata": {},
   "outputs": [
    {
     "name": "stdout",
     "output_type": "stream",
     "text": [
      "120\n"
     ]
    }
   ],
   "source": [
    "from functools import reduce\n",
    "\n",
    "numbers = [1, 2, 3, 4, 5]\n",
    "\n",
    "product = reduce(lambda x, y: x * y, numbers)\n",
    "print(product) "
   ]
  },
  {
   "cell_type": "markdown",
   "id": "f42bd931-fe0a-4cc1-a1e3-0c708dafa4a5",
   "metadata": {},
   "source": [
    "### Difference Between `lambda` and `def`\n",
    "\n",
    "Both `lambda` and `def` can define functions in Python, but they serve different purposes:\n",
    "\n",
    "| Feature      | def                              | lambda                              |\n",
    "|-------------|---------------------------------|-------------------------------------|\n",
    "| Name        | Always defines a **named function** | **Anonymous**, usually assigned to a variable |\n",
    "| Length      | Can contain **multiple statements** | Only a **single expression**         |\n",
    "| Use Case    | Standard **reusable functions**    | Short, **temporary functions** for quick tasks |\n",
    "| Return      | Requires **return** keyword       | Automatically **returns the expression** |\n",
    "| Readability | More readable for **complex logic** | Best for **simple operations** or one-liners |\n"
   ]
  },
  {
   "cell_type": "markdown",
   "id": "b4e2fbf6-57a7-45fc-aa8c-2602fbfa297a",
   "metadata": {},
   "source": [
    "**Next, we will dive deeper into map, filter, and reduce to understand how they work in detail and when to use them effectively in Python.**"
   ]
  },
  {
   "cell_type": "markdown",
   "id": "c1fbe4ab-e57e-453b-b81d-b4f2b1bb6ab8",
   "metadata": {},
   "source": [
    "## Python `map()` Function\n",
    "\n",
    "The `map()` function in Python applies a **given function** to each element of an **iterable** (like a list, tuple, or set) and returns a **map object** (an iterator).\n",
    "\n",
    "It is a **higher-order function** that allows you to perform **element-wise transformations** efficiently and concisely.\n"
   ]
  },
  {
   "cell_type": "code",
   "execution_count": 8,
   "id": "a03b33ca-e691-401c-89ed-1686a5d96a11",
   "metadata": {},
   "outputs": [
    {
     "name": "stdout",
     "output_type": "stream",
     "text": [
      "[1, 2, 3, 4, 5]\n"
     ]
    }
   ],
   "source": [
    "str_numbers = [\"1\", \"2\", \"3\", \"4\", \"5\"]\n",
    "\n",
    "int_numbers = list(map(int, str_numbers))\n",
    "print(int_numbers)"
   ]
  },
  {
   "cell_type": "markdown",
   "id": "1879d69d-749c-405d-b208-a132dee8d59e",
   "metadata": {},
   "source": [
    "### Explanation of `map()` Usage\n",
    "\n",
    "- `map(int, str_numbers)` applies the **`int` function** to each element of `str_numbers`.  \n",
    "- `map()` returns an **iterator**, so we use `list()` to convert it into a list.  \n",
    "- The result is a **list of integers** instead of strings.\n"
   ]
  },
  {
   "cell_type": "markdown",
   "id": "8173438c-be76-47c9-9870-bff095370ffd",
   "metadata": {},
   "source": [
    "### `map()` Syntax\n",
    "\n",
    "```python\n",
    "map(function, iterable, ...)\n",
    "```"
   ]
  },
  {
   "cell_type": "markdown",
   "id": "ca44c91a-6527-4fd7-860e-38cbd8bec241",
   "metadata": {},
   "source": [
    "Parameters:\n",
    "- function: The function to apply to each element of the iterable.\n",
    "- iterable: One or more iterable objects (like a list, tuple, etc.) whose elements will be processed.\\\n",
    "**Note: You can pass multiple iterables if the function accepts multiple arguments.**"
   ]
  },
  {
   "cell_type": "markdown",
   "id": "e4940bfd-687d-4544-adba-66850a242281",
   "metadata": {},
   "source": [
    "### Converting `map` Object to a List\n",
    "\n",
    "By default, the `map()` function returns a **map object**, which is an iterator.  \n",
    "To work with the results directly, we often convert it into a **list** using `list()`.\n"
   ]
  },
  {
   "cell_type": "code",
   "execution_count": 9,
   "id": "30b4a607-82b8-48ae-a7cc-16330eb6935d",
   "metadata": {},
   "outputs": [
    {
     "name": "stdout",
     "output_type": "stream",
     "text": [
      "[2, 4, 6, 8]\n"
     ]
    }
   ],
   "source": [
    "# Custom function to be applied\n",
    "# in map\n",
    "def double(val):\n",
    "    return val * 2\n",
    "\n",
    "# Let us apply double on every member\n",
    "a = [1, 2, 3, 4]    \n",
    "res = list(map(double, a))\n",
    "print(res)"
   ]
  },
  {
   "cell_type": "markdown",
   "id": "b83f8721-bc70-47ed-9074-c99ffaab9456",
   "metadata": {},
   "source": [
    "### Converting strings to Uppercase\n",
    "This example shows how we can use `map()` to convert a `list` of strings to uppercase."
   ]
  },
  {
   "cell_type": "code",
   "execution_count": 1,
   "id": "db4b2a64-a2ee-486d-ac6e-b3e13d326964",
   "metadata": {},
   "outputs": [
    {
     "name": "stdout",
     "output_type": "stream",
     "text": [
      "['APPLE', 'BANANA', 'CHERRY']\n"
     ]
    }
   ],
   "source": [
    "fruits = ['apple', 'banana', 'cherry']\n",
    "res = map(str.upper, fruits)\n",
    "print(list(res))"
   ]
  },
  {
   "cell_type": "markdown",
   "id": "8174809f-d61b-441c-9c99-5a9b3d6494a3",
   "metadata": {},
   "source": [
    "### Extracting first character from strings\n",
    "In this example, we use `map()` to extract the first character from each string in a `list`."
   ]
  },
  {
   "cell_type": "code",
   "execution_count": 2,
   "id": "514816e0-a0a0-4280-9195-9cecc28b5810",
   "metadata": {},
   "outputs": [
    {
     "name": "stdout",
     "output_type": "stream",
     "text": [
      "['a', 'b', 'c']\n"
     ]
    }
   ],
   "source": [
    "words = ['apple', 'banana', 'cherry']\n",
    "res = map(lambda s: s[0], words)\n",
    "print(list(res))"
   ]
  },
  {
   "cell_type": "markdown",
   "id": "677ed8fc-f5c1-4acd-8240-edfb868e85cc",
   "metadata": {},
   "source": [
    "### Removing whitespaces from strings\n",
    "In this example, We can use `map()` to remove leading and trailing whitespaces from each string in a `list`."
   ]
  },
  {
   "cell_type": "code",
   "execution_count": 3,
   "id": "fa408a1d-e9ba-405e-8357-9e9578168d4b",
   "metadata": {},
   "outputs": [
    {
     "name": "stdout",
     "output_type": "stream",
     "text": [
      "['hello', 'world', 'python']\n"
     ]
    }
   ],
   "source": [
    "s = ['  hello  ', '  world ', ' python  ']\n",
    "res = map(str.strip, s)\n",
    "print(list(res))"
   ]
  },
  {
   "cell_type": "markdown",
   "id": "369c7c45-92c6-4d57-867a-bc909c8c7b1f",
   "metadata": {},
   "source": [
    "### Calculate fahrenheit from celsius\n",
    "In this example, we use `map()` to convert a `list` of temperatures from `Celsius` to `Fahrenheit`."
   ]
  },
  {
   "cell_type": "code",
   "execution_count": 4,
   "id": "72f459dc-581d-4eb7-8f43-545122e32249",
   "metadata": {},
   "outputs": [
    {
     "name": "stdout",
     "output_type": "stream",
     "text": [
      "[32.0, 68.0, 98.6, 212.0]\n"
     ]
    }
   ],
   "source": [
    "celsius = [0, 20, 37, 100]\n",
    "fahrenheit = map(lambda c: (c * 9/5) + 32, celsius)\n",
    "print(list(fahrenheit))"
   ]
  },
  {
   "cell_type": "markdown",
   "id": "4a0f9b67-7ae1-4fe5-8ef1-31f5e4527073",
   "metadata": {},
   "source": [
    "### Converting `map` Object to a List\n",
    "\n",
    "By default, the `map()` function returns a **map object**, which is an iterator.  \n",
    "To work with the results directly, we often convert it into a **list** using `list()`."
   ]
  },
  {
   "cell_type": "markdown",
   "id": "7a09d164-1763-406d-9268-b1458bde4980",
   "metadata": {},
   "source": [
    "### `filter()` Function in Python\n",
    "\n",
    "The `filter()` function is used to **extract elements** from an iterable (like a list, tuple, or set) that satisfy a given condition.  \n",
    "It works by applying a function to each element and **keeping only those** for which the function returns `True`.\n"
   ]
  },
  {
   "cell_type": "code",
   "execution_count": 5,
   "id": "a98d6e8f-5dee-4258-9084-b172f5f73092",
   "metadata": {},
   "outputs": [
    {
     "name": "stdout",
     "output_type": "stream",
     "text": [
      "['apple', 'avocado', 'apricot']\n"
     ]
    }
   ],
   "source": [
    "def starts_a(w):\n",
    "    return w.startswith(\"a\")\n",
    "\n",
    "li = [\"apple\", \"banana\", \"avocado\", \"cherry\", \"apricot\"]\n",
    "res = filter(starts_a, li)\n",
    "print(list(res))"
   ]
  },
  {
   "cell_type": "markdown",
   "id": "4d26df06-b3f2-447b-bd83-f3974ba37e02",
   "metadata": {},
   "source": [
    "### Syntax of `filter()`\n",
    "\n",
    "```python\n",
    "filter(function, iterable)\n"
   ]
  },
  {
   "cell_type": "markdown",
   "id": "f7507e72-49b9-4fc5-9f32-52ab4cc70da9",
   "metadata": {},
   "source": [
    "###  Parameters:\n",
    "\n",
    "- **function:**  \n",
    "  Tests each element.  \n",
    "  - If it returns **True** → the element is **kept**  \n",
    "  - If it returns **False** → the element is **discarded**\n",
    "\n",
    "- **iterable:**  \n",
    "  Any iterable object — such as a **list**, **tuple**, or **set**.\n",
    "\n",
    "###  Return Value:\n",
    "\n",
    "A **filter object** (an iterator), which can be converted into:  \n",
    "- `list()`  \n",
    "- `tuple()`  \n",
    "- `set()`\n"
   ]
  },
  {
   "cell_type": "markdown",
   "id": "f67f88c4-4a58-40de-a04e-e5f61a860d21",
   "metadata": {},
   "source": [
    "### Let's explore some examples of filter() function and see how it is used."
   ]
  },
  {
   "cell_type": "markdown",
   "id": "663a6faf-0223-4eb7-acd2-41d997f9dc3f",
   "metadata": {},
   "source": [
    "### Example 1: Using `filter()` with a Named Function"
   ]
  },
  {
   "cell_type": "code",
   "execution_count": 6,
   "id": "cbd2e647-43e2-457d-a7f3-240977d5bb73",
   "metadata": {},
   "outputs": [
    {
     "name": "stdout",
     "output_type": "stream",
     "text": [
      "[2, 4, 6]\n"
     ]
    }
   ],
   "source": [
    "def even(n):\n",
    "    return n % 2 == 0\n",
    "\n",
    "a = [1, 2, 3, 4, 5, 6]\n",
    "b = filter(even, a)\n",
    "print(list(b))"
   ]
  },
  {
   "cell_type": "markdown",
   "id": "8748a4ab-463c-46f0-82ef-9c9bcdc12d66",
   "metadata": {},
   "source": [
    "### Example 2: Using `filter()` with a Lambda Function\n",
    "Instead of creating a separate named function, use a `lambda function` for concise code. Below code uses a `lambda function with filter()` to select even numbers from a list."
   ]
  },
  {
   "cell_type": "code",
   "execution_count": 7,
   "id": "599bf477-ddca-454d-adb6-381da71b753b",
   "metadata": {},
   "outputs": [
    {
     "name": "stdout",
     "output_type": "stream",
     "text": [
      "[2, 4, 6]\n"
     ]
    }
   ],
   "source": [
    "a = [1, 2, 3, 4, 5, 6]\n",
    "b = filter(lambda x: x % 2 == 0, a)\n",
    "print(list(b))"
   ]
  },
  {
   "cell_type": "markdown",
   "id": "d7976dcf-e58b-4bdb-85be-75681d21d94c",
   "metadata": {},
   "source": [
    "### Example 3: Filtering and Transforming Data\n",
    "In this Example lambda functions is used with `filter()` and `map()` to first get even numbers from a list and then double them."
   ]
  },
  {
   "cell_type": "code",
   "execution_count": 12,
   "id": "ee458893-8b5e-4455-914e-0d1a8debaa4a",
   "metadata": {},
   "outputs": [
    {
     "name": "stdout",
     "output_type": "stream",
     "text": [
      "[2, 4, 6]\n",
      "[4, 8, 12]\n"
     ]
    }
   ],
   "source": [
    "a = [1, 2, 3, 4, 5, 6]\n",
    "b = list(filter(lambda x: x % 2 == 0, a))\n",
    "c = list(map(lambda x: x * 2, b))\n",
    "print(b)\n",
    "print(c)"
   ]
  },
  {
   "cell_type": "markdown",
   "id": "8684285a-ae0a-4e87-8027-da4d8fbd407b",
   "metadata": {},
   "source": [
    "#### Why not?\n",
    "\n",
    "```python \n",
    "a = [1, 2, 3, 4, 5, 6]\n",
    "b = filter(lambda x: x % 2 == 0, a)\n",
    "c = map(lambda x: x * 2, b)\n",
    "print(list(b))\n",
    "print(list(c))"
   ]
  },
  {
   "cell_type": "markdown",
   "id": "11ca4e40-1c3e-4da9-9ab1-d4bfe74b27be",
   "metadata": {},
   "source": [
    "##### Lets understand this:"
   ]
  },
  {
   "cell_type": "code",
   "execution_count": 14,
   "id": "57dc0f9a-ccf1-4ec5-b2ad-df155f2416d3",
   "metadata": {},
   "outputs": [
    {
     "name": "stdout",
     "output_type": "stream",
     "text": [
      "Step 1: a = [1, 2, 3, 4, 5, 6]\n",
      "Step 2: b (filter object created) = <filter object at 0x000001AB940F8730>\n",
      "Step 3: c (map object created) = <map object at 0x000001AB940F8DF0>\n",
      "\n",
      "Now we start converting b to a list:\n",
      "After converting b to list -> [2, 4, 6]\n",
      "\n",
      "Now let's see what happens to c:\n",
      "After converting c to list -> []\n"
     ]
    }
   ],
   "source": [
    "a = [1, 2, 3, 4, 5, 6]\n",
    "print(\"Step 1: a =\", a)\n",
    "\n",
    "b = filter(lambda x: x % 2 == 0, a)\n",
    "print(\"Step 2: b (filter object created) =\", b)\n",
    "\n",
    "c = map(lambda x: x * 2, b)\n",
    "print(\"Step 3: c (map object created) =\", c)\n",
    "\n",
    "# Let's see what happens when we start using b and c\n",
    "print(\"\\nNow we start converting b to a list:\")\n",
    "b_list = list(b)\n",
    "print(\"After converting b to list ->\", b_list)\n",
    "\n",
    "print(\"\\nNow let's see what happens to c:\")\n",
    "c_list = list(c)\n",
    "print(\"After converting c to list ->\", c_list)"
   ]
  },
  {
   "cell_type": "markdown",
   "id": "ffafebcd-584b-43e0-807e-05a4a5139cd3",
   "metadata": {},
   "source": [
    "### Explanation\n",
    "\n",
    "`<filter object at ...>` and `<map object at ...>` indicate that these are **iterators** —  \n",
    "they are like “machines” waiting to produce results when iterated over.\n",
    "\n",
    "- When we do `list(b)`, the **filter object** runs through all its elements and gives us `[2, 4, 6]`.  \n",
    "  ✅ But after that, it’s **empty** — because iterators can be used **only once**.\n",
    "\n",
    "- When we do `list(c)`, the **map object** tries to get data from `b`.  \n",
    "  ❌ But since `b` is already exhausted, `c` has **nothing left to process**, so it returns `[]`.\n"
   ]
  },
  {
   "cell_type": "markdown",
   "id": "6538f4bc-1ff6-4a51-a615-9e77f2d69b3d",
   "metadata": {},
   "source": [
    "#### To actually see both results correctly:"
   ]
  },
  {
   "cell_type": "code",
   "execution_count": 15,
   "id": "0ee0b06c-68bb-48b3-b09a-06b74e219ae9",
   "metadata": {},
   "outputs": [
    {
     "name": "stdout",
     "output_type": "stream",
     "text": [
      "Even numbers (b): [2, 4, 6]\n",
      "Doubled numbers (c): [4, 8, 12]\n"
     ]
    }
   ],
   "source": [
    "a = [1, 2, 3, 4, 5, 6]\n",
    "b = list(filter(lambda x: x % 2 == 0, a))  # now b is a list\n",
    "print(\"Even numbers (b):\", b)\n",
    "\n",
    "c = list(map(lambda x: x * 2, b))\n",
    "print(\"Doubled numbers (c):\", c)"
   ]
  },
  {
   "cell_type": "markdown",
   "id": "6db39612-a8a7-4cca-b8bf-614bff5470ff",
   "metadata": {},
   "source": [
    "#### Example 4: Filtering Strings\n",
    "Here, lambda function is used with `filter()` to keep only words that have more than 5 letters from a list of fruits."
   ]
  },
  {
   "cell_type": "code",
   "execution_count": 16,
   "id": "d368c63c-1164-46f6-a216-1c559290cc9b",
   "metadata": {},
   "outputs": [
    {
     "name": "stdout",
     "output_type": "stream",
     "text": [
      "['banana', 'cherry']\n"
     ]
    }
   ],
   "source": [
    "a = [\"apple\", \"banana\", \"cherry\", \"kiwi\", \"grape\"]\n",
    "b = filter(lambda w: len(w) > 5, a)\n",
    "print(list(b))"
   ]
  },
  {
   "cell_type": "markdown",
   "id": "c45c55a2-2f49-4b17-9b88-5b2bd6c13437",
   "metadata": {},
   "source": [
    "####  Example 5: Filtering with None (Truthiness Check)\n",
    "This code uses `filter()` with `None` as the function to remove all falsy values (like empty strings, None and 0) from a list."
   ]
  },
  {
   "cell_type": "code",
   "execution_count": 17,
   "id": "644f48b2-429a-4842-b3bf-6412945a6582",
   "metadata": {},
   "outputs": [
    {
     "name": "stdout",
     "output_type": "stream",
     "text": [
      "['apple', 'banana', 'cherry']\n"
     ]
    }
   ],
   "source": [
    "L = [\"apple\", \"\", None, \"banana\", 0, \"cherry\"]\n",
    "A = filter(None, L)\n",
    "print(list(A))"
   ]
  },
  {
   "cell_type": "markdown",
   "id": "5722d4f1-8369-4433-9ad3-e1d9f518ff0f",
   "metadata": {},
   "source": [
    "### `reduce()` Function\n",
    "\n",
    "The **`reduce()`** function (from the **`functools`** module) applies a function **cumulatively** to the items of an iterable,  \n",
    "reducing it to a **single value**.\n",
    "\n",
    "It’s perfect for quick tasks like:\n",
    "\n",
    "- Summing or multiplying numbers  \n",
    "- Finding maximum or minimum  \n",
    "- Concatenating strings  \n",
    "- Flattening lists  \n",
    "\n",
    "💡 **Tip:**  \n",
    "Use `reduce()` for simple one-line reductions.  \n",
    "For complex logic or when intermediate results are needed, **loops** are usually more readable.\n"
   ]
  },
  {
   "cell_type": "code",
   "execution_count": 19,
   "id": "b7839c7c-25ed-4577-ad2b-c995f3588fba",
   "metadata": {},
   "outputs": [
    {
     "name": "stdout",
     "output_type": "stream",
     "text": [
      "Python for Coding Enthusiasts\n"
     ]
    }
   ],
   "source": [
    "from functools import reduce\n",
    "\n",
    "\n",
    "li = [\"Python\", \"for\", \"Coding\", \"Enthusiasts\"]\n",
    "res = reduce(lambda x, y: x + \" \" + y, li)\n",
    "print(res)"
   ]
  },
  {
   "cell_type": "markdown",
   "id": "afbb0fbd-4fe7-4d71-8dfd-a1e2f5797b77",
   "metadata": {},
   "source": [
    "### Syntax\n",
    "\n",
    "It’s a method of the **`functools`** module, so we need to import it before use:\n",
    "\n",
    "```python\n",
    "from functools import reduce\n",
    "reduce(function, iterable[, initializer])\n"
   ]
  },
  {
   "cell_type": "markdown",
   "id": "8ded98bd-61e7-4157-b6f5-28fd77670914",
   "metadata": {},
   "source": [
    "### Parameters:\n",
    "- **function:**  \n",
    "  A function that takes **two arguments** and returns a **single value**.\n",
    "- **iterable:**  \n",
    "  The sequence to be reduced (**list**, **tuple**, etc.).\n",
    "- **initializer (optional):**  \n",
    "  A starting value that is placed **before the first element**.\n",
    "\n",
    "### Return Value:\n",
    "A **single final value** after processing all elements."
   ]
  },
  {
   "cell_type": "markdown",
   "id": "e4d6d8fc-41e7-41c6-bc7b-3455a2e9a262",
   "metadata": {},
   "source": [
    "### Example 1: Basic Usage with a Named Function\n",
    "This code uses `reduce()` function to accumulate values in a list by repeatedly adding two numbers at a time."
   ]
  },
  {
   "cell_type": "code",
   "execution_count": 20,
   "id": "874fdcbc-1722-485a-8499-864b819e2a92",
   "metadata": {},
   "outputs": [
    {
     "name": "stdout",
     "output_type": "stream",
     "text": [
      "15\n"
     ]
    }
   ],
   "source": [
    "from functools import reduce\n",
    "def add(x, y):\n",
    "    return x + y\n",
    "\n",
    "a = [1, 2, 3, 4, 5]\n",
    "res = reduce(add, a)\n",
    "print(res)"
   ]
  },
  {
   "cell_type": "markdown",
   "id": "8a687044-65e7-46b9-b238-cf4f9c58a6c2",
   "metadata": {},
   "source": [
    "### Example 2: Using reduce() with a Lambda Function\n",
    "This example demonstrates how a `lambda` function can be used with `reduce()` to calculate factorial of a number by multiplying all elements of a list."
   ]
  },
  {
   "cell_type": "code",
   "execution_count": 21,
   "id": "68d6aba3-3726-429a-b289-a80f8399142a",
   "metadata": {},
   "outputs": [
    {
     "name": "stdout",
     "output_type": "stream",
     "text": [
      "120\n"
     ]
    }
   ],
   "source": [
    "from functools import reduce\n",
    "a = [1, 2, 3, 4, 5]\n",
    "res = reduce(lambda x, y: x * y, a)\n",
    "print(res)"
   ]
  },
  {
   "cell_type": "markdown",
   "id": "ba6ac2e1-655d-4ee8-87df-5949ac6f70d4",
   "metadata": {},
   "source": [
    "### Example 3: Using reduce() with operator Module\n",
    "This example uses `functools.reduce()` with `built-in functions from operator module` to perform `sum, product and string` concatenation on lists."
   ]
  },
  {
   "cell_type": "code",
   "execution_count": 22,
   "id": "a8853a6e-d0de-41cc-853c-a06116cb9c76",
   "metadata": {},
   "outputs": [
    {
     "name": "stdout",
     "output_type": "stream",
     "text": [
      "17\n",
      "180\n"
     ]
    }
   ],
   "source": [
    "import functools\n",
    "import operator\n",
    "a = [1, 3, 5, 6, 2]\n",
    "\n",
    "print(functools.reduce(operator.add, a))\n",
    "print(functools.reduce(operator.mul, a)) "
   ]
  },
  {
   "cell_type": "code",
   "execution_count": 24,
   "id": "8c256004-216f-4d69-863a-8580a3d7552f",
   "metadata": {},
   "outputs": [
    {
     "name": "stdout",
     "output_type": "stream",
     "text": [
      "Python is awesome\n"
     ]
    }
   ],
   "source": [
    "print(functools.reduce(operator.add, [\"Python \", \"is \", \"awesome\"]))"
   ]
  },
  {
   "cell_type": "markdown",
   "id": "1fea7b17-b65d-4cc0-9fd6-85043db79c4d",
   "metadata": {},
   "source": [
    "### Example 4: Using initializer\n",
    "This code uses `reduce()` with a lambda function and an initial value to sum a list, starting from a given number."
   ]
  },
  {
   "cell_type": "code",
   "execution_count": 25,
   "id": "7e713d6d-d024-4bde-909a-b0d85604c47f",
   "metadata": {},
   "outputs": [
    {
     "name": "stdout",
     "output_type": "stream",
     "text": [
      "16\n"
     ]
    }
   ],
   "source": [
    "from functools import reduce\n",
    "a = [1, 2, 3]\n",
    "res = reduce(lambda x, y: x + y, a, 10)\n",
    "print(res)"
   ]
  },
  {
   "cell_type": "markdown",
   "id": "88233cc4-da09-4e0b-b163-208c99974214",
   "metadata": {},
   "source": [
    "### Difference Between `reduce()` and `accumulate()`\n",
    "\n",
    "Both `reduce()` and `accumulate()` apply a function cumulatively to items in a sequence, but they behave differently:\n",
    "\n",
    "- **reduce():**  \n",
    "  Returns **only the final value** after applying the function to all elements.\n",
    "\n",
    "- **accumulate():**  \n",
    "  (from `itertools`) Returns an **iterator of all intermediate results**, so you can see the **step-by-step progression**.\n"
   ]
  },
  {
   "cell_type": "markdown",
   "id": "391d5519-ecb0-4f31-aec7-f1daa8299151",
   "metadata": {},
   "source": [
    "### Example: Using `accumulate()`"
   ]
  },
  {
   "cell_type": "code",
   "execution_count": 26,
   "id": "dd68beb4-2c99-4242-a76b-2632838db1be",
   "metadata": {},
   "outputs": [
    {
     "name": "stdout",
     "output_type": "stream",
     "text": [
      "Cumulative Sum: [1, 3, 6, 10, 15]\n"
     ]
    }
   ],
   "source": [
    "from itertools import accumulate\n",
    "import operator\n",
    "\n",
    "numbers = [1, 2, 3, 4, 5]\n",
    "\n",
    "# Cumulative sum\n",
    "cumulative_sum = list(accumulate(numbers))\n",
    "print(\"Cumulative Sum:\", cumulative_sum)"
   ]
  },
  {
   "cell_type": "code",
   "execution_count": 27,
   "id": "d17750cc-1b00-433a-afd7-2971fb925f73",
   "metadata": {},
   "outputs": [
    {
     "name": "stdout",
     "output_type": "stream",
     "text": [
      "Cumulative Product: [1, 2, 6, 24, 120]\n"
     ]
    }
   ],
   "source": [
    "# Cumulative product\n",
    "cumulative_product = list(accumulate(numbers, operator.mul))\n",
    "print(\"Cumulative Product:\", cumulative_product)"
   ]
  },
  {
   "cell_type": "markdown",
   "id": "5df14a5b-f22c-41a8-9215-2211b7135223",
   "metadata": {},
   "source": [
    "| Feature       | reduce()                           | accumulate()                        |\n",
    "|---------------|-----------------------------------|------------------------------------|\n",
    "| Return Value  | A single final value (e.g., 15)  | Intermediate results (e.g., [1, 3, 6, 10, 15]) |\n",
    "| Output Type   | Returns a single value            | Returns an iterator                 |\n",
    "| Use Case      | Useful when only the final result is needed | Useful when tracking cumulative steps |\n",
    "| Import        | From `functools`                  | From `itertools`                    |\n"
   ]
  },
  {
   "cell_type": "markdown",
   "id": "9429d2ac-6013-4fc8-a267-ebe170d2c32b",
   "metadata": {},
   "source": [
    "## Decorators in Python\n",
    "\n",
    "In Python, **decorators** are a flexible and elegant way to **modify or extend the behavior** of functions or methods **without changing their actual code**.\n",
    "\n",
    "A decorator is essentially a **function that takes another function as an argument** and **returns a new function** with enhanced functionality.\n",
    "\n",
    "Decorators are extremely useful when you want to add extra features such as **logging**, **authentication**, or **memoization** to existing functions in a clean and reusable way.\n",
    "\n",
    "You can think of a decorator as a **wrapper** that adds extra layers of functionality — just like putting icing on a cake without baking a new one.\n",
    "\n",
    "They are also commonly used in frameworks like **Flask** and **Django** for adding routes, permissions, and middleware functionality.\n",
    "\n",
    "### 💡 In simple words:\n",
    "A decorator takes a function, adds something new to it, and gives it back smarter than before.\n"
   ]
  },
  {
   "attachments": {
    "8101d86f-753d-4207-8ff7-900d6d95e146.webp": {
     "image/webp": "[encoded data removed]"
    }
   },
   "cell_type": "markdown",
   "id": "978edb10-3aef-4eb2-accf-bba6496b50e2",
   "metadata": {},
   "source": [
    "![python_decorator.webp](attachment:8101d86f-753d-4207-8ff7-900d6d95e146.webp)"
   ]
  },
  {
   "cell_type": "markdown",
   "id": "1376beb0-a894-480b-8f89-78a9085c9c4f",
   "metadata": {},
   "source": [
    "### Example: A Simple Decorator"
   ]
  },
  {
   "cell_type": "code",
   "execution_count": 1,
   "id": "0a1de123-0c0a-46bd-b7f9-eadbd83756b3",
   "metadata": {},
   "outputs": [
    {
     "name": "stdout",
     "output_type": "stream",
     "text": [
      "Before calling the function...\n",
      "Hello, world!\n",
      "After calling the function...\n"
     ]
    }
   ],
   "source": [
    "def greet_decorator(func):\n",
    "    def wrapper():\n",
    "        print(\"Before calling the function...\")\n",
    "        func()\n",
    "        print(\"After calling the function...\")\n",
    "    return wrapper\n",
    "\n",
    "@greet_decorator\n",
    "def say_hello():\n",
    "    print(\"Hello, world!\")\n",
    "\n",
    "say_hello()"
   ]
  },
  {
   "cell_type": "markdown",
   "id": "a0102e63-2ced-4c0a-b167-1fcc37ca79bd",
   "metadata": {},
   "source": [
    "## Lets Understand how a Decorator Works\n",
    "\n",
    "#### 1. The Decorator Function\n",
    "- `greet_decorator` is a **function that accepts another function** (`func`) as its argument.  \n",
    "- When you write `@greet_decorator`, Python automatically passes the decorated function (like `say_hello`) as `func`.\n",
    "\n",
    "\n",
    "#### 2. Inner Function (Wrapper)\n",
    "- Inside `greet_decorator`, we define another function called `wrapper`.  \n",
    "- This `wrapper` function **adds extra code before and after** the original function (`func`).  \n",
    "\n",
    "Example:\n",
    "```python\n",
    "def wrapper():\n",
    "    print(\"Before calling the function...\")\n",
    "    func()\n",
    "    print(\"After calling the function...\")\n",
    "```\n",
    "\n",
    "#### 3. Returning the Wrapper\n",
    "- The decorator **returns the `wrapper` function** it does **not execute it yet**.  \n",
    "- `greet_decorator` gives back a **new function** that wraps around the original one.\n",
    "\n",
    "\n",
    "#### 4. What `@greet_decorator` Actually Does\n",
    "When you write:\n",
    "\n",
    "```python\n",
    "@greet_decorator\n",
    "def say_hello():\n",
    "    print(\"Hello!\")\n",
    "```\n",
    "\n",
    "##### What Happens Internally with a Decorator\n",
    "\n",
    "Python internally does this:\n",
    "\n",
    "```python\n",
    "say_hello = greet_decorator(say_hello)\n",
    "```\n",
    "That means:\n",
    "- `say_hello` is no longer the original function.  \n",
    "- It now refers to the wrapper function returned by the decorator.\n",
    "\n",
    "#### 5. When You Call `say_hello()`\n",
    "\n",
    "Here’s what happens step-by-step:\n",
    "\n",
    "- `\"Before calling the function...\"` → printed first\n",
    "- The original `say_hello()` runs → prints `\"Hello! World!\"`\n",
    "- `\"After calling the function...\"` → printed last"
   ]
  },
  {
   "cell_type": "markdown",
   "id": "15ce713f-a6a7-4aef-a7f0-3179c087633b",
   "metadata": {},
   "source": [
    "### Decorator with Parameters\n",
    "\n",
    "Decorators often need to work with functions that **accept arguments**.\n",
    "\n",
    "To make a decorator flexible, we use **`*args`** and **`**kwargs`** inside the `wrapper` function this allows it to handle **any number of positional and keyword arguments**.\n",
    "\n",
    "#### Key Points:\n",
    "- `*args` → captures all **positional arguments**.\n",
    "- `**kwargs` → captures all **keyword arguments**.\n",
    "- This makes the decorator **generic** and usable with functions of **any signature**.\n"
   ]
  },
  {
   "cell_type": "code",
   "execution_count": 4,
   "id": "16816090-d502-4634-9bf3-a76577215e3c",
   "metadata": {},
   "outputs": [],
   "source": [
    "def my_decorator(func):\n",
    "    def wrapper(*args, **kwargs):\n",
    "        print(\"Before the function is called.\")\n",
    "        result = func(*args, **kwargs)\n",
    "        print(\"After the function is called.\")\n",
    "        return result\n",
    "    return wrapper"
   ]
  },
  {
   "cell_type": "markdown",
   "id": "b79e292c-e2dd-4698-862a-991c03c43ad7",
   "metadata": {},
   "source": [
    "##### Now let’s see how this same decorator works for different types of function calls"
   ]
  },
  {
   "cell_type": "markdown",
   "id": "c03ea6b6-0c3e-46d5-bffd-0cefb7f1febe",
   "metadata": {},
   "source": [
    "##### Example 1: Single Argument"
   ]
  },
  {
   "cell_type": "code",
   "execution_count": 5,
   "id": "40d27044-9124-42c2-9dab-413c34f85116",
   "metadata": {},
   "outputs": [
    {
     "name": "stdout",
     "output_type": "stream",
     "text": [
      "Before the function is called.\n",
      "Hello, Kumaran!\n",
      "After the function is called.\n"
     ]
    }
   ],
   "source": [
    "@my_decorator\n",
    "def greet(name):\n",
    "    print(f\"Hello, {name}!\")\n",
    "\n",
    "greet(\"Kumaran\")"
   ]
  },
  {
   "cell_type": "markdown",
   "id": "0f7bc473-2643-41a1-ace1-e74924d8c1ad",
   "metadata": {},
   "source": [
    "##### Example 2: Multiple Positional Arguments"
   ]
  },
  {
   "cell_type": "code",
   "execution_count": 6,
   "id": "e4946d4a-6a14-41d1-9d1c-40b6d350a3e4",
   "metadata": {},
   "outputs": [
    {
     "name": "stdout",
     "output_type": "stream",
     "text": [
      "Before the function is called.\n",
      "Hello, Kumaran! You are 24 years old.\n",
      "After the function is called.\n"
     ]
    }
   ],
   "source": [
    "@my_decorator\n",
    "def greet(name, age):\n",
    "    print(f\"Hello, {name}! You are {age} years old.\")\n",
    "\n",
    "greet(\"Kumaran\", 24)"
   ]
  },
  {
   "cell_type": "markdown",
   "id": "7a10c431-2548-4a1c-839e-72f6a24a5f2b",
   "metadata": {},
   "source": [
    "##### Example 3: Using Keyword Arguments"
   ]
  },
  {
   "cell_type": "code",
   "execution_count": 7,
   "id": "513f7cda-6176-4b8a-96a8-d381f47ef92e",
   "metadata": {},
   "outputs": [
    {
     "name": "stdout",
     "output_type": "stream",
     "text": [
      "Before the function is called.\n",
      "Kumaran is 24 years old and lives in Bangalore.\n",
      "After the function is called.\n"
     ]
    }
   ],
   "source": [
    "@my_decorator\n",
    "def show_details(name, age, city):\n",
    "    print(f\"{name} is {age} years old and lives in {city}.\")\n",
    "\n",
    "show_details(name=\"Kumaran\", age=24, city=\"Bangalore\")"
   ]
  },
  {
   "cell_type": "markdown",
   "id": "71c55fea-4c13-47be-ace9-82e3b844a358",
   "metadata": {},
   "source": [
    "###  Quick Takeaway\n",
    "\n",
    "- `*args` → collects all **positional arguments** (like `\"Kumaran\"`, `24`)  \n",
    "- `**kwargs` → collects all **keyword arguments** (like `age=24`, `city=\"Chennai\"`)  \n",
    "- This makes your decorator work with **any function signature**, no matter how many arguments it has.\n"
   ]
  },
  {
   "cell_type": "code",
   "execution_count": null,
   "id": "6791365f-6757-476a-9a0d-cff3e50cbadb",
   "metadata": {},
   "outputs": [],
   "source": []
  }
 ],
 "metadata": {
  "kernelspec": {
   "display_name": "Python 3 (ipykernel)",
   "language": "python",
   "name": "python3"
  },
  "language_info": {
   "codemirror_mode": {
    "name": "ipython",
    "version": 3
   },
   "file_extension": ".py",
   "mimetype": "text/x-python",
   "name": "python",
   "nbconvert_exporter": "python",
   "pygments_lexer": "ipython3",
   "version": "3.13.5"
  }
 },
 "nbformat": 4,
 "nbformat_minor": 5
}

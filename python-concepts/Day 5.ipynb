{
 "cells": [
  {
   "cell_type": "code",
   "execution_count": null,
   "id": "4d8265bf-f50a-447f-a0e3-0b654a5c09b1",
   "metadata": {},
   "outputs": [],
   "source": []
  }
 ],
 "metadata": {
  "kernelspec": {
   "display_name": "",
   "name": ""
  },
  "language_info": {
   "name": ""
  }
 },
 "nbformat": 4,
 "nbformat_minor": 5
}

{
 "cells": [
  {
   "cell_type": "markdown",
   "id": "8700d9ef-6564-4465-8ff4-a2361929576a",
   "metadata": {},
   "source": [
    "### Welcome to Day 6 – Strings in Python!\n",
    "\n",
    "Today, we’re exploring **strings**, the part of Python that lets your programs **store messages**, **handle text**, and interact with users.  \n",
    "\n",
    "Strings are everywhere, from printing `\"Hello, World!\"` to storing **usernames**, **messages**, or entire **paragraphs**.  \n",
    "Knowing how to work with strings makes coding easier and more effective.  \n",
    "\n",
    "By the end of this session, you’ll know how to **create, manipulate, and play with strings like a Python pro.**.\n",
    "\n",
    "Grab a coffee, get comfortable, and let’s start working with **strings**!\n"
   ]
  },
  {
   "cell_type": "markdown",
   "id": "c0299a60-778a-4073-8194-ae36562e2a1d",
   "metadata": {},
   "source": [
    "### What is a String?\n",
    "\n",
    "In Python, a **string** is a **sequence of characters**. Think of it as **text** your program can read, store, and manipulate.  \n",
    "Strings can contain **letters, numbers, symbols, or spaces**.  \n",
    "\n",
    "Python treats strings as an **immutable sequence of characters**, which means once a string is created, you **cannot change its content directly**.  \n",
    "\n",
    "Strings are everywhere, from printing `\"Hello, World!\"` to storing **usernames**, **messages**, or entire **paragraphs**.  \n",
    "Understanding strings well will make your Python coding **smoother and more efficient**.\n"
   ]
  },
  {
   "cell_type": "markdown",
   "id": "26201569-d5bb-482b-9c8c-c749cfa4678a",
   "metadata": {},
   "source": [
    "### Creating Strings\n",
    "\n",
    "You can create **strings** in Python using:\n",
    "\n",
    "- **Single quotes:** `' '`\n"
   ]
  },
  {
   "cell_type": "code",
   "execution_count": 2,
   "id": "1f5f0cd7-9523-41a3-8776-0f1e447781a6",
   "metadata": {},
   "outputs": [
    {
     "name": "stdout",
     "output_type": "stream",
     "text": [
      "Albert\n"
     ]
    }
   ],
   "source": [
    "name = 'Albert'\n",
    "print(name)\n"
   ]
  },
  {
   "cell_type": "markdown",
   "id": "f5bfeecf-1598-4cbc-9c57-d10306864c97",
   "metadata": {},
   "source": [
    "- **Double quotes:** `\" \"`\n"
   ]
  },
  {
   "cell_type": "code",
   "execution_count": 4,
   "id": "f7002d88-ef4b-422f-9a7c-109271d6b3ff",
   "metadata": {},
   "outputs": [
    {
     "name": "stdout",
     "output_type": "stream",
     "text": [
      "Hello, World!\n"
     ]
    }
   ],
   "source": [
    "greeting = \"Hello, World!\"\n",
    "print(greeting)\n"
   ]
  },
  {
   "cell_type": "markdown",
   "id": "dfcde377-58ca-4b85-bb9b-b98faed6b3f8",
   "metadata": {},
   "source": [
    "- **Triple quotes:** `''' '''` or `\"\"\" \"\"\"`  \n",
    "Triple quotes are useful for **multi-line strings** or **docstrings**.\n"
   ]
  },
  {
   "cell_type": "code",
   "execution_count": 5,
   "id": "e1865d20-ac74-4c04-9bdb-3b635d5ece4c",
   "metadata": {},
   "outputs": [
    {
     "name": "stdout",
     "output_type": "stream",
     "text": [
      "This is a\n",
      "multi-line string\n",
      "in Python.\n"
     ]
    }
   ],
   "source": [
    "message = '''This is a\n",
    "multi-line string\n",
    "in Python.'''\n",
    "print(message)\n"
   ]
  },
  {
   "cell_type": "markdown",
   "id": "f1fe1bac-531b-4eed-8993-e2441bec6d33",
   "metadata": {},
   "source": [
    "##### Note\n",
    "Python treats **single** and **double quotes** the same.  \n",
    "**Triple quotes** are especially handy for writing **long messages** or **comments** inside strings.\n"
   ]
  },
  {
   "cell_type": "markdown",
   "id": "f54cf2d4-025d-4c52-ab37-4fd489e5f5b5",
   "metadata": {},
   "source": [
    "### Accessing and Indexing Strings\n",
    "\n",
    "Strings in Python are **sequences of characters**, which means you can access each character individually using an **index**.\n",
    "\n",
    "#### Positive Indexing\n",
    "Python starts counting **indices from 0**.  \n",
    "- The first character of a string is at **index 0**, the second at **index 1**, and so on.\n"
   ]
  },
  {
   "cell_type": "code",
   "execution_count": 6,
   "id": "f6331600-6384-438c-afa1-dc9c767362d8",
   "metadata": {},
   "outputs": [
    {
     "name": "stdout",
     "output_type": "stream",
     "text": [
      "P\n"
     ]
    }
   ],
   "source": [
    "word = \"Python\"\n",
    "print(word[0])      "
   ]
  },
  {
   "cell_type": "code",
   "execution_count": 7,
   "id": "371dd2ed-8f6f-46db-9a91-e27a883df066",
   "metadata": {},
   "outputs": [
    {
     "name": "stdout",
     "output_type": "stream",
     "text": [
      "h\n"
     ]
    }
   ],
   "source": [
    "print(word[3])   "
   ]
  },
  {
   "cell_type": "code",
   "execution_count": 8,
   "id": "0c878900-734e-4bd1-925c-87d40f2b1153",
   "metadata": {},
   "outputs": [
    {
     "name": "stdout",
     "output_type": "stream",
     "text": [
      "n\n"
     ]
    }
   ],
   "source": [
    "print(word[5])"
   ]
  },
  {
   "cell_type": "markdown",
   "id": "4d0f4a07-f32b-49d0-a9e6-796ff93aeb93",
   "metadata": {},
   "source": [
    "#### Negative Indexing\n",
    "\n",
    "Python also allows **negative indices**, which count from the **end of the string**.  \n",
    "- The last character has **index -1**, the second last **-2**, and so on.\n"
   ]
  },
  {
   "cell_type": "code",
   "execution_count": 9,
   "id": "67710c0a-67ab-4806-ac6e-f8ab39b733d2",
   "metadata": {},
   "outputs": [
    {
     "name": "stdout",
     "output_type": "stream",
     "text": [
      "n\n"
     ]
    }
   ],
   "source": [
    "word = \"Python\"\n",
    "print(word[-1])  "
   ]
  },
  {
   "cell_type": "code",
   "execution_count": 10,
   "id": "71a2164e-3723-41ee-9703-0ba03041c5cc",
   "metadata": {},
   "outputs": [
    {
     "name": "stdout",
     "output_type": "stream",
     "text": [
      "h\n"
     ]
    }
   ],
   "source": [
    "print(word[-3])"
   ]
  },
  {
   "cell_type": "markdown",
   "id": "4b8a2db2-03c8-46b5-aa15-db76cad28a56",
   "metadata": {},
   "source": [
    "### Key Takeaways\n",
    "\n",
    "- **Indexing** helps you pick any character from a string.  \n",
    "- **Positive indices** count from the **left (start)** of the string.  \n",
    "- **Negative indices** count from the **right (end)** of the string.\n"
   ]
  },
  {
   "cell_type": "markdown",
   "id": "2496e0a0-2d2b-4f96-87e5-9a0428f59495",
   "metadata": {},
   "source": [
    "### String Slicing in Python\n",
    "\n",
    "**String slicing** allows you to extract a **part of a string** (called a **substring**) by specifying a **range of indices**.\n"
   ]
  },
  {
   "cell_type": "markdown",
   "id": "3be642bd-2f81-4ad8-969a-b3394a9276f2",
   "metadata": {},
   "source": [
    "```python\n",
    "string[start:stop]"
   ]
  },
  {
   "cell_type": "markdown",
   "id": "2a5e1a33-0685-46f7-b43f-e8482bce6e67",
   "metadata": {},
   "source": [
    "- **start** → index to **begin the slice** (inclusive)  \n",
    "- **stop** → index to **end the slice** (exclusive)\n"
   ]
  },
  {
   "cell_type": "code",
   "execution_count": 12,
   "id": "ac6a7650-a461-463a-97cb-95f632921c78",
   "metadata": {},
   "outputs": [],
   "source": [
    "text = \"Python\""
   ]
  },
  {
   "cell_type": "code",
   "execution_count": 13,
   "id": "b3a71463-1d11-40d6-966d-7bb633164ce8",
   "metadata": {},
   "outputs": [
    {
     "name": "stdout",
     "output_type": "stream",
     "text": [
      "Pyth\n"
     ]
    }
   ],
   "source": [
    "print(text[0:4])"
   ]
  },
  {
   "cell_type": "markdown",
   "id": "7a6a6cf8-fabe-445f-8cf7-1fa588bd0580",
   "metadata": {},
   "source": [
    "- Starts at index `0`- `(P)` and goes up to index `4` but does not include the character at index `4` -`(o)`."
   ]
  },
  {
   "cell_type": "markdown",
   "id": "da2f339e-0aa7-47da-b1a0-5673913565cc",
   "metadata": {},
   "source": [
    "### Slicing with Step\n",
    "\n",
    "You can also specify a **step** to **skip characters** while slicing a string.\n"
   ]
  },
  {
   "cell_type": "code",
   "execution_count": 14,
   "id": "8e52f470-2fad-4733-96dd-3fe985d1b828",
   "metadata": {},
   "outputs": [
    {
     "name": "stdout",
     "output_type": "stream",
     "text": [
      "Pto\n"
     ]
    }
   ],
   "source": [
    "text = \"Python\"\n",
    "print(text[0:6:2]) "
   ]
  },
  {
   "cell_type": "markdown",
   "id": "0d652c58-4d2b-44e7-ad94-ba8033ebbb2d",
   "metadata": {},
   "source": [
    "- Starts at index `0`, goes up to `5`, picking every `2nd` character."
   ]
  },
  {
   "cell_type": "markdown",
   "id": "7e044cd0-564b-4a29-9b2a-2dcfd8baf10b",
   "metadata": {},
   "source": [
    "### Omitting Start or Stop\n",
    "\n",
    "- If **start** is omitted → Python assumes **0** (beginning of the string)  \n",
    "- If **stop** is omitted → Python assumes the **end of the string**\n"
   ]
  },
  {
   "cell_type": "code",
   "execution_count": 15,
   "id": "0f30b622-6277-4f11-a06c-696ddef93657",
   "metadata": {},
   "outputs": [],
   "source": [
    "text = \"Python\""
   ]
  },
  {
   "cell_type": "code",
   "execution_count": 16,
   "id": "628f37e0-348f-4b24-bdd2-4ac3b79bb3a6",
   "metadata": {},
   "outputs": [
    {
     "name": "stdout",
     "output_type": "stream",
     "text": [
      "Pyth\n"
     ]
    }
   ],
   "source": [
    "print(text[:4])"
   ]
  },
  {
   "cell_type": "code",
   "execution_count": 17,
   "id": "db76fda0-4d2c-4dbc-b04f-4eb4fb05aa66",
   "metadata": {},
   "outputs": [
    {
     "name": "stdout",
     "output_type": "stream",
     "text": [
      "thon\n"
     ]
    }
   ],
   "source": [
    "print(text[2:]) "
   ]
  },
  {
   "cell_type": "markdown",
   "id": "d6faad0d-bf4b-4e0f-96d8-6fd53ecbafa6",
   "metadata": {},
   "source": [
    "### Negative Slicing\n",
    "\n",
    "You can use **negative indices** with slicing to **extract characters from the end** of a string.\n"
   ]
  },
  {
   "cell_type": "code",
   "execution_count": 18,
   "id": "1f4d5bef-800e-405c-9da5-62895c370019",
   "metadata": {},
   "outputs": [
    {
     "name": "stdout",
     "output_type": "stream",
     "text": [
      "tho\n"
     ]
    }
   ],
   "source": [
    "text = \"Python\"\n",
    "print(text[-4:-1]) "
   ]
  },
  {
   "cell_type": "code",
   "execution_count": 19,
   "id": "bb246607-3cae-40e5-ab55-d5046d984b99",
   "metadata": {},
   "outputs": [
    {
     "name": "stdout",
     "output_type": "stream",
     "text": [
      "nohtyP\n"
     ]
    }
   ],
   "source": [
    "print(text[::-1])   #  (reverses the string)"
   ]
  },
  {
   "cell_type": "markdown",
   "id": "106031ca-f071-41c8-88b8-29df4a3b6f13",
   "metadata": {},
   "source": [
    "### Key Takeaways\n",
    "\n",
    "- Slicing extracts substrings using **start:stop:step**.  \n",
    "- Omitting **start** or **stop** defaults to the **beginning** or **end** of the string.  \n",
    "- **Negative indices** and **steps** can help slice from the right or **reverse strings**.\n"
   ]
  }
 ],
 "metadata": {
  "kernelspec": {
   "display_name": "Python 3 (ipykernel)",
   "language": "python",
   "name": "python3"
  },
  "language_info": {
   "codemirror_mode": {
    "name": "ipython",
    "version": 3
   },
   "file_extension": ".py",
   "mimetype": "text/x-python",
   "name": "python",
   "nbconvert_exporter": "python",
   "pygments_lexer": "ipython3",
   "version": "3.13.5"
  }
 },
 "nbformat": 4,
 "nbformat_minor": 5
}

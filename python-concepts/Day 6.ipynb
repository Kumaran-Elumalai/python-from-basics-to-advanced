{
 "cells": [
  {
   "cell_type": "markdown",
   "id": "8700d9ef-6564-4465-8ff4-a2361929576a",
   "metadata": {},
   "source": [
    "### Welcome to Day 6 – Strings in Python!\n",
    "\n",
    "Today, we’re exploring **strings**, the part of Python that lets your programs **store messages**, **handle text**, and interact with users.  \n",
    "\n",
    "Strings are everywhere, from printing `\"Hello, World!\"` to storing **usernames**, **messages**, or entire **paragraphs**.  \n",
    "Knowing how to work with strings makes coding easier and more effective.  \n",
    "\n",
    "By the end of this session, you’ll know how to **create, manipulate, and play with strings like a Python pro.**.\n",
    "\n",
    "Grab a coffee, get comfortable, and let’s start working with **strings**!\n"
   ]
  },
  {
   "cell_type": "markdown",
   "id": "c0299a60-778a-4073-8194-ae36562e2a1d",
   "metadata": {},
   "source": [
    "### What is a String?\n",
    "\n",
    "In Python, a **string** is a **sequence of characters**. Think of it as **text** your program can read, store, and manipulate.  \n",
    "Strings can contain **letters, numbers, symbols, or spaces**.  \n",
    "\n",
    "Python treats strings as an **immutable sequence of characters**, which means once a string is created, you **cannot change its content directly**.  \n",
    "\n",
    "Strings are everywhere, from printing `\"Hello, World!\"` to storing **usernames**, **messages**, or entire **paragraphs**.  \n",
    "Understanding strings well will make your Python coding **smoother and more efficient**.\n"
   ]
  },
  {
   "cell_type": "markdown",
   "id": "26201569-d5bb-482b-9c8c-c749cfa4678a",
   "metadata": {},
   "source": [
    "### Creating Strings\n",
    "\n",
    "You can create **strings** in Python using:\n",
    "\n",
    "- **Single quotes:** `' '`\n"
   ]
  },
  {
   "cell_type": "code",
   "execution_count": 2,
   "id": "1f5f0cd7-9523-41a3-8776-0f1e447781a6",
   "metadata": {},
   "outputs": [
    {
     "name": "stdout",
     "output_type": "stream",
     "text": [
      "Albert\n"
     ]
    }
   ],
   "source": [
    "name = 'Albert'\n",
    "print(name)\n"
   ]
  },
  {
   "cell_type": "markdown",
   "id": "f5bfeecf-1598-4cbc-9c57-d10306864c97",
   "metadata": {},
   "source": [
    "- **Double quotes:** `\" \"`\n"
   ]
  },
  {
   "cell_type": "code",
   "execution_count": 4,
   "id": "f7002d88-ef4b-422f-9a7c-109271d6b3ff",
   "metadata": {},
   "outputs": [
    {
     "name": "stdout",
     "output_type": "stream",
     "text": [
      "Hello, World!\n"
     ]
    }
   ],
   "source": [
    "greeting = \"Hello, World!\"\n",
    "print(greeting)\n"
   ]
  },
  {
   "cell_type": "markdown",
   "id": "dfcde377-58ca-4b85-bb9b-b98faed6b3f8",
   "metadata": {},
   "source": [
    "- **Triple quotes:** `''' '''` or `\"\"\" \"\"\"`  \n",
    "Triple quotes are useful for **multi-line strings** or **docstrings**.\n"
   ]
  },
  {
   "cell_type": "code",
   "execution_count": 5,
   "id": "e1865d20-ac74-4c04-9bdb-3b635d5ece4c",
   "metadata": {},
   "outputs": [
    {
     "name": "stdout",
     "output_type": "stream",
     "text": [
      "This is a\n",
      "multi-line string\n",
      "in Python.\n"
     ]
    }
   ],
   "source": [
    "message = '''This is a\n",
    "multi-line string\n",
    "in Python.'''\n",
    "print(message)\n"
   ]
  },
  {
   "cell_type": "markdown",
   "id": "f1fe1bac-531b-4eed-8993-e2441bec6d33",
   "metadata": {},
   "source": [
    "##### Note\n",
    "Python treats **single** and **double quotes** the same.  \n",
    "**Triple quotes** are especially handy for writing **long messages** or **comments** inside strings.\n"
   ]
  },
  {
   "cell_type": "markdown",
   "id": "f54cf2d4-025d-4c52-ab37-4fd489e5f5b5",
   "metadata": {},
   "source": [
    "### Accessing and Indexing Strings\n",
    "\n",
    "Strings in Python are **sequences of characters**, which means you can access each character individually using an **index**.\n",
    "\n",
    "#### Positive Indexing\n",
    "Python starts counting **indices from 0**.  \n",
    "- The first character of a string is at **index 0**, the second at **index 1**, and so on.\n"
   ]
  },
  {
   "cell_type": "code",
   "execution_count": 6,
   "id": "f6331600-6384-438c-afa1-dc9c767362d8",
   "metadata": {},
   "outputs": [
    {
     "name": "stdout",
     "output_type": "stream",
     "text": [
      "P\n"
     ]
    }
   ],
   "source": [
    "word = \"Python\"\n",
    "print(word[0])      "
   ]
  },
  {
   "cell_type": "code",
   "execution_count": 7,
   "id": "371dd2ed-8f6f-46db-9a91-e27a883df066",
   "metadata": {},
   "outputs": [
    {
     "name": "stdout",
     "output_type": "stream",
     "text": [
      "h\n"
     ]
    }
   ],
   "source": [
    "print(word[3])   "
   ]
  },
  {
   "cell_type": "code",
   "execution_count": 8,
   "id": "0c878900-734e-4bd1-925c-87d40f2b1153",
   "metadata": {},
   "outputs": [
    {
     "name": "stdout",
     "output_type": "stream",
     "text": [
      "n\n"
     ]
    }
   ],
   "source": [
    "print(word[5])"
   ]
  },
  {
   "cell_type": "markdown",
   "id": "4d0f4a07-f32b-49d0-a9e6-796ff93aeb93",
   "metadata": {},
   "source": [
    "#### Negative Indexing\n",
    "\n",
    "Python also allows **negative indices**, which count from the **end of the string**.  \n",
    "- The last character has **index -1**, the second last **-2**, and so on.\n"
   ]
  },
  {
   "cell_type": "code",
   "execution_count": 9,
   "id": "67710c0a-67ab-4806-ac6e-f8ab39b733d2",
   "metadata": {},
   "outputs": [
    {
     "name": "stdout",
     "output_type": "stream",
     "text": [
      "n\n"
     ]
    }
   ],
   "source": [
    "word = \"Python\"\n",
    "print(word[-1])  "
   ]
  },
  {
   "cell_type": "code",
   "execution_count": 10,
   "id": "71a2164e-3723-41ee-9703-0ba03041c5cc",
   "metadata": {},
   "outputs": [
    {
     "name": "stdout",
     "output_type": "stream",
     "text": [
      "h\n"
     ]
    }
   ],
   "source": [
    "print(word[-3])"
   ]
  },
  {
   "cell_type": "markdown",
   "id": "4b8a2db2-03c8-46b5-aa15-db76cad28a56",
   "metadata": {},
   "source": [
    "### Key Takeaways\n",
    "\n",
    "- **Indexing** helps you pick any character from a string.  \n",
    "- **Positive indices** count from the **left (start)** of the string.  \n",
    "- **Negative indices** count from the **right (end)** of the string.\n"
   ]
  },
  {
   "cell_type": "markdown",
   "id": "2496e0a0-2d2b-4f96-87e5-9a0428f59495",
   "metadata": {},
   "source": [
    "### String Slicing in Python\n",
    "\n",
    "**String slicing** allows you to extract a **part of a string** (called a **substring**) by specifying a **range of indices**.\n"
   ]
  },
  {
   "cell_type": "markdown",
   "id": "3be642bd-2f81-4ad8-969a-b3394a9276f2",
   "metadata": {},
   "source": [
    "```python\n",
    "string[start:stop]"
   ]
  },
  {
   "cell_type": "markdown",
   "id": "2a5e1a33-0685-46f7-b43f-e8482bce6e67",
   "metadata": {},
   "source": [
    "- **start** → index to **begin the slice** (inclusive)  \n",
    "- **stop** → index to **end the slice** (exclusive)\n"
   ]
  },
  {
   "cell_type": "code",
   "execution_count": 12,
   "id": "ac6a7650-a461-463a-97cb-95f632921c78",
   "metadata": {},
   "outputs": [],
   "source": [
    "text = \"Python\""
   ]
  },
  {
   "cell_type": "code",
   "execution_count": 13,
   "id": "b3a71463-1d11-40d6-966d-7bb633164ce8",
   "metadata": {},
   "outputs": [
    {
     "name": "stdout",
     "output_type": "stream",
     "text": [
      "Pyth\n"
     ]
    }
   ],
   "source": [
    "print(text[0:4])"
   ]
  },
  {
   "cell_type": "markdown",
   "id": "7a6a6cf8-fabe-445f-8cf7-1fa588bd0580",
   "metadata": {},
   "source": [
    "- Starts at index `0`- `(P)` and goes up to index `4` but does not include the character at index `4` -`(o)`."
   ]
  },
  {
   "cell_type": "markdown",
   "id": "da2f339e-0aa7-47da-b1a0-5673913565cc",
   "metadata": {},
   "source": [
    "### Slicing with Step\n",
    "\n",
    "You can also specify a **step** to **skip characters** while slicing a string.\n"
   ]
  },
  {
   "cell_type": "code",
   "execution_count": 14,
   "id": "8e52f470-2fad-4733-96dd-3fe985d1b828",
   "metadata": {},
   "outputs": [
    {
     "name": "stdout",
     "output_type": "stream",
     "text": [
      "Pto\n"
     ]
    }
   ],
   "source": [
    "text = \"Python\"\n",
    "print(text[0:6:2]) "
   ]
  },
  {
   "cell_type": "markdown",
   "id": "0d652c58-4d2b-44e7-ad94-ba8033ebbb2d",
   "metadata": {},
   "source": [
    "- Starts at index `0`, goes up to `5`, picking every `2nd` character."
   ]
  },
  {
   "cell_type": "markdown",
   "id": "7e044cd0-564b-4a29-9b2a-2dcfd8baf10b",
   "metadata": {},
   "source": [
    "### Omitting Start or Stop\n",
    "\n",
    "- If **start** is omitted → Python assumes **0** (beginning of the string)  \n",
    "- If **stop** is omitted → Python assumes the **end of the string**\n"
   ]
  },
  {
   "cell_type": "code",
   "execution_count": 15,
   "id": "0f30b622-6277-4f11-a06c-696ddef93657",
   "metadata": {},
   "outputs": [],
   "source": [
    "text = \"Python\""
   ]
  },
  {
   "cell_type": "code",
   "execution_count": 16,
   "id": "628f37e0-348f-4b24-bdd2-4ac3b79bb3a6",
   "metadata": {},
   "outputs": [
    {
     "name": "stdout",
     "output_type": "stream",
     "text": [
      "Pyth\n"
     ]
    }
   ],
   "source": [
    "print(text[:4])"
   ]
  },
  {
   "cell_type": "code",
   "execution_count": 17,
   "id": "db76fda0-4d2c-4dbc-b04f-4eb4fb05aa66",
   "metadata": {},
   "outputs": [
    {
     "name": "stdout",
     "output_type": "stream",
     "text": [
      "thon\n"
     ]
    }
   ],
   "source": [
    "print(text[2:]) "
   ]
  },
  {
   "cell_type": "markdown",
   "id": "d6faad0d-bf4b-4e0f-96d8-6fd53ecbafa6",
   "metadata": {},
   "source": [
    "### Negative Slicing\n",
    "\n",
    "You can use **negative indices** with slicing to **extract characters from the end** of a string.\n"
   ]
  },
  {
   "cell_type": "code",
   "execution_count": 18,
   "id": "1f4d5bef-800e-405c-9da5-62895c370019",
   "metadata": {},
   "outputs": [
    {
     "name": "stdout",
     "output_type": "stream",
     "text": [
      "tho\n"
     ]
    }
   ],
   "source": [
    "text = \"Python\"\n",
    "print(text[-4:-1]) "
   ]
  },
  {
   "cell_type": "code",
   "execution_count": 19,
   "id": "bb246607-3cae-40e5-ab55-d5046d984b99",
   "metadata": {},
   "outputs": [
    {
     "name": "stdout",
     "output_type": "stream",
     "text": [
      "nohtyP\n"
     ]
    }
   ],
   "source": [
    "print(text[::-1])   #  (reverses the string)"
   ]
  },
  {
   "cell_type": "markdown",
   "id": "106031ca-f071-41c8-88b8-29df4a3b6f13",
   "metadata": {},
   "source": [
    "### Key Takeaways\n",
    "\n",
    "- Slicing extracts substrings using **start:stop:step**.  \n",
    "- Omitting **start** or **stop** defaults to the **beginning** or **end** of the string.  \n",
    "- **Negative indices** and **steps** can help slice from the right or **reverse strings**.\n"
   ]
  },
  {
   "cell_type": "markdown",
   "id": "899df3be-5b7b-4b30-97ef-1be17cc05918",
   "metadata": {},
   "source": [
    "### String Operations in Python\n",
    "\n",
    "Strings in Python can be combined, repeated, checked for membership, and even iterated through, just like sequences.  \n",
    "Let’s explore these basic but powerful operations.\n"
   ]
  },
  {
   "cell_type": "markdown",
   "id": "5b5d8e68-dfb7-4244-a7a6-655de1efb602",
   "metadata": {},
   "source": [
    "#### 1. Concatenation (+)\n",
    "\n",
    "Concatenation means joining two or more strings together using the `+` operator."
   ]
  },
  {
   "cell_type": "code",
   "execution_count": 2,
   "id": "a3dbe07f-ad3b-4f79-ba64-1e5fde2550d7",
   "metadata": {},
   "outputs": [
    {
     "name": "stdout",
     "output_type": "stream",
     "text": [
      "Kumaran Elumalai\n"
     ]
    }
   ],
   "source": [
    "first_name = \"Kumaran\"\n",
    "last_name = \"Elumalai\"\n",
    "full_name = first_name + \" \" + last_name\n",
    "print(full_name)"
   ]
  },
  {
   "cell_type": "markdown",
   "id": "b4bd5d69-baf7-46eb-841b-294961b18cbb",
   "metadata": {},
   "source": [
    "**Note:**\n",
    "Only strings can be concatenated with strings. Trying to combine a string with a number directly will cause an error."
   ]
  },
  {
   "cell_type": "code",
   "execution_count": 4,
   "id": "8a0f7f75-99b8-451d-a777-3329ff157cff",
   "metadata": {},
   "outputs": [
    {
     "ename": "TypeError",
     "evalue": "can only concatenate str (not \"int\") to str",
     "output_type": "error",
     "traceback": [
      "\u001b[1;31m---------------------------------------------------------------------------\u001b[0m",
      "\u001b[1;31mTypeError\u001b[0m                                 Traceback (most recent call last)",
      "Cell \u001b[1;32mIn[4], line 4\u001b[0m\n\u001b[0;32m      2\u001b[0m name \u001b[38;5;241m=\u001b[39m \u001b[38;5;124m\"\u001b[39m\u001b[38;5;124mRaghu\u001b[39m\u001b[38;5;124m\"\u001b[39m\n\u001b[0;32m      3\u001b[0m age \u001b[38;5;241m=\u001b[39m \u001b[38;5;241m25\u001b[39m\n\u001b[1;32m----> 4\u001b[0m \u001b[38;5;28mprint\u001b[39m(\u001b[43mname\u001b[49m\u001b[43m \u001b[49m\u001b[38;5;241;43m+\u001b[39;49m\u001b[43m \u001b[49m\u001b[43mage\u001b[49m) \n",
      "\u001b[1;31mTypeError\u001b[0m: can only concatenate str (not \"int\") to str"
     ]
    }
   ],
   "source": [
    "# This will raise an error\n",
    "name = \"Raghu\"\n",
    "age = 25\n",
    "print(name + age) "
   ]
  },
  {
   "cell_type": "markdown",
   "id": "c68ee4d3-d646-41c0-afef-dd2b693a725f",
   "metadata": {},
   "source": [
    "**To fix it, convert the number to a string:**"
   ]
  },
  {
   "cell_type": "code",
   "execution_count": 5,
   "id": "266fd279-7e5e-4db2-a6d7-d77d6fc1cf6a",
   "metadata": {},
   "outputs": [
    {
     "name": "stdout",
     "output_type": "stream",
     "text": [
      "Raghu is 25 years old.\n"
     ]
    }
   ],
   "source": [
    "print(name + \" is \" + str(age) + \" years old.\")  "
   ]
  },
  {
   "cell_type": "markdown",
   "id": "6aee075e-c9aa-4974-85d6-446660bc7138",
   "metadata": {},
   "source": [
    "#### 2. Repetition (*)\n",
    "\n",
    "Repetition allows you to repeat a string multiple times using the `*` operator."
   ]
  },
  {
   "cell_type": "code",
   "execution_count": 6,
   "id": "18dcc3a7-8ca9-45aa-8bd8-c1da2769f2c3",
   "metadata": {},
   "outputs": [
    {
     "name": "stdout",
     "output_type": "stream",
     "text": [
      "Hi! Hi! Hi! \n"
     ]
    }
   ],
   "source": [
    "# Example: String Repetition\n",
    "word = \"Hi! \"\n",
    "print(word * 3)"
   ]
  },
  {
   "cell_type": "markdown",
   "id": "7ffa1bcb-96a1-4f59-b966-a14633e900ef",
   "metadata": {},
   "source": [
    "This can be useful for patterns or formatting repeated text."
   ]
  },
  {
   "cell_type": "markdown",
   "id": "8ef19219-090a-47d7-bf6a-c5a0ef097758",
   "metadata": {},
   "source": [
    "#### 3. Membership Operators (in, not in)\n",
    "\n",
    "You can check whether a substring exists inside another string using `in` or `not in`."
   ]
  },
  {
   "cell_type": "code",
   "execution_count": 7,
   "id": "2b1111cd-5ea4-4c29-be1f-83af1ae42ebb",
   "metadata": {},
   "outputs": [],
   "source": [
    "sentence = \"Python makes coding fun!\""
   ]
  },
  {
   "cell_type": "code",
   "execution_count": 8,
   "id": "c7954e0e-f430-43ec-95fc-8e49341d9638",
   "metadata": {},
   "outputs": [
    {
     "name": "stdout",
     "output_type": "stream",
     "text": [
      "True\n"
     ]
    }
   ],
   "source": [
    "print(\"Python\" in sentence)"
   ]
  },
  {
   "cell_type": "code",
   "execution_count": 9,
   "id": "c3c85237-9afb-407d-b959-de95c0738ecf",
   "metadata": {},
   "outputs": [
    {
     "name": "stdout",
     "output_type": "stream",
     "text": [
      "False\n"
     ]
    }
   ],
   "source": [
    "print(\"java\" in sentence) "
   ]
  },
  {
   "cell_type": "code",
   "execution_count": 10,
   "id": "a4f5560c-8389-4c08-bf05-170ae294ad07",
   "metadata": {},
   "outputs": [
    {
     "name": "stdout",
     "output_type": "stream",
     "text": [
      "False\n"
     ]
    }
   ],
   "source": [
    "print(\"coding\" not in sentence) "
   ]
  },
  {
   "cell_type": "markdown",
   "id": "fd814e3e-0077-417f-a6bc-088934a8fad2",
   "metadata": {},
   "source": [
    "**Note: These operators are `case-sensitive,` so `\"Python\"` and `\"python\"` are treated differently.**"
   ]
  },
  {
   "cell_type": "markdown",
   "id": "7423bfa4-79f5-4218-9c49-a3cbffb36ab9",
   "metadata": {},
   "source": [
    "#### 4. Iterating Over a String\n",
    "\n",
    "Since strings are sequences of characters, you can loop through them easily."
   ]
  },
  {
   "cell_type": "code",
   "execution_count": 12,
   "id": "df9a5963-8b2d-4abe-9be5-25d86078f7ca",
   "metadata": {},
   "outputs": [
    {
     "name": "stdout",
     "output_type": "stream",
     "text": [
      "G\n",
      "e\n",
      "n\n",
      " \n",
      "A\n",
      "I\n"
     ]
    }
   ],
   "source": [
    "language = \"Gen AI\"\n",
    "for letter in language:\n",
    "    print(letter)"
   ]
  },
  {
   "cell_type": "markdown",
   "id": "30feb253-94c2-4d96-8913-3b2ad480ff58",
   "metadata": {},
   "source": [
    "### You can also use loops to count characters or perform actions on each letter."
   ]
  },
  {
   "cell_type": "code",
   "execution_count": 14,
   "id": "f3e049e6-4c23-430f-ac77-64045ba82322",
   "metadata": {},
   "outputs": [
    {
     "name": "stdout",
     "output_type": "stream",
     "text": [
      "Number of 's': 4\n"
     ]
    }
   ],
   "source": [
    "word = \"mississippi\"\n",
    "count = 0\n",
    "for ch in word:\n",
    "    if ch == 's':\n",
    "        count += 1\n",
    "print(\"Number of 's':\", count)"
   ]
  },
  {
   "cell_type": "code",
   "execution_count": null,
   "id": "351d6ce4-58e5-410e-862e-970a9d5601ce",
   "metadata": {},
   "outputs": [],
   "source": []
  }
 ],
 "metadata": {
  "kernelspec": {
   "display_name": "Python 3 (ipykernel)",
   "language": "python",
   "name": "python3"
  },
  "language_info": {
   "codemirror_mode": {
    "name": "ipython",
    "version": 3
   },
   "file_extension": ".py",
   "mimetype": "text/x-python",
   "name": "python",
   "nbconvert_exporter": "python",
   "pygments_lexer": "ipython3",
   "version": "3.13.5"
  }
 },
 "nbformat": 4,
 "nbformat_minor": 5
}

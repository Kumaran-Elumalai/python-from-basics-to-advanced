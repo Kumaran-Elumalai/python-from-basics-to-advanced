{
 "cells": [
  {
   "cell_type": "markdown",
   "id": "75d8bacd-2f15-458a-8b5f-ecbbde7a27fe",
   "metadata": {},
   "source": [
    "## Day 4: Diving into Functions in Python\n",
    "\n",
    "Welcome back, coder!\n",
    "\n",
    "If you’ve made it this far through variables, loops, and conditionals, give yourself a little pat on the back (or maybe a coffee). You’ve built the foundation; now it’s time to make your code smarter and more reusable.\n",
    "\n",
    "Today, we’re entering the world of **functions**, the secret sauce that turns repetitive code into clean, efficient, and elegant programs.\n",
    "\n",
    "By the end of this day, you’ll not only understand what functions are but also how to **create**, **call**, and **enhance** them with arguments, return values, and a few pro tips that’ll make you look like a Python expert.\n"
   ]
  },
  {
   "cell_type": "markdown",
   "id": "09e62f3e-d74c-4387-b082-4d69ee457db9",
   "metadata": {},
   "source": [
    "## Python Functions\n",
    "\n",
    "**Python functions** are a block of statements that perform a specific task.  \n",
    "The main idea is to group together commonly used or repetitive operations into a single function, so you can reuse the code instead of writing it multiple times for different inputs.\n",
    "\n",
    "In simple terms, instead of repeating code, you **define a function once** and then **call it whenever needed**.\n"
   ]
  },
  {
   "cell_type": "markdown",
   "id": "e420d6fb-da56-405b-a344-436e92f7838f",
   "metadata": {},
   "source": [
    "### Defining a Function\n",
    "\n",
    "In Python, you can **define a function** using the `def` keyword.  \n",
    "A function can take **inputs (called parameters)** and performs a specific task when it is called.\n",
    "\n",
    "**Syntax:**\n",
    "```python\n",
    "def function_name(parameters):\n",
    "    # block of code\n"
   ]
  },
  {
   "cell_type": "code",
   "execution_count": null,
   "id": "f5b38fba-acc9-4f1d-bed5-dea279381e3f",
   "metadata": {},
   "outputs": [],
   "source": []
  }
 ],
 "metadata": {
  "kernelspec": {
   "display_name": "Python 3 (ipykernel)",
   "language": "python",
   "name": "python3"
  },
  "language_info": {
   "codemirror_mode": {
    "name": "ipython",
    "version": 3
   },
   "file_extension": ".py",
   "mimetype": "text/x-python",
   "name": "python",
   "nbconvert_exporter": "python",
   "pygments_lexer": "ipython3",
   "version": "3.13.5"
  }
 },
 "nbformat": 4,
 "nbformat_minor": 5
}
